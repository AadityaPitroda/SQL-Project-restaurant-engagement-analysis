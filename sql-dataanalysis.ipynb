{
 "cells": [
  {
   "cell_type": "markdown",
   "id": "8945cfe0",
   "metadata": {
    "papermill": {
     "duration": 0.02855,
     "end_time": "2024-06-01T02:55:28.602215",
     "exception": false,
     "start_time": "2024-06-01T02:55:28.573665",
     "status": "completed"
    },
    "tags": []
   },
   "source": [
    "# SQL Project for Data Analysis\n",
    "\n",
    "Unlock the insights hidden within your data to drive strategic decision-making and uncover new opportunities for growth. Explore how SQL analytics can transform your understanding of the restaurant industry and provide a competitive edge.\n",
    "\n",
    "\n",
    "# **Business Problem Solving using SQL: A Data Analytics Project**\n",
    "\n",
    "In the ever-evolving world of data, businesses rely on actionable insights to make informed decisions. This project delves into the power of SQL to unlock those insights! Here, we'll explore the art of data analysis and report making, leveraging SQL queries to extract valuable information and translate it into clear, concise reports.\n",
    "\n",
    "This repository provides a comprehensive journey through the project, including:\n",
    "\n",
    "- SQL Scripts: Meticulously crafted queries designed to unearth hidden trends and patterns within the data.\n",
    "- Data Analysis: Insights derived from the data, presented in an easily digestible format.\n",
    "- Report Making: Clear and concise reports that communicate findings effectively.\n",
    "\n",
    "Get ready to embark on a data exploration adventure!\n",
    "\n",
    "\n",
    "# About Yelp Dataset\n",
    "\n",
    "Yelp is a web and mobile platform that functions as a crowd-sourced local business review site. Users can submit reviews, photos and tips about business, while also browsing information and ratings left by others.\n",
    "\n",
    "# Agenda\n",
    "\n",
    "- Problem Statement\n",
    "- Research Objectives\n",
    "- Hypothesis\n",
    "- Data Overview\n",
    "- Analysis and Findings\n",
    "- Recommendation\n",
    "\n",
    "\n",
    "\n",
    "\n",
    "**Let's we dive into it**\n",
    "\n",
    "Installing and importing some usefull libraries during this project:\n",
    "\n",
    "**Library sqlalchemy:** SQLAlchemy is a popular open-source Python library designed for working with SQL databases. It acts as both a SQL toolkit and an Object Relational Mapper (ORM).\n",
    "\n",
    "Here's a breakdown of its key features:\n",
    "\n",
    "SQL Toolkit:  SQLAlchemy provides a powerful suite of tools for interacting with relational databases. You can write raw SQL queries or use a Pythonic domain language to construct database operations.\n",
    "\n",
    "Object Relational Mapper (ORM): An ORM simplifies working with databases by acting as a bridge between your Python objects and the relational database schema.  This allows you to interact with database tables using Python objects, reducing the need for writing raw SQL.\n",
    "\n",
    "**Library matplotlib:** A comprehensive Python library for creating static, animated, and interactive visualizations.\n",
    "- Strengths:\n",
    "Wide variety of plot types (line, scatter, bar, histogram, 3D plots, etc.)\n",
    "Customization options for plot elements (colors, lines, markers, labels, etc.)\n",
    "Integration with other scientific libraries like NumPy and pandas\n",
    "- Use Cases: \n",
    "Exploratory data analysis, creating publication-quality figures, data storytelling, interactive dashboards\n",
    "\n",
    "\n",
    "**Library pandas:** A powerful library for data analysis and manipulation in Python.\n",
    "- Strengths:\n",
    "Data structures: DataFrames (tabular data) and Series (one-dimensional labeled arrays)\n",
    "Loading data from various sources (CSV, Excel, SQL, JSON)\n",
    "Data cleaning, transformation, and analysis tools\n",
    "Time series functionality\n",
    "- Use Cases:\n",
    "Financial analysis, data cleaning, machine learning preprocessing, social science data analysis, scientific computing\n",
    "\n",
    "\n",
    "**Library NumPy:** The foundation for scientific computing in Python.\n",
    "- Strengths:\n",
    "Efficient multidimensional arrays (ndarrays)\n",
    "Linear algebra operations (matrix multiplication, vector math)\n",
    "Integration with other scientific libraries\n",
    "Broadcasting mechanism for efficient array operations\n",
    "- Use Cases:\n",
    "Numerical computations, scientific simulations, image processing, machine learning algorithms\n",
    "\n",
    "\n",
    "**Library JSON (JavaScript Object Notation):** A lightweight, human-readable data interchange format.\n",
    "- Strengths:\n",
    "Simple syntax based on key-value pairs\n",
    "Widely used for data exchange between web servers and applications\n",
    "Supported by most programming languages\n",
    "- Use Cases:\n",
    "API data exchange, configuration files, storing and transmitting structured data"
   ]
  },
  {
   "cell_type": "code",
   "execution_count": 1,
   "id": "e8c3833e",
   "metadata": {
    "execution": {
     "iopub.execute_input": "2024-06-01T02:55:28.652669Z",
     "iopub.status.busy": "2024-06-01T02:55:28.652152Z",
     "iopub.status.idle": "2024-06-01T02:56:05.515455Z",
     "shell.execute_reply": "2024-06-01T02:56:05.513534Z"
    },
    "papermill": {
     "duration": 36.91482,
     "end_time": "2024-06-01T02:56:05.540861",
     "exception": false,
     "start_time": "2024-06-01T02:55:28.626041",
     "status": "completed"
    },
    "tags": []
   },
   "outputs": [
    {
     "name": "stdout",
     "output_type": "stream",
     "text": [
      "Requirement already satisfied: sqlalchemy in /opt/conda/lib/python3.10/site-packages (2.0.25)\r\n",
      "Requirement already satisfied: typing-extensions>=4.6.0 in /opt/conda/lib/python3.10/site-packages (from sqlalchemy) (4.9.0)\r\n",
      "Requirement already satisfied: greenlet!=0.4.17 in /opt/conda/lib/python3.10/site-packages (from sqlalchemy) (3.0.3)\r\n",
      "Note: you may need to restart the kernel to use updated packages.\n"
     ]
    }
   ],
   "source": [
    "pip install sqlalchemy"
   ]
  },
  {
   "cell_type": "code",
   "execution_count": 2,
   "id": "d7cc6001",
   "metadata": {
    "execution": {
     "iopub.execute_input": "2024-06-01T02:56:05.590348Z",
     "iopub.status.busy": "2024-06-01T02:56:05.589309Z",
     "iopub.status.idle": "2024-06-01T02:58:48.469214Z",
     "shell.execute_reply": "2024-06-01T02:58:48.467678Z"
    },
    "papermill": {
     "duration": 162.930055,
     "end_time": "2024-06-01T02:58:48.494182",
     "exception": false,
     "start_time": "2024-06-01T02:56:05.564127",
     "status": "completed"
    },
    "tags": []
   },
   "outputs": [
    {
     "name": "stdout",
     "output_type": "stream",
     "text": [
      "Requirement already satisfied: matplotlib in /opt/conda/lib/python3.10/site-packages (3.7.5)\r\n",
      "\u001b[33mWARNING: Retrying (Retry(total=4, connect=None, read=None, redirect=None, status=None)) after connection broken by 'NewConnectionError('<pip._vendor.urllib3.connection.HTTPSConnection object at 0x7c787c980220>: Failed to establish a new connection: [Errno -3] Temporary failure in name resolution')': /simple/matplotlib/\u001b[0m\u001b[33m\r\n",
      "\u001b[0m\u001b[33mWARNING: Retrying (Retry(total=3, connect=None, read=None, redirect=None, status=None)) after connection broken by 'NewConnectionError('<pip._vendor.urllib3.connection.HTTPSConnection object at 0x7c787c980520>: Failed to establish a new connection: [Errno -3] Temporary failure in name resolution')': /simple/matplotlib/\u001b[0m\u001b[33m\r\n",
      "\u001b[0m\u001b[33mWARNING: Retrying (Retry(total=2, connect=None, read=None, redirect=None, status=None)) after connection broken by 'NewConnectionError('<pip._vendor.urllib3.connection.HTTPSConnection object at 0x7c787c9806d0>: Failed to establish a new connection: [Errno -3] Temporary failure in name resolution')': /simple/matplotlib/\u001b[0m\u001b[33m\r\n",
      "\u001b[0m\u001b[33mWARNING: Retrying (Retry(total=1, connect=None, read=None, redirect=None, status=None)) after connection broken by 'NewConnectionError('<pip._vendor.urllib3.connection.HTTPSConnection object at 0x7c787c980880>: Failed to establish a new connection: [Errno -3] Temporary failure in name resolution')': /simple/matplotlib/\u001b[0m\u001b[33m\r\n",
      "\u001b[0m\u001b[33mWARNING: Retrying (Retry(total=0, connect=None, read=None, redirect=None, status=None)) after connection broken by 'NewConnectionError('<pip._vendor.urllib3.connection.HTTPSConnection object at 0x7c787c980a30>: Failed to establish a new connection: [Errno -3] Temporary failure in name resolution')': /simple/matplotlib/\u001b[0m\u001b[33m\r\n",
      "\u001b[0mRequirement already satisfied: contourpy>=1.0.1 in /opt/conda/lib/python3.10/site-packages (from matplotlib) (1.2.0)\r\n",
      "Requirement already satisfied: cycler>=0.10 in /opt/conda/lib/python3.10/site-packages (from matplotlib) (0.12.1)\r\n",
      "Requirement already satisfied: fonttools>=4.22.0 in /opt/conda/lib/python3.10/site-packages (from matplotlib) (4.47.0)\r\n",
      "Requirement already satisfied: kiwisolver>=1.0.1 in /opt/conda/lib/python3.10/site-packages (from matplotlib) (1.4.5)\r\n",
      "Requirement already satisfied: numpy<2,>=1.20 in /opt/conda/lib/python3.10/site-packages (from matplotlib) (1.26.4)\r\n",
      "Requirement already satisfied: packaging>=20.0 in /opt/conda/lib/python3.10/site-packages (from matplotlib) (21.3)\r\n",
      "Requirement already satisfied: pillow>=6.2.0 in /opt/conda/lib/python3.10/site-packages (from matplotlib) (9.5.0)\r\n",
      "Requirement already satisfied: pyparsing>=2.3.1 in /opt/conda/lib/python3.10/site-packages (from matplotlib) (3.1.1)\r\n",
      "Requirement already satisfied: python-dateutil>=2.7 in /opt/conda/lib/python3.10/site-packages (from matplotlib) (2.9.0.post0)\r\n",
      "Requirement already satisfied: six>=1.5 in /opt/conda/lib/python3.10/site-packages (from python-dateutil>=2.7->matplotlib) (1.16.0)\r\n",
      "Note: you may need to restart the kernel to use updated packages.\n"
     ]
    }
   ],
   "source": [
    "pip install --upgrade matplotlib"
   ]
  },
  {
   "cell_type": "code",
   "execution_count": 3,
   "id": "769ccff9",
   "metadata": {
    "_cell_guid": "b1076dfc-b9ad-4769-8c92-a6c4dae69d19",
    "_uuid": "8f2839f25d086af736a60e9eeb907d3b93b6e0e5",
    "execution": {
     "iopub.execute_input": "2024-06-01T02:58:48.542649Z",
     "iopub.status.busy": "2024-06-01T02:58:48.542092Z",
     "iopub.status.idle": "2024-06-01T02:58:50.241043Z",
     "shell.execute_reply": "2024-06-01T02:58:50.239835Z"
    },
    "papermill": {
     "duration": 1.727601,
     "end_time": "2024-06-01T02:58:50.244718",
     "exception": false,
     "start_time": "2024-06-01T02:58:48.517117",
     "status": "completed"
    },
    "tags": []
   },
   "outputs": [],
   "source": [
    "import numpy as np # linear algebra\n",
    "import pandas as pd # data processing, CSV file I/O (e.g. pd.read_csv)\n",
    "import json\n",
    "from sqlalchemy import create_engine"
   ]
  },
  {
   "cell_type": "markdown",
   "id": "5d5b0103",
   "metadata": {
    "papermill": {
     "duration": 0.0236,
     "end_time": "2024-06-01T02:58:50.292725",
     "exception": false,
     "start_time": "2024-06-01T02:58:50.269125",
     "status": "completed"
    },
    "tags": []
   },
   "source": [
    "### DataBase Creation Code using pandas\n",
    "\n",
    "One by One opening (Datasets) file using JSON. \n",
    "\n",
    "\n",
    "\n",
    "1. Function:\n",
    "```read_json_to_df(file_path)```: This function reads a JSON file line by line and appends each line (which is a JSON object) to a list called ```data```. It uses the ```json.loads()``` function to parse each line into a Python dictionary.\n",
    "If the length of ```data``` reaches 10,000 (you can adjust this number based on your memory constraints), it converts data into a pandas DataFrame and yields it. This is a way of creating a generator that can handle large files by only loading a certain number of lines into memory at a time.\n",
    "\n",
    "After yielding the DataFrame, it resets ```data``` to an empty list and continues the process until all lines in the file have been read. If there are any remaining lines that haven’t been yielded when the file reading is complete, it yields those as well.\n",
    "\n",
    "2. List ```file_paths```: \n",
    "This is a list of file paths for the JSON files you want to read. In this case, it looks like it’s set up to read a set of files from a Kaggle dataset about Yelp.\n",
    "\n",
    "3. Dictionary Comprehension ```dfs```: \n",
    "This is where the ```read_json_to_df()``` function is actually called. For each file path in ```file_paths```, it calls ```read_json_to_df(file_path)``` and concatenates all the yielded DataFrames into one DataFrame using ```pd.concat()```. The ```ignore_index=True``` argument means that the index from each individual DataFrame is ignored and a new index is created for the concatenated DataFrame.\n",
    "\n",
    "The resulting DataFrame is then stored in a dictionary called ```dfs```, where the key is the name of the file (extracted by splitting the file path on ‘/’ and ‘.’), and the value is the DataFrame.\n",
    "So, in summary, this code reads multiple large JSON files from the specified paths, converts each file into a DataFrame, and stores all the DataFrames in a dictionary. This is a memory-efficient way to handle large datasets."
   ]
  },
  {
   "cell_type": "code",
   "execution_count": 4,
   "id": "043f4f40",
   "metadata": {
    "execution": {
     "iopub.execute_input": "2024-06-01T02:58:50.341771Z",
     "iopub.status.busy": "2024-06-01T02:58:50.341111Z",
     "iopub.status.idle": "2024-06-01T03:03:51.257400Z",
     "shell.execute_reply": "2024-06-01T03:03:51.254919Z"
    },
    "papermill": {
     "duration": 300.947552,
     "end_time": "2024-06-01T03:03:51.263788",
     "exception": false,
     "start_time": "2024-06-01T02:58:50.316236",
     "status": "completed"
    },
    "tags": []
   },
   "outputs": [],
   "source": [
    "def read_json_to_df(file_path):\n",
    "    data = []\n",
    "    with open(file_path, 'r') as f:\n",
    "        for line in f:\n",
    "            data.append(json.loads(line))\n",
    "            if len(data) >= 10000:  # Adjust this value based on your memory constraint\n",
    "                yield pd.DataFrame(data)\n",
    "                data = []\n",
    "    yield pd.DataFrame(data)\n",
    "\n",
    "file_paths = [\n",
    "    '/kaggle/input/yelp-dataset/yelp_academic_dataset_business.json',\n",
    "    '/kaggle/input/yelp-dataset/yelp_academic_dataset_checkin.json',\n",
    "    '/kaggle/input/yelp-dataset/yelp_academic_dataset_review.json',\n",
    "    '/kaggle/input/yelp-dataset/yelp_academic_dataset_tip.json',\n",
    "    '/kaggle/input/yelp-dataset/yelp_academic_dataset_user.json'\n",
    "]\n",
    "\n",
    "dfs = {file_path.split('/')[-1].split('.')[0]: pd.concat(read_json_to_df(file_path), ignore_index=True) for file_path in file_paths}"
   ]
  },
  {
   "cell_type": "code",
   "execution_count": 5,
   "id": "10076df0",
   "metadata": {
    "execution": {
     "iopub.execute_input": "2024-06-01T03:03:51.318532Z",
     "iopub.status.busy": "2024-06-01T03:03:51.317186Z",
     "iopub.status.idle": "2024-06-01T03:03:51.326154Z",
     "shell.execute_reply": "2024-06-01T03:03:51.324868Z"
    },
    "papermill": {
     "duration": 0.038504,
     "end_time": "2024-06-01T03:03:51.329971",
     "exception": false,
     "start_time": "2024-06-01T03:03:51.291467",
     "status": "completed"
    },
    "tags": []
   },
   "outputs": [
    {
     "name": "stdout",
     "output_type": "stream",
     "text": [
      "The shape of yelp_academic_dataset_business DataFrame is: (150346, 14)\n",
      "The shape of yelp_academic_dataset_checkin DataFrame is: (131930, 2)\n",
      "The shape of yelp_academic_dataset_review DataFrame is: (6990280, 9)\n",
      "The shape of yelp_academic_dataset_tip DataFrame is: (908915, 5)\n",
      "The shape of yelp_academic_dataset_user DataFrame is: (1987897, 22)\n"
     ]
    }
   ],
   "source": [
    "# Printing loaded DataFrames\n",
    "for name, df in dfs.items():\n",
    "    print(f\"The shape of {name} DataFrame is: {df.shape}\")\n"
   ]
  },
  {
   "cell_type": "code",
   "execution_count": 6,
   "id": "751347a7",
   "metadata": {
    "execution": {
     "iopub.execute_input": "2024-06-01T03:03:51.378433Z",
     "iopub.status.busy": "2024-06-01T03:03:51.378028Z",
     "iopub.status.idle": "2024-06-01T03:03:52.143329Z",
     "shell.execute_reply": "2024-06-01T03:03:52.141783Z"
    },
    "papermill": {
     "duration": 0.793057,
     "end_time": "2024-06-01T03:03:52.146131",
     "exception": false,
     "start_time": "2024-06-01T03:03:51.353074",
     "status": "completed"
    },
    "tags": []
   },
   "outputs": [
    {
     "name": "stdout",
     "output_type": "stream",
     "text": [
      "Columns dropped successfully!\n"
     ]
    }
   ],
   "source": [
    "# Removing Two Un-wanted Columns from DataFrams Which were stored in business_df variable.\n",
    "\n",
    "business_df = dfs['yelp_academic_dataset_business']\n",
    "\n",
    "if 'attributes' in business_df.columns and 'hours' in business_df.columns:\n",
    "  # Drop columns if they exist\n",
    "  business_df.drop(['attributes', 'hours'], axis=1, inplace=True)\n",
    "  print('Columns dropped successfully!')\n",
    "else:\n",
    "  # Print message if columns are not found\n",
    "  print('Columns \"attributes\" and/or \"hours\" not found in DataFrame.')\n",
    "\n"
   ]
  },
  {
   "cell_type": "markdown",
   "id": "a55e8ebd",
   "metadata": {
    "papermill": {
     "duration": 0.023137,
     "end_time": "2024-06-01T03:03:52.192750",
     "exception": false,
     "start_time": "2024-06-01T03:03:52.169613",
     "status": "completed"
    },
    "tags": []
   },
   "source": [
    "1. ```create_engine('sqlite:///yelp.db')```: \n",
    "This line creates a SQLAlchemy Engine that will interact with the SQLite database ```yelp.db```. The Engine is a starting point for any SQLAlchemy application. It’s “home base” for the actual database and its DBAPI, delivered to the SQLAlchemy application through a connection pool and a Dialect, which describes how to talk to a specific kind of database/DBAPI combination.\n",
    "2. Function ```load_dataframe(df, table_name, engine)```: \n",
    "This function takes a DataFrame ```df```, a ```table_name``` string, and a SQLAlchemy ```engine``` as input. It uses the ```to_sql()``` function of the DataFrame to load the DataFrame into a SQL database. The ```con``` parameter is the SQLAlchemy engine, ```if_exists = 'replace'``` means that if a table with the same name already exists in the database, it will be replaced with the new data. ```index = False``` means that the DataFrame index will not be written to the table.\n",
    "3. DataFrame Extraction: \n",
    "The ```dfs``` dictionary (created in the previous code you shared) contains DataFrames loaded from JSON files. This code extracts each DataFrame from the dictionary and assigns it to a variable.\n",
    "4. Loading DataFrames into Database:\n",
    "The ```load_dataframe()``` function is called for each DataFrame, with the DataFrame, the desired table name, and the SQLAlchemy engine as arguments. This loads each DataFrame into a separate table in the SQLite database.\n",
    "5. Print Statement: \n",
    "Once all the DataFrames have been loaded into the database, a message is printed to indicate that the operation was successful.\n",
    "\n",
    "So, in summary, this code takes a set of pandas DataFrames, each containing data from a different Yelp dataset, and loads each DataFrame into a separate table in a SQLite database. This is a common way to store large datasets for further analysis."
   ]
  },
  {
   "cell_type": "code",
   "execution_count": 7,
   "id": "c41c0716",
   "metadata": {
    "execution": {
     "iopub.execute_input": "2024-06-01T03:03:52.244618Z",
     "iopub.status.busy": "2024-06-01T03:03:52.243412Z",
     "iopub.status.idle": "2024-06-01T03:08:48.616577Z",
     "shell.execute_reply": "2024-06-01T03:08:48.615222Z"
    },
    "papermill": {
     "duration": 296.429066,
     "end_time": "2024-06-01T03:08:48.644940",
     "exception": false,
     "start_time": "2024-06-01T03:03:52.215874",
     "status": "completed"
    },
    "tags": []
   },
   "outputs": [
    {
     "name": "stdout",
     "output_type": "stream",
     "text": [
      "Loaded each Dataframe into a separate table\n"
     ]
    }
   ],
   "source": [
    "engine = create_engine('sqlite:///yelp.db')\n",
    "\n",
    "def load_dataframe(df, table_name, engine):\n",
    "    df.to_sql(table_name, con = engine, if_exists = 'replace', index = False)\n",
    "    \n",
    "business_DF = dfs['yelp_academic_dataset_business']\n",
    "checkin_DF = dfs['yelp_academic_dataset_checkin']\n",
    "review_DF = dfs['yelp_academic_dataset_review']\n",
    "tip_DF = dfs['yelp_academic_dataset_tip']\n",
    "user_DF = dfs['yelp_academic_dataset_user']\n",
    "\n",
    "\n",
    "# Load each Dataframe into a separate table\n",
    "load_dataframe(business_DF, 'business', engine)\n",
    "load_dataframe(checkin_DF, 'checkin', engine)\n",
    "load_dataframe(review_DF, 'review', engine)\n",
    "load_dataframe(tip_DF, 'tip', engine)\n",
    "load_dataframe(user_DF, 'user', engine)\n",
    "\n",
    "print('Loaded each Dataframe into a separate table')\n"
   ]
  },
  {
   "cell_type": "markdown",
   "id": "44b1357d",
   "metadata": {
    "papermill": {
     "duration": 0.024224,
     "end_time": "2024-06-01T03:08:48.693513",
     "exception": false,
     "start_time": "2024-06-01T03:08:48.669289",
     "status": "completed"
    },
    "tags": []
   },
   "source": [
    "## Problem Statement\n",
    "\n",
    "**In a competitive market like the restaurant industry, understanding the factors that influence business success is crucial for stakeholders. Utlizing the Yelp dataset, this project aims to investigate the relationship between user engagement ( reviews, tips, and check-ins ) and business success metrices ( review count, ratings ) for restaurant.**\n",
    "\n",
    "## Reseach Objectives\n",
    "\n",
    "1. **Quantify the correlation between user engagement (reviews, tips, check-ins) and review count/average star rating:** This will help us determine if the restaurants with higher user engagement experience a corresponding increases in reviews and ratings.\n",
    "\n",
    "2. **Analyze the impact of sentiment on review count and average star ratings:** We will investigate if positive sentiment in reviews and tips translates to higher star ratings and potentially influences the total number of reviews left.\n",
    "\n",
    "3. **Time trends in User engagement:** We will explore if consistent user engagement over time is a stronger indicator of long-term success compared to sporadic bursts of activity.\n",
    "\n",
    "\n",
    "## Hypothesis Testing\n",
    "\n",
    "- Higher levels of user engagement (more reviews, tips, and check-ins) correlate with higher review counts and ratings for restaurants.\n",
    "- Positive sentiment expressed in reviews and tips contributes to higher overall ratings and review counts for restaurants.\n",
    "- Consistent engagement over time is positively associated with sustained business success for restaurants."
   ]
  },
  {
   "cell_type": "markdown",
   "id": "11f20359",
   "metadata": {
    "papermill": {
     "duration": 0.195473,
     "end_time": "2024-06-01T03:08:48.913005",
     "exception": false,
     "start_time": "2024-06-01T03:08:48.717532",
     "status": "completed"
    },
    "tags": []
   },
   "source": [
    "### **Importing Librabries:** \n",
    "That are helpful in analysis and Visualize the data."
   ]
  },
  {
   "cell_type": "code",
   "execution_count": 8,
   "id": "cf7253b8",
   "metadata": {
    "execution": {
     "iopub.execute_input": "2024-06-01T03:08:48.963516Z",
     "iopub.status.busy": "2024-06-01T03:08:48.963034Z",
     "iopub.status.idle": "2024-06-01T03:08:51.107091Z",
     "shell.execute_reply": "2024-06-01T03:08:51.105742Z"
    },
    "papermill": {
     "duration": 2.172917,
     "end_time": "2024-06-01T03:08:51.110431",
     "exception": false,
     "start_time": "2024-06-01T03:08:48.937514",
     "status": "completed"
    },
    "tags": []
   },
   "outputs": [],
   "source": [
    "import pandas as pd\n",
    "import matplotlib.pyplot as plt\n",
    "import seaborn as sns \n",
    "from datetime import datetime\n",
    "import numpy as np\n",
    "import sqlite3\n",
    "import folium\n",
    "import pandas as pd\n",
    "from geopy.geocoders import Nominatim\n",
    "from IPython.display import display\n",
    "import warnings\n",
    "warnings.filterwarnings('ignore')"
   ]
  },
  {
   "cell_type": "code",
   "execution_count": 9,
   "id": "3000325a",
   "metadata": {
    "execution": {
     "iopub.execute_input": "2024-06-01T03:08:51.161668Z",
     "iopub.status.busy": "2024-06-01T03:08:51.160277Z",
     "iopub.status.idle": "2024-06-01T03:08:51.166870Z",
     "shell.execute_reply": "2024-06-01T03:08:51.165576Z"
    },
    "papermill": {
     "duration": 0.034626,
     "end_time": "2024-06-01T03:08:51.169315",
     "exception": false,
     "start_time": "2024-06-01T03:08:51.134689",
     "status": "completed"
    },
    "tags": []
   },
   "outputs": [],
   "source": [
    "# Creating a Database Connection\n",
    "# Make sure that database in same folder\n",
    "con = sqlite3.connect('yelp.db')"
   ]
  },
  {
   "cell_type": "code",
   "execution_count": 10,
   "id": "1454b436",
   "metadata": {
    "execution": {
     "iopub.execute_input": "2024-06-01T03:08:51.219842Z",
     "iopub.status.busy": "2024-06-01T03:08:51.219368Z",
     "iopub.status.idle": "2024-06-01T03:08:51.227631Z",
     "shell.execute_reply": "2024-06-01T03:08:51.226538Z"
    },
    "papermill": {
     "duration": 0.037289,
     "end_time": "2024-06-01T03:08:51.230844",
     "exception": false,
     "start_time": "2024-06-01T03:08:51.193555",
     "status": "completed"
    },
    "tags": []
   },
   "outputs": [],
   "source": [
    "# We have taken a \"table\" name variable to store all tables from database, to get to know that how much table present in DB\n",
    "\n",
    "# This SQL query, SELECT name from sqlite_master where type = 'table', is used to retrieve the names of all tables within a SQLite database. Here's a breakdown of its components:\n",
    "\n",
    "tables = pd.read_sql_query(\"SELECT name from sqlite_master where type = 'table'\", con)"
   ]
  },
  {
   "cell_type": "code",
   "execution_count": 11,
   "id": "973a2595",
   "metadata": {
    "execution": {
     "iopub.execute_input": "2024-06-01T03:08:51.281790Z",
     "iopub.status.busy": "2024-06-01T03:08:51.281379Z",
     "iopub.status.idle": "2024-06-01T03:08:51.300214Z",
     "shell.execute_reply": "2024-06-01T03:08:51.299105Z"
    },
    "papermill": {
     "duration": 0.047123,
     "end_time": "2024-06-01T03:08:51.302842",
     "exception": false,
     "start_time": "2024-06-01T03:08:51.255719",
     "status": "completed"
    },
    "tags": []
   },
   "outputs": [
    {
     "data": {
      "text/html": [
       "<div>\n",
       "<style scoped>\n",
       "    .dataframe tbody tr th:only-of-type {\n",
       "        vertical-align: middle;\n",
       "    }\n",
       "\n",
       "    .dataframe tbody tr th {\n",
       "        vertical-align: top;\n",
       "    }\n",
       "\n",
       "    .dataframe thead th {\n",
       "        text-align: right;\n",
       "    }\n",
       "</style>\n",
       "<table border=\"1\" class=\"dataframe\">\n",
       "  <thead>\n",
       "    <tr style=\"text-align: right;\">\n",
       "      <th></th>\n",
       "      <th>name</th>\n",
       "    </tr>\n",
       "  </thead>\n",
       "  <tbody>\n",
       "    <tr>\n",
       "      <th>0</th>\n",
       "      <td>business</td>\n",
       "    </tr>\n",
       "    <tr>\n",
       "      <th>1</th>\n",
       "      <td>checkin</td>\n",
       "    </tr>\n",
       "    <tr>\n",
       "      <th>2</th>\n",
       "      <td>review</td>\n",
       "    </tr>\n",
       "    <tr>\n",
       "      <th>3</th>\n",
       "      <td>tip</td>\n",
       "    </tr>\n",
       "    <tr>\n",
       "      <th>4</th>\n",
       "      <td>user</td>\n",
       "    </tr>\n",
       "  </tbody>\n",
       "</table>\n",
       "</div>"
      ],
      "text/plain": [
       "       name\n",
       "0  business\n",
       "1   checkin\n",
       "2    review\n",
       "3       tip\n",
       "4      user"
      ]
     },
     "execution_count": 11,
     "metadata": {},
     "output_type": "execute_result"
    }
   ],
   "source": [
    "tables"
   ]
  },
  {
   "cell_type": "code",
   "execution_count": 12,
   "id": "e60443d8",
   "metadata": {
    "execution": {
     "iopub.execute_input": "2024-06-01T03:08:51.353106Z",
     "iopub.status.busy": "2024-06-01T03:08:51.352661Z",
     "iopub.status.idle": "2024-06-01T03:08:51.439349Z",
     "shell.execute_reply": "2024-06-01T03:08:51.437986Z"
    },
    "papermill": {
     "duration": 0.115282,
     "end_time": "2024-06-01T03:08:51.442220",
     "exception": false,
     "start_time": "2024-06-01T03:08:51.326938",
     "status": "completed"
    },
    "tags": []
   },
   "outputs": [
    {
     "data": {
      "text/html": [
       "<div>\n",
       "<style scoped>\n",
       "    .dataframe tbody tr th:only-of-type {\n",
       "        vertical-align: middle;\n",
       "    }\n",
       "\n",
       "    .dataframe tbody tr th {\n",
       "        vertical-align: top;\n",
       "    }\n",
       "\n",
       "    .dataframe thead th {\n",
       "        text-align: right;\n",
       "    }\n",
       "</style>\n",
       "<table border=\"1\" class=\"dataframe\">\n",
       "  <thead>\n",
       "    <tr style=\"text-align: right;\">\n",
       "      <th></th>\n",
       "      <th>business_id</th>\n",
       "      <th>name</th>\n",
       "      <th>address</th>\n",
       "      <th>city</th>\n",
       "      <th>state</th>\n",
       "      <th>postal_code</th>\n",
       "      <th>latitude</th>\n",
       "      <th>longitude</th>\n",
       "      <th>stars</th>\n",
       "      <th>review_count</th>\n",
       "      <th>is_open</th>\n",
       "      <th>categories</th>\n",
       "    </tr>\n",
       "  </thead>\n",
       "  <tbody>\n",
       "    <tr>\n",
       "      <th>0</th>\n",
       "      <td>Pns2l4eNsfO8kk83dixA6A</td>\n",
       "      <td>Abby Rappoport, LAC, CMQ</td>\n",
       "      <td>1616 Chapala St, Ste 2</td>\n",
       "      <td>Santa Barbara</td>\n",
       "      <td>CA</td>\n",
       "      <td>93101</td>\n",
       "      <td>34.426679</td>\n",
       "      <td>-119.711197</td>\n",
       "      <td>5.0</td>\n",
       "      <td>7</td>\n",
       "      <td>0</td>\n",
       "      <td>Doctors, Traditional Chinese Medicine, Naturop...</td>\n",
       "    </tr>\n",
       "    <tr>\n",
       "      <th>1</th>\n",
       "      <td>mpf3x-BjTdTEA3yCZrAYPw</td>\n",
       "      <td>The UPS Store</td>\n",
       "      <td>87 Grasso Plaza Shopping Center</td>\n",
       "      <td>Affton</td>\n",
       "      <td>MO</td>\n",
       "      <td>63123</td>\n",
       "      <td>38.551126</td>\n",
       "      <td>-90.335695</td>\n",
       "      <td>3.0</td>\n",
       "      <td>15</td>\n",
       "      <td>1</td>\n",
       "      <td>Shipping Centers, Local Services, Notaries, Ma...</td>\n",
       "    </tr>\n",
       "    <tr>\n",
       "      <th>2</th>\n",
       "      <td>tUFrWirKiKi_TAnsVWINQQ</td>\n",
       "      <td>Target</td>\n",
       "      <td>5255 E Broadway Blvd</td>\n",
       "      <td>Tucson</td>\n",
       "      <td>AZ</td>\n",
       "      <td>85711</td>\n",
       "      <td>32.223236</td>\n",
       "      <td>-110.880452</td>\n",
       "      <td>3.5</td>\n",
       "      <td>22</td>\n",
       "      <td>0</td>\n",
       "      <td>Department Stores, Shopping, Fashion, Home &amp; G...</td>\n",
       "    </tr>\n",
       "    <tr>\n",
       "      <th>3</th>\n",
       "      <td>MTSW4McQd7CbVtyjqoe9mw</td>\n",
       "      <td>St Honore Pastries</td>\n",
       "      <td>935 Race St</td>\n",
       "      <td>Philadelphia</td>\n",
       "      <td>PA</td>\n",
       "      <td>19107</td>\n",
       "      <td>39.955505</td>\n",
       "      <td>-75.155564</td>\n",
       "      <td>4.0</td>\n",
       "      <td>80</td>\n",
       "      <td>1</td>\n",
       "      <td>Restaurants, Food, Bubble Tea, Coffee &amp; Tea, B...</td>\n",
       "    </tr>\n",
       "    <tr>\n",
       "      <th>4</th>\n",
       "      <td>mWMc6_wTdE0EUBKIGXDVfA</td>\n",
       "      <td>Perkiomen Valley Brewery</td>\n",
       "      <td>101 Walnut St</td>\n",
       "      <td>Green Lane</td>\n",
       "      <td>PA</td>\n",
       "      <td>18054</td>\n",
       "      <td>40.338183</td>\n",
       "      <td>-75.471659</td>\n",
       "      <td>4.5</td>\n",
       "      <td>13</td>\n",
       "      <td>1</td>\n",
       "      <td>Brewpubs, Breweries, Food</td>\n",
       "    </tr>\n",
       "  </tbody>\n",
       "</table>\n",
       "</div>"
      ],
      "text/plain": [
       "              business_id                      name  \\\n",
       "0  Pns2l4eNsfO8kk83dixA6A  Abby Rappoport, LAC, CMQ   \n",
       "1  mpf3x-BjTdTEA3yCZrAYPw             The UPS Store   \n",
       "2  tUFrWirKiKi_TAnsVWINQQ                    Target   \n",
       "3  MTSW4McQd7CbVtyjqoe9mw        St Honore Pastries   \n",
       "4  mWMc6_wTdE0EUBKIGXDVfA  Perkiomen Valley Brewery   \n",
       "\n",
       "                           address           city state postal_code  \\\n",
       "0           1616 Chapala St, Ste 2  Santa Barbara    CA       93101   \n",
       "1  87 Grasso Plaza Shopping Center         Affton    MO       63123   \n",
       "2             5255 E Broadway Blvd         Tucson    AZ       85711   \n",
       "3                      935 Race St   Philadelphia    PA       19107   \n",
       "4                    101 Walnut St     Green Lane    PA       18054   \n",
       "\n",
       "    latitude   longitude  stars  review_count  is_open  \\\n",
       "0  34.426679 -119.711197    5.0             7        0   \n",
       "1  38.551126  -90.335695    3.0            15        1   \n",
       "2  32.223236 -110.880452    3.5            22        0   \n",
       "3  39.955505  -75.155564    4.0            80        1   \n",
       "4  40.338183  -75.471659    4.5            13        1   \n",
       "\n",
       "                                          categories  \n",
       "0  Doctors, Traditional Chinese Medicine, Naturop...  \n",
       "1  Shipping Centers, Local Services, Notaries, Ma...  \n",
       "2  Department Stores, Shopping, Fashion, Home & G...  \n",
       "3  Restaurants, Food, Bubble Tea, Coffee & Tea, B...  \n",
       "4                          Brewpubs, Breweries, Food  "
      ]
     },
     "metadata": {},
     "output_type": "display_data"
    },
    {
     "data": {
      "text/html": [
       "<div>\n",
       "<style scoped>\n",
       "    .dataframe tbody tr th:only-of-type {\n",
       "        vertical-align: middle;\n",
       "    }\n",
       "\n",
       "    .dataframe tbody tr th {\n",
       "        vertical-align: top;\n",
       "    }\n",
       "\n",
       "    .dataframe thead th {\n",
       "        text-align: right;\n",
       "    }\n",
       "</style>\n",
       "<table border=\"1\" class=\"dataframe\">\n",
       "  <thead>\n",
       "    <tr style=\"text-align: right;\">\n",
       "      <th></th>\n",
       "      <th>business_id</th>\n",
       "      <th>date</th>\n",
       "    </tr>\n",
       "  </thead>\n",
       "  <tbody>\n",
       "    <tr>\n",
       "      <th>0</th>\n",
       "      <td>---kPU91CF4Lq2-WlRu9Lw</td>\n",
       "      <td>2020-03-13 21:10:56, 2020-06-02 22:18:06, 2020...</td>\n",
       "    </tr>\n",
       "    <tr>\n",
       "      <th>1</th>\n",
       "      <td>--0iUa4sNDFiZFrAdIWhZQ</td>\n",
       "      <td>2010-09-13 21:43:09, 2011-05-04 23:08:15, 2011...</td>\n",
       "    </tr>\n",
       "    <tr>\n",
       "      <th>2</th>\n",
       "      <td>--30_8IhuyMHbSOcNWd6DQ</td>\n",
       "      <td>2013-06-14 23:29:17, 2014-08-13 23:20:22</td>\n",
       "    </tr>\n",
       "    <tr>\n",
       "      <th>3</th>\n",
       "      <td>--7PUidqRWpRSpXebiyxTg</td>\n",
       "      <td>2011-02-15 17:12:00, 2011-07-28 02:46:10, 2012...</td>\n",
       "    </tr>\n",
       "    <tr>\n",
       "      <th>4</th>\n",
       "      <td>--7jw19RH9JKXgFohspgQw</td>\n",
       "      <td>2014-04-21 20:42:11, 2014-04-28 21:04:46, 2014...</td>\n",
       "    </tr>\n",
       "  </tbody>\n",
       "</table>\n",
       "</div>"
      ],
      "text/plain": [
       "              business_id                                               date\n",
       "0  ---kPU91CF4Lq2-WlRu9Lw  2020-03-13 21:10:56, 2020-06-02 22:18:06, 2020...\n",
       "1  --0iUa4sNDFiZFrAdIWhZQ  2010-09-13 21:43:09, 2011-05-04 23:08:15, 2011...\n",
       "2  --30_8IhuyMHbSOcNWd6DQ           2013-06-14 23:29:17, 2014-08-13 23:20:22\n",
       "3  --7PUidqRWpRSpXebiyxTg  2011-02-15 17:12:00, 2011-07-28 02:46:10, 2012...\n",
       "4  --7jw19RH9JKXgFohspgQw  2014-04-21 20:42:11, 2014-04-28 21:04:46, 2014..."
      ]
     },
     "metadata": {},
     "output_type": "display_data"
    },
    {
     "data": {
      "text/html": [
       "<div>\n",
       "<style scoped>\n",
       "    .dataframe tbody tr th:only-of-type {\n",
       "        vertical-align: middle;\n",
       "    }\n",
       "\n",
       "    .dataframe tbody tr th {\n",
       "        vertical-align: top;\n",
       "    }\n",
       "\n",
       "    .dataframe thead th {\n",
       "        text-align: right;\n",
       "    }\n",
       "</style>\n",
       "<table border=\"1\" class=\"dataframe\">\n",
       "  <thead>\n",
       "    <tr style=\"text-align: right;\">\n",
       "      <th></th>\n",
       "      <th>review_id</th>\n",
       "      <th>user_id</th>\n",
       "      <th>business_id</th>\n",
       "      <th>stars</th>\n",
       "      <th>useful</th>\n",
       "      <th>funny</th>\n",
       "      <th>cool</th>\n",
       "      <th>text</th>\n",
       "      <th>date</th>\n",
       "    </tr>\n",
       "  </thead>\n",
       "  <tbody>\n",
       "    <tr>\n",
       "      <th>0</th>\n",
       "      <td>KU_O5udG6zpxOg-VcAEodg</td>\n",
       "      <td>mh_-eMZ6K5RLWhZyISBhwA</td>\n",
       "      <td>XQfwVwDr-v0ZS3_CbbE5Xw</td>\n",
       "      <td>3.0</td>\n",
       "      <td>0</td>\n",
       "      <td>0</td>\n",
       "      <td>0</td>\n",
       "      <td>If you decide to eat here, just be aware it is...</td>\n",
       "      <td>2018-07-07 22:09:11</td>\n",
       "    </tr>\n",
       "    <tr>\n",
       "      <th>1</th>\n",
       "      <td>BiTunyQ73aT9WBnpR9DZGw</td>\n",
       "      <td>OyoGAe7OKpv6SyGZT5g77Q</td>\n",
       "      <td>7ATYjTIgM3jUlt4UM3IypQ</td>\n",
       "      <td>5.0</td>\n",
       "      <td>1</td>\n",
       "      <td>0</td>\n",
       "      <td>1</td>\n",
       "      <td>I've taken a lot of spin classes over the year...</td>\n",
       "      <td>2012-01-03 15:28:18</td>\n",
       "    </tr>\n",
       "    <tr>\n",
       "      <th>2</th>\n",
       "      <td>saUsX_uimxRlCVr67Z4Jig</td>\n",
       "      <td>8g_iMtfSiwikVnbP2etR0A</td>\n",
       "      <td>YjUWPpI6HXG530lwP-fb2A</td>\n",
       "      <td>3.0</td>\n",
       "      <td>0</td>\n",
       "      <td>0</td>\n",
       "      <td>0</td>\n",
       "      <td>Family diner. Had the buffet. Eclectic assortm...</td>\n",
       "      <td>2014-02-05 20:30:30</td>\n",
       "    </tr>\n",
       "    <tr>\n",
       "      <th>3</th>\n",
       "      <td>AqPFMleE6RsU23_auESxiA</td>\n",
       "      <td>_7bHUi9Uuf5__HHc_Q8guQ</td>\n",
       "      <td>kxX2SOes4o-D3ZQBkiMRfA</td>\n",
       "      <td>5.0</td>\n",
       "      <td>1</td>\n",
       "      <td>0</td>\n",
       "      <td>1</td>\n",
       "      <td>Wow!  Yummy, different,  delicious.   Our favo...</td>\n",
       "      <td>2015-01-04 00:01:03</td>\n",
       "    </tr>\n",
       "    <tr>\n",
       "      <th>4</th>\n",
       "      <td>Sx8TMOWLNuJBWer-0pcmoA</td>\n",
       "      <td>bcjbaE6dDog4jkNY91ncLQ</td>\n",
       "      <td>e4Vwtrqf-wpJfwesgvdgxQ</td>\n",
       "      <td>4.0</td>\n",
       "      <td>1</td>\n",
       "      <td>0</td>\n",
       "      <td>1</td>\n",
       "      <td>Cute interior and owner (?) gave us tour of up...</td>\n",
       "      <td>2017-01-14 20:54:15</td>\n",
       "    </tr>\n",
       "  </tbody>\n",
       "</table>\n",
       "</div>"
      ],
      "text/plain": [
       "                review_id                 user_id             business_id  \\\n",
       "0  KU_O5udG6zpxOg-VcAEodg  mh_-eMZ6K5RLWhZyISBhwA  XQfwVwDr-v0ZS3_CbbE5Xw   \n",
       "1  BiTunyQ73aT9WBnpR9DZGw  OyoGAe7OKpv6SyGZT5g77Q  7ATYjTIgM3jUlt4UM3IypQ   \n",
       "2  saUsX_uimxRlCVr67Z4Jig  8g_iMtfSiwikVnbP2etR0A  YjUWPpI6HXG530lwP-fb2A   \n",
       "3  AqPFMleE6RsU23_auESxiA  _7bHUi9Uuf5__HHc_Q8guQ  kxX2SOes4o-D3ZQBkiMRfA   \n",
       "4  Sx8TMOWLNuJBWer-0pcmoA  bcjbaE6dDog4jkNY91ncLQ  e4Vwtrqf-wpJfwesgvdgxQ   \n",
       "\n",
       "   stars  useful  funny  cool  \\\n",
       "0    3.0       0      0     0   \n",
       "1    5.0       1      0     1   \n",
       "2    3.0       0      0     0   \n",
       "3    5.0       1      0     1   \n",
       "4    4.0       1      0     1   \n",
       "\n",
       "                                                text                 date  \n",
       "0  If you decide to eat here, just be aware it is...  2018-07-07 22:09:11  \n",
       "1  I've taken a lot of spin classes over the year...  2012-01-03 15:28:18  \n",
       "2  Family diner. Had the buffet. Eclectic assortm...  2014-02-05 20:30:30  \n",
       "3  Wow!  Yummy, different,  delicious.   Our favo...  2015-01-04 00:01:03  \n",
       "4  Cute interior and owner (?) gave us tour of up...  2017-01-14 20:54:15  "
      ]
     },
     "metadata": {},
     "output_type": "display_data"
    },
    {
     "data": {
      "text/html": [
       "<div>\n",
       "<style scoped>\n",
       "    .dataframe tbody tr th:only-of-type {\n",
       "        vertical-align: middle;\n",
       "    }\n",
       "\n",
       "    .dataframe tbody tr th {\n",
       "        vertical-align: top;\n",
       "    }\n",
       "\n",
       "    .dataframe thead th {\n",
       "        text-align: right;\n",
       "    }\n",
       "</style>\n",
       "<table border=\"1\" class=\"dataframe\">\n",
       "  <thead>\n",
       "    <tr style=\"text-align: right;\">\n",
       "      <th></th>\n",
       "      <th>user_id</th>\n",
       "      <th>business_id</th>\n",
       "      <th>text</th>\n",
       "      <th>date</th>\n",
       "      <th>compliment_count</th>\n",
       "    </tr>\n",
       "  </thead>\n",
       "  <tbody>\n",
       "    <tr>\n",
       "      <th>0</th>\n",
       "      <td>AGNUgVwnZUey3gcPCJ76iw</td>\n",
       "      <td>3uLgwr0qeCNMjKenHJwPGQ</td>\n",
       "      <td>Avengers time with the ladies.</td>\n",
       "      <td>2012-05-18 02:17:21</td>\n",
       "      <td>0</td>\n",
       "    </tr>\n",
       "    <tr>\n",
       "      <th>1</th>\n",
       "      <td>NBN4MgHP9D3cw--SnauTkA</td>\n",
       "      <td>QoezRbYQncpRqyrLH6Iqjg</td>\n",
       "      <td>They have lots of good deserts and tasty cuban...</td>\n",
       "      <td>2013-02-05 18:35:10</td>\n",
       "      <td>0</td>\n",
       "    </tr>\n",
       "    <tr>\n",
       "      <th>2</th>\n",
       "      <td>-copOvldyKh1qr-vzkDEvw</td>\n",
       "      <td>MYoRNLb5chwjQe3c_k37Gg</td>\n",
       "      <td>It's open even when you think it isn't</td>\n",
       "      <td>2013-08-18 00:56:08</td>\n",
       "      <td>0</td>\n",
       "    </tr>\n",
       "    <tr>\n",
       "      <th>3</th>\n",
       "      <td>FjMQVZjSqY8syIO-53KFKw</td>\n",
       "      <td>hV-bABTK-glh5wj31ps_Jw</td>\n",
       "      <td>Very decent fried chicken</td>\n",
       "      <td>2017-06-27 23:05:38</td>\n",
       "      <td>0</td>\n",
       "    </tr>\n",
       "    <tr>\n",
       "      <th>4</th>\n",
       "      <td>ld0AperBXk1h6UbqmM80zw</td>\n",
       "      <td>_uN0OudeJ3Zl_tf6nxg5ww</td>\n",
       "      <td>Appetizers.. platter special for lunch</td>\n",
       "      <td>2012-10-06 19:43:09</td>\n",
       "      <td>0</td>\n",
       "    </tr>\n",
       "  </tbody>\n",
       "</table>\n",
       "</div>"
      ],
      "text/plain": [
       "                  user_id             business_id  \\\n",
       "0  AGNUgVwnZUey3gcPCJ76iw  3uLgwr0qeCNMjKenHJwPGQ   \n",
       "1  NBN4MgHP9D3cw--SnauTkA  QoezRbYQncpRqyrLH6Iqjg   \n",
       "2  -copOvldyKh1qr-vzkDEvw  MYoRNLb5chwjQe3c_k37Gg   \n",
       "3  FjMQVZjSqY8syIO-53KFKw  hV-bABTK-glh5wj31ps_Jw   \n",
       "4  ld0AperBXk1h6UbqmM80zw  _uN0OudeJ3Zl_tf6nxg5ww   \n",
       "\n",
       "                                                text                 date  \\\n",
       "0                     Avengers time with the ladies.  2012-05-18 02:17:21   \n",
       "1  They have lots of good deserts and tasty cuban...  2013-02-05 18:35:10   \n",
       "2             It's open even when you think it isn't  2013-08-18 00:56:08   \n",
       "3                          Very decent fried chicken  2017-06-27 23:05:38   \n",
       "4             Appetizers.. platter special for lunch  2012-10-06 19:43:09   \n",
       "\n",
       "   compliment_count  \n",
       "0                 0  \n",
       "1                 0  \n",
       "2                 0  \n",
       "3                 0  \n",
       "4                 0  "
      ]
     },
     "metadata": {},
     "output_type": "display_data"
    },
    {
     "data": {
      "text/html": [
       "<div>\n",
       "<style scoped>\n",
       "    .dataframe tbody tr th:only-of-type {\n",
       "        vertical-align: middle;\n",
       "    }\n",
       "\n",
       "    .dataframe tbody tr th {\n",
       "        vertical-align: top;\n",
       "    }\n",
       "\n",
       "    .dataframe thead th {\n",
       "        text-align: right;\n",
       "    }\n",
       "</style>\n",
       "<table border=\"1\" class=\"dataframe\">\n",
       "  <thead>\n",
       "    <tr style=\"text-align: right;\">\n",
       "      <th></th>\n",
       "      <th>user_id</th>\n",
       "      <th>name</th>\n",
       "      <th>review_count</th>\n",
       "      <th>yelping_since</th>\n",
       "      <th>useful</th>\n",
       "      <th>funny</th>\n",
       "      <th>cool</th>\n",
       "      <th>elite</th>\n",
       "      <th>friends</th>\n",
       "      <th>fans</th>\n",
       "      <th>...</th>\n",
       "      <th>compliment_more</th>\n",
       "      <th>compliment_profile</th>\n",
       "      <th>compliment_cute</th>\n",
       "      <th>compliment_list</th>\n",
       "      <th>compliment_note</th>\n",
       "      <th>compliment_plain</th>\n",
       "      <th>compliment_cool</th>\n",
       "      <th>compliment_funny</th>\n",
       "      <th>compliment_writer</th>\n",
       "      <th>compliment_photos</th>\n",
       "    </tr>\n",
       "  </thead>\n",
       "  <tbody>\n",
       "    <tr>\n",
       "      <th>0</th>\n",
       "      <td>qVc8ODYU5SZjKXVBgXdI7w</td>\n",
       "      <td>Walker</td>\n",
       "      <td>585</td>\n",
       "      <td>2007-01-25 16:47:26</td>\n",
       "      <td>7217</td>\n",
       "      <td>1259</td>\n",
       "      <td>5994</td>\n",
       "      <td>2007</td>\n",
       "      <td>NSCy54eWehBJyZdG2iE84w, pe42u7DcCH2QmI81NX-8qA...</td>\n",
       "      <td>267</td>\n",
       "      <td>...</td>\n",
       "      <td>65</td>\n",
       "      <td>55</td>\n",
       "      <td>56</td>\n",
       "      <td>18</td>\n",
       "      <td>232</td>\n",
       "      <td>844</td>\n",
       "      <td>467</td>\n",
       "      <td>467</td>\n",
       "      <td>239</td>\n",
       "      <td>180</td>\n",
       "    </tr>\n",
       "    <tr>\n",
       "      <th>1</th>\n",
       "      <td>j14WgRoU_-2ZE1aw1dXrJg</td>\n",
       "      <td>Daniel</td>\n",
       "      <td>4333</td>\n",
       "      <td>2009-01-25 04:35:42</td>\n",
       "      <td>43091</td>\n",
       "      <td>13066</td>\n",
       "      <td>27281</td>\n",
       "      <td>2009,2010,2011,2012,2013,2014,2015,2016,2017,2...</td>\n",
       "      <td>ueRPE0CX75ePGMqOFVj6IQ, 52oH4DrRvzzl8wh5UXyU0A...</td>\n",
       "      <td>3138</td>\n",
       "      <td>...</td>\n",
       "      <td>264</td>\n",
       "      <td>184</td>\n",
       "      <td>157</td>\n",
       "      <td>251</td>\n",
       "      <td>1847</td>\n",
       "      <td>7054</td>\n",
       "      <td>3131</td>\n",
       "      <td>3131</td>\n",
       "      <td>1521</td>\n",
       "      <td>1946</td>\n",
       "    </tr>\n",
       "    <tr>\n",
       "      <th>2</th>\n",
       "      <td>2WnXYQFK0hXEoTxPtV2zvg</td>\n",
       "      <td>Steph</td>\n",
       "      <td>665</td>\n",
       "      <td>2008-07-25 10:41:00</td>\n",
       "      <td>2086</td>\n",
       "      <td>1010</td>\n",
       "      <td>1003</td>\n",
       "      <td>2009,2010,2011,2012,2013</td>\n",
       "      <td>LuO3Bn4f3rlhyHIaNfTlnA, j9B4XdHUhDfTKVecyWQgyA...</td>\n",
       "      <td>52</td>\n",
       "      <td>...</td>\n",
       "      <td>13</td>\n",
       "      <td>10</td>\n",
       "      <td>17</td>\n",
       "      <td>3</td>\n",
       "      <td>66</td>\n",
       "      <td>96</td>\n",
       "      <td>119</td>\n",
       "      <td>119</td>\n",
       "      <td>35</td>\n",
       "      <td>18</td>\n",
       "    </tr>\n",
       "    <tr>\n",
       "      <th>3</th>\n",
       "      <td>SZDeASXq7o05mMNLshsdIA</td>\n",
       "      <td>Gwen</td>\n",
       "      <td>224</td>\n",
       "      <td>2005-11-29 04:38:33</td>\n",
       "      <td>512</td>\n",
       "      <td>330</td>\n",
       "      <td>299</td>\n",
       "      <td>2009,2010,2011</td>\n",
       "      <td>enx1vVPnfdNUdPho6PH_wg, 4wOcvMLtU6a9Lslggq74Vg...</td>\n",
       "      <td>28</td>\n",
       "      <td>...</td>\n",
       "      <td>4</td>\n",
       "      <td>1</td>\n",
       "      <td>6</td>\n",
       "      <td>2</td>\n",
       "      <td>12</td>\n",
       "      <td>16</td>\n",
       "      <td>26</td>\n",
       "      <td>26</td>\n",
       "      <td>10</td>\n",
       "      <td>9</td>\n",
       "    </tr>\n",
       "    <tr>\n",
       "      <th>4</th>\n",
       "      <td>hA5lMy-EnncsH4JoR-hFGQ</td>\n",
       "      <td>Karen</td>\n",
       "      <td>79</td>\n",
       "      <td>2007-01-05 19:40:59</td>\n",
       "      <td>29</td>\n",
       "      <td>15</td>\n",
       "      <td>7</td>\n",
       "      <td></td>\n",
       "      <td>PBK4q9KEEBHhFvSXCUirIw, 3FWPpM7KU1gXeOM_ZbYMbA...</td>\n",
       "      <td>1</td>\n",
       "      <td>...</td>\n",
       "      <td>1</td>\n",
       "      <td>0</td>\n",
       "      <td>0</td>\n",
       "      <td>0</td>\n",
       "      <td>1</td>\n",
       "      <td>1</td>\n",
       "      <td>0</td>\n",
       "      <td>0</td>\n",
       "      <td>0</td>\n",
       "      <td>0</td>\n",
       "    </tr>\n",
       "  </tbody>\n",
       "</table>\n",
       "<p>5 rows × 22 columns</p>\n",
       "</div>"
      ],
      "text/plain": [
       "                  user_id    name  review_count        yelping_since  useful  \\\n",
       "0  qVc8ODYU5SZjKXVBgXdI7w  Walker           585  2007-01-25 16:47:26    7217   \n",
       "1  j14WgRoU_-2ZE1aw1dXrJg  Daniel          4333  2009-01-25 04:35:42   43091   \n",
       "2  2WnXYQFK0hXEoTxPtV2zvg   Steph           665  2008-07-25 10:41:00    2086   \n",
       "3  SZDeASXq7o05mMNLshsdIA    Gwen           224  2005-11-29 04:38:33     512   \n",
       "4  hA5lMy-EnncsH4JoR-hFGQ   Karen            79  2007-01-05 19:40:59      29   \n",
       "\n",
       "   funny   cool                                              elite  \\\n",
       "0   1259   5994                                               2007   \n",
       "1  13066  27281  2009,2010,2011,2012,2013,2014,2015,2016,2017,2...   \n",
       "2   1010   1003                           2009,2010,2011,2012,2013   \n",
       "3    330    299                                     2009,2010,2011   \n",
       "4     15      7                                                      \n",
       "\n",
       "                                             friends  fans  ...  \\\n",
       "0  NSCy54eWehBJyZdG2iE84w, pe42u7DcCH2QmI81NX-8qA...   267  ...   \n",
       "1  ueRPE0CX75ePGMqOFVj6IQ, 52oH4DrRvzzl8wh5UXyU0A...  3138  ...   \n",
       "2  LuO3Bn4f3rlhyHIaNfTlnA, j9B4XdHUhDfTKVecyWQgyA...    52  ...   \n",
       "3  enx1vVPnfdNUdPho6PH_wg, 4wOcvMLtU6a9Lslggq74Vg...    28  ...   \n",
       "4  PBK4q9KEEBHhFvSXCUirIw, 3FWPpM7KU1gXeOM_ZbYMbA...     1  ...   \n",
       "\n",
       "   compliment_more  compliment_profile  compliment_cute  compliment_list  \\\n",
       "0               65                  55               56               18   \n",
       "1              264                 184              157              251   \n",
       "2               13                  10               17                3   \n",
       "3                4                   1                6                2   \n",
       "4                1                   0                0                0   \n",
       "\n",
       "   compliment_note  compliment_plain  compliment_cool  compliment_funny  \\\n",
       "0              232               844              467               467   \n",
       "1             1847              7054             3131              3131   \n",
       "2               66                96              119               119   \n",
       "3               12                16               26                26   \n",
       "4                1                 1                0                 0   \n",
       "\n",
       "   compliment_writer  compliment_photos  \n",
       "0                239                180  \n",
       "1               1521               1946  \n",
       "2                 35                 18  \n",
       "3                 10                  9  \n",
       "4                  0                  0  \n",
       "\n",
       "[5 rows x 22 columns]"
      ]
     },
     "metadata": {},
     "output_type": "display_data"
    }
   ],
   "source": [
    "# Explore What type of data available in the tables\n",
    "\n",
    "# For that we iterate in tables using for-loop\n",
    "\n",
    "for table in tables['name']: # Column Name is nessecary to mentioned to retive\n",
    "    display(pd.read_sql_query(f\"SELECT * FROM {table} limit 5\", con))  # We can't fetch whole table, due to large dataset we only fetch some sample to get to know which data availabe inside table\n",
    "    "
   ]
  },
  {
   "cell_type": "markdown",
   "id": "b64644dd",
   "metadata": {
    "papermill": {
     "duration": 0.027132,
     "end_time": "2024-06-01T03:08:51.496018",
     "exception": false,
     "start_time": "2024-06-01T03:08:51.468886",
     "status": "completed"
    },
    "tags": []
   },
   "source": [
    "### Data Analysis\n",
    "\n",
    "Will filter out this things given below: \n",
    "\n",
    "- First we found that how many business are there.\n",
    "- Secondly we found how many related to restaurants business are there.\n",
    "- Third we work only on open restaurant business only ( is_open )."
   ]
  },
  {
   "cell_type": "code",
   "execution_count": 13,
   "id": "1e81e9d7",
   "metadata": {
    "execution": {
     "iopub.execute_input": "2024-06-01T03:08:51.550518Z",
     "iopub.status.busy": "2024-06-01T03:08:51.550043Z",
     "iopub.status.idle": "2024-06-01T03:08:51.696433Z",
     "shell.execute_reply": "2024-06-01T03:08:51.695211Z"
    },
    "papermill": {
     "duration": 0.176853,
     "end_time": "2024-06-01T03:08:51.698992",
     "exception": false,
     "start_time": "2024-06-01T03:08:51.522139",
     "status": "completed"
    },
    "tags": []
   },
   "outputs": [
    {
     "name": "stdout",
     "output_type": "stream",
     "text": [
      "Count of Uniques Business are in table\n"
     ]
    },
    {
     "data": {
      "text/html": [
       "<div>\n",
       "<style scoped>\n",
       "    .dataframe tbody tr th:only-of-type {\n",
       "        vertical-align: middle;\n",
       "    }\n",
       "\n",
       "    .dataframe tbody tr th {\n",
       "        vertical-align: top;\n",
       "    }\n",
       "\n",
       "    .dataframe thead th {\n",
       "        text-align: right;\n",
       "    }\n",
       "</style>\n",
       "<table border=\"1\" class=\"dataframe\">\n",
       "  <thead>\n",
       "    <tr style=\"text-align: right;\">\n",
       "      <th></th>\n",
       "      <th>COUNT(*)</th>\n",
       "    </tr>\n",
       "  </thead>\n",
       "  <tbody>\n",
       "    <tr>\n",
       "      <th>0</th>\n",
       "      <td>150346</td>\n",
       "    </tr>\n",
       "  </tbody>\n",
       "</table>\n",
       "</div>"
      ],
      "text/plain": [
       "   COUNT(*)\n",
       "0    150346"
      ]
     },
     "execution_count": 13,
     "metadata": {},
     "output_type": "execute_result"
    }
   ],
   "source": [
    "print(\"Count of Uniques Business are in table\")\n",
    "pd.read_sql_query(\"SELECT COUNT(*) FROM BUSINESS\", con)"
   ]
  },
  {
   "cell_type": "code",
   "execution_count": 14,
   "id": "e9c8b97c",
   "metadata": {
    "execution": {
     "iopub.execute_input": "2024-06-01T03:08:51.755190Z",
     "iopub.status.busy": "2024-06-01T03:08:51.754775Z",
     "iopub.status.idle": "2024-06-01T03:08:51.959069Z",
     "shell.execute_reply": "2024-06-01T03:08:51.957145Z"
    },
    "papermill": {
     "duration": 0.236817,
     "end_time": "2024-06-01T03:08:51.963190",
     "exception": false,
     "start_time": "2024-06-01T03:08:51.726373",
     "status": "completed"
    },
    "tags": []
   },
   "outputs": [
    {
     "data": {
      "text/html": [
       "<div>\n",
       "<style scoped>\n",
       "    .dataframe tbody tr th:only-of-type {\n",
       "        vertical-align: middle;\n",
       "    }\n",
       "\n",
       "    .dataframe tbody tr th {\n",
       "        vertical-align: top;\n",
       "    }\n",
       "\n",
       "    .dataframe thead th {\n",
       "        text-align: right;\n",
       "    }\n",
       "</style>\n",
       "<table border=\"1\" class=\"dataframe\">\n",
       "  <thead>\n",
       "    <tr style=\"text-align: right;\">\n",
       "      <th></th>\n",
       "      <th>business_id</th>\n",
       "      <th>review_count</th>\n",
       "    </tr>\n",
       "  </thead>\n",
       "  <tbody>\n",
       "    <tr>\n",
       "      <th>0</th>\n",
       "      <td>MTSW4McQd7CbVtyjqoe9mw</td>\n",
       "      <td>80</td>\n",
       "    </tr>\n",
       "    <tr>\n",
       "      <th>1</th>\n",
       "      <td>CF33F8-E6oudUQ46HnavjQ</td>\n",
       "      <td>6</td>\n",
       "    </tr>\n",
       "    <tr>\n",
       "      <th>2</th>\n",
       "      <td>bBDDEgkFA1Otx9Lfe7BZUQ</td>\n",
       "      <td>10</td>\n",
       "    </tr>\n",
       "    <tr>\n",
       "      <th>3</th>\n",
       "      <td>eEOYSgkmpB90uNA7lDOMRA</td>\n",
       "      <td>10</td>\n",
       "    </tr>\n",
       "    <tr>\n",
       "      <th>4</th>\n",
       "      <td>il_Ro8jwPlHresjw9EGmBg</td>\n",
       "      <td>28</td>\n",
       "    </tr>\n",
       "    <tr>\n",
       "      <th>...</th>\n",
       "      <td>...</td>\n",
       "      <td>...</td>\n",
       "    </tr>\n",
       "    <tr>\n",
       "      <th>34999</th>\n",
       "      <td>w_4xUt-1AyY2ZwKtnjW0Xg</td>\n",
       "      <td>998</td>\n",
       "    </tr>\n",
       "    <tr>\n",
       "      <th>35000</th>\n",
       "      <td>l9eLGG9ZKpLJzboZq-9LRQ</td>\n",
       "      <td>11</td>\n",
       "    </tr>\n",
       "    <tr>\n",
       "      <th>35001</th>\n",
       "      <td>cM6V90ExQD6KMSU3rRB5ZA</td>\n",
       "      <td>33</td>\n",
       "    </tr>\n",
       "    <tr>\n",
       "      <th>35002</th>\n",
       "      <td>WnT9NIzQgLlILjPT0kEcsQ</td>\n",
       "      <td>35</td>\n",
       "    </tr>\n",
       "    <tr>\n",
       "      <th>35003</th>\n",
       "      <td>2O2K6SXPWv56amqxCECd4w</td>\n",
       "      <td>14</td>\n",
       "    </tr>\n",
       "  </tbody>\n",
       "</table>\n",
       "<p>35004 rows × 2 columns</p>\n",
       "</div>"
      ],
      "text/plain": [
       "                  business_id  review_count\n",
       "0      MTSW4McQd7CbVtyjqoe9mw            80\n",
       "1      CF33F8-E6oudUQ46HnavjQ             6\n",
       "2      bBDDEgkFA1Otx9Lfe7BZUQ            10\n",
       "3      eEOYSgkmpB90uNA7lDOMRA            10\n",
       "4      il_Ro8jwPlHresjw9EGmBg            28\n",
       "...                       ...           ...\n",
       "34999  w_4xUt-1AyY2ZwKtnjW0Xg           998\n",
       "35000  l9eLGG9ZKpLJzboZq-9LRQ            11\n",
       "35001  cM6V90ExQD6KMSU3rRB5ZA            33\n",
       "35002  WnT9NIzQgLlILjPT0kEcsQ            35\n",
       "35003  2O2K6SXPWv56amqxCECd4w            14\n",
       "\n",
       "[35004 rows x 2 columns]"
      ]
     },
     "execution_count": 14,
     "metadata": {},
     "output_type": "execute_result"
    }
   ],
   "source": [
    "# Now we are finding that how much Restaurant business are there and open business\n",
    "business_id = pd.read_sql_query(\"\"\"SELECT business_id, review_count FROM business WHERE lower(categories) like '%restaurant%' and is_open = 1\"\"\", con) \n",
    "business_id"
   ]
  },
  {
   "cell_type": "code",
   "execution_count": 15,
   "id": "4917a979",
   "metadata": {
    "execution": {
     "iopub.execute_input": "2024-06-01T03:08:52.020648Z",
     "iopub.status.busy": "2024-06-01T03:08:52.020173Z",
     "iopub.status.idle": "2024-06-01T03:08:52.028346Z",
     "shell.execute_reply": "2024-06-01T03:08:52.027068Z"
    },
    "papermill": {
     "duration": 0.039965,
     "end_time": "2024-06-01T03:08:52.030899",
     "exception": false,
     "start_time": "2024-06-01T03:08:51.990934",
     "status": "completed"
    },
    "tags": []
   },
   "outputs": [
    {
     "data": {
      "text/plain": [
       "(35004, 2)"
      ]
     },
     "execution_count": 15,
     "metadata": {},
     "output_type": "execute_result"
    }
   ],
   "source": [
    "business_id.shape"
   ]
  },
  {
   "cell_type": "markdown",
   "id": "c6706a77",
   "metadata": {
    "papermill": {
     "duration": 0.028174,
     "end_time": "2024-06-01T03:08:52.085975",
     "exception": false,
     "start_time": "2024-06-01T03:08:52.057801",
     "status": "completed"
    },
    "tags": []
   },
   "source": [
    "### Problem Statement:\n",
    "\n",
    "Now Problem statement focuses on business score, So by analyzing review count and rating we get business score.\n",
    "\n",
    "What is the descriptive stats for for review count and star rating for business?\n",
    "\n",
    "- First we check Distribution of Data\n",
    "- Average, Minimum, Maximum, Median value from this we get complete information of Distribution value.\n"
   ]
  },
  {
   "cell_type": "code",
   "execution_count": 16,
   "id": "7bf64a9f",
   "metadata": {
    "execution": {
     "iopub.execute_input": "2024-06-01T03:08:52.143801Z",
     "iopub.status.busy": "2024-06-01T03:08:52.142441Z",
     "iopub.status.idle": "2024-06-01T03:08:52.693767Z",
     "shell.execute_reply": "2024-06-01T03:08:52.692482Z"
    },
    "papermill": {
     "duration": 0.583568,
     "end_time": "2024-06-01T03:08:52.696704",
     "exception": false,
     "start_time": "2024-06-01T03:08:52.113136",
     "status": "completed"
    },
    "tags": []
   },
   "outputs": [
    {
     "data": {
      "text/html": [
       "<div>\n",
       "<style scoped>\n",
       "    .dataframe tbody tr th:only-of-type {\n",
       "        vertical-align: middle;\n",
       "    }\n",
       "\n",
       "    .dataframe tbody tr th {\n",
       "        vertical-align: top;\n",
       "    }\n",
       "\n",
       "    .dataframe thead th {\n",
       "        text-align: right;\n",
       "    }\n",
       "</style>\n",
       "<table border=\"1\" class=\"dataframe\">\n",
       "  <thead>\n",
       "    <tr style=\"text-align: right;\">\n",
       "      <th></th>\n",
       "      <th>avg(review_count)</th>\n",
       "      <th>min(review_count)</th>\n",
       "      <th>max_review_count</th>\n",
       "      <th>median_review_count</th>\n",
       "    </tr>\n",
       "  </thead>\n",
       "  <tbody>\n",
       "    <tr>\n",
       "      <th>0</th>\n",
       "      <td>104.097789</td>\n",
       "      <td>5</td>\n",
       "      <td>7568</td>\n",
       "      <td>15</td>\n",
       "    </tr>\n",
       "  </tbody>\n",
       "</table>\n",
       "</div>"
      ],
      "text/plain": [
       "   avg(review_count)  min(review_count)  max_review_count  median_review_count\n",
       "0         104.097789                  5              7568                   15"
      ]
     },
     "execution_count": 16,
     "metadata": {},
     "output_type": "execute_result"
    }
   ],
   "source": [
    "# Pandas doesn't support directly Nested Queries \n",
    "\n",
    "# Alternate way is to execute sub-Query First\n",
    "\n",
    "# Find median using a separate query\n",
    "median_query = f\"\"\"\n",
    "SELECT review_count\n",
    "FROM business\n",
    "ORDER BY review_count\n",
    "LIMIT 1\n",
    "OFFSET (SELECT count(*) FROM business) / 2\n",
    "\"\"\"\n",
    "\n",
    "median_review_count = pd.read_sql_query(median_query, con)[\"review_count\"].tolist()[0]\n",
    "\n",
    "# Main query with median value\n",
    "main_query = f\"\"\"\n",
    "SELECT avg(review_count), min(review_count), max(review_count) as max_review_count,\n",
    "{median_review_count} as median_review_count\n",
    "FROM business\n",
    "WHERE business_id IN {tuple(business_id['business_id'])}\n",
    "\"\"\"\n",
    "\n",
    "df = pd.read_sql_query(main_query, con)\n",
    "\n",
    "# Printing Value of Query as a Result\n",
    "df"
   ]
  },
  {
   "cell_type": "markdown",
   "id": "0e79755d",
   "metadata": {
    "papermill": {
     "duration": 0.026743,
     "end_time": "2024-06-01T03:08:52.750366",
     "exception": false,
     "start_time": "2024-06-01T03:08:52.723623",
     "status": "completed"
    },
    "tags": []
   },
   "source": [
    "We can see that column max_review_count ( 7568 ) have outliner value in distribution.\n",
    "Now this outliner affects our Normal Analysis, so we remove outliner from the table,\n",
    "For that we create a function because sometime we need outliner and sometime don't."
   ]
  },
  {
   "cell_type": "code",
   "execution_count": 17,
   "id": "bf64557e",
   "metadata": {
    "execution": {
     "iopub.execute_input": "2024-06-01T03:08:52.807506Z",
     "iopub.status.busy": "2024-06-01T03:08:52.807002Z",
     "iopub.status.idle": "2024-06-01T03:08:53.469246Z",
     "shell.execute_reply": "2024-06-01T03:08:53.468154Z"
    },
    "papermill": {
     "duration": 0.694444,
     "end_time": "2024-06-01T03:08:53.471740",
     "exception": false,
     "start_time": "2024-06-01T03:08:52.777296",
     "status": "completed"
    },
    "tags": []
   },
   "outputs": [
    {
     "data": {
      "text/html": [
       "<div>\n",
       "<style scoped>\n",
       "    .dataframe tbody tr th:only-of-type {\n",
       "        vertical-align: middle;\n",
       "    }\n",
       "\n",
       "    .dataframe tbody tr th {\n",
       "        vertical-align: top;\n",
       "    }\n",
       "\n",
       "    .dataframe thead th {\n",
       "        text-align: right;\n",
       "    }\n",
       "</style>\n",
       "<table border=\"1\" class=\"dataframe\">\n",
       "  <thead>\n",
       "    <tr style=\"text-align: right;\">\n",
       "      <th></th>\n",
       "      <th>0</th>\n",
       "    </tr>\n",
       "  </thead>\n",
       "  <tbody>\n",
       "    <tr>\n",
       "      <th>average_review_count</th>\n",
       "      <td>104.097789</td>\n",
       "    </tr>\n",
       "    <tr>\n",
       "      <th>min_review_count</th>\n",
       "      <td>5.000000</td>\n",
       "    </tr>\n",
       "    <tr>\n",
       "      <th>max_review_count</th>\n",
       "      <td>7568.000000</td>\n",
       "    </tr>\n",
       "    <tr>\n",
       "      <th>median_review_count</th>\n",
       "      <td>15.000000</td>\n",
       "    </tr>\n",
       "    <tr>\n",
       "      <th>avg_star_count</th>\n",
       "      <td>3.523969</td>\n",
       "    </tr>\n",
       "    <tr>\n",
       "      <th>min_star_count</th>\n",
       "      <td>1.000000</td>\n",
       "    </tr>\n",
       "    <tr>\n",
       "      <th>max_star_count</th>\n",
       "      <td>5.000000</td>\n",
       "    </tr>\n",
       "    <tr>\n",
       "      <th>median_star_rating</th>\n",
       "      <td>3.500000</td>\n",
       "    </tr>\n",
       "  </tbody>\n",
       "</table>\n",
       "</div>"
      ],
      "text/plain": [
       "                                0\n",
       "average_review_count   104.097789\n",
       "min_review_count         5.000000\n",
       "max_review_count      7568.000000\n",
       "median_review_count     15.000000\n",
       "avg_star_count           3.523969\n",
       "min_star_count           1.000000\n",
       "max_star_count           5.000000\n",
       "median_star_rating       3.500000"
      ]
     },
     "execution_count": 17,
     "metadata": {},
     "output_type": "execute_result"
    }
   ],
   "source": [
    "# What is the descriptive stats for reviewcount and star rating for business?\n",
    "# avg, min, max, median\n",
    "\n",
    "pd.read_sql_query(f\"\"\"SELECT\n",
    "AVG(review_count) AS average_review_count,\n",
    "MIN(review_count) AS min_review_count,\n",
    "MAX(review_count) AS max_review_count,\n",
    "(SELECT review_count FROM business ORDER BY review_count LIMIT 1 OFFSET (SELECT COUNT(*) FROM business) / 2) AS median_review_count,\n",
    "\n",
    "AVG(stars) AS avg_star_count,\n",
    "MIN(stars) AS min_star_count,\n",
    "MAX(stars) AS max_star_count,\n",
    "(SELECT stars FROM business ORDER BY stars LIMIT 1 OFFSET (SELECT COUNT(*) FROM business) / 2) AS median_star_rating\n",
    "\n",
    "FROM business\n",
    "WHERE business_id IN {tuple(business_id['business_id'])}\n",
    "\"\"\", con).transpose()"
   ]
  },
  {
   "cell_type": "markdown",
   "id": "ca87b691",
   "metadata": {
    "papermill": {
     "duration": 0.026942,
     "end_time": "2024-06-01T03:08:53.527643",
     "exception": false,
     "start_time": "2024-06-01T03:08:53.500701",
     "status": "completed"
    },
    "tags": []
   },
   "source": [
    "**Quartile Range:** we find, before we have one look on it.\n",
    "\n",
    "**1. Quantiles:** \n",
    "In statistics, quantiles are cut points dividing the range of a probability distribution into continuous intervals with equal probabilities. When the data is sorted in ascending order:\n",
    "- First Quantile (Q1), also known as the 25th percentile or lower quartile, is the value below which 25% of the observations lie.\n",
    "- Second Quantile (Q2), also known as the 50th percentile or median, is the value below which 50% of the observations lie. It effectively divides the data set into two halves.\n",
    "- Third Quantile (Q3), also known as the 75th percentile or upper quartile, is the value below which 75% of the observations lie.\n",
    "**2. Interquartile Range (IQR):** The IQR is a measure of statistical dispersion and is calculated as the difference between the upper and lower quartiles (Q3 - Q1). It is used to measure variability by dividing a data set into quartiles. In other words, the IQR is the range within which the central 50% of the data falls.\n",
    "\n",
    "Here’s a simple way to visualize these concepts:\n",
    "\n",
    "|-----------------|-----------------|-----------------|-----------------|\n",
    "\n",
    "|Min----------|Q1 (25%)----------|Median (50%)----------|Q3 (75%)----------|Max----------|\n",
    "\n",
    "\n",
    "\n",
    "Quartile 1 and Quartile 3 in-between Data are called as Inter-Quartile Range.\n",
    "First we find Lower Bound and Upper Bound after than we find Inter-Quartile."
   ]
  },
  {
   "cell_type": "code",
   "execution_count": 18,
   "id": "afab1e00",
   "metadata": {
    "execution": {
     "iopub.execute_input": "2024-06-01T03:08:53.584246Z",
     "iopub.status.busy": "2024-06-01T03:08:53.583832Z",
     "iopub.status.idle": "2024-06-01T03:08:53.592364Z",
     "shell.execute_reply": "2024-06-01T03:08:53.591120Z"
    },
    "papermill": {
     "duration": 0.039798,
     "end_time": "2024-06-01T03:08:53.594994",
     "exception": false,
     "start_time": "2024-06-01T03:08:53.555196",
     "status": "completed"
    },
    "tags": []
   },
   "outputs": [],
   "source": [
    "def remove_outliers(df, col):\n",
    "  \"\"\"\n",
    "  This function identifies outliers in a column of a pandas DataFrame using IQR method \n",
    "  and returns a new DataFrame containing only in-range values.\n",
    "\n",
    "  Args:\n",
    "      df (pandas.DataFrame): The DataFrame containing the column to analyze.\n",
    "      col (str): The name of the column to identify outliers in.\n",
    "\n",
    "  Returns:\n",
    "      pandas.DataFrame: A new DataFrame excluding outliers based on IQR method.\n",
    "  \"\"\"\n",
    "  df_copy = df.copy()  # Create a copy to avoid modifying original data\n",
    "  quantile_1 = df_copy[col].quantile(0.25)\n",
    "  quantile_3 = df_copy[col].quantile(0.75)\n",
    "  inter_quartile_range = quantile_3 - quantile_1\n",
    "  lower_bound = quantile_1 - (1.5 * inter_quartile_range)\n",
    "  upper_bound = quantile_3 + (1.5 * inter_quartile_range)\n",
    "  # Filter for in-range values (excluding outliers)\n",
    "  filtered_df = df_copy[(df_copy[col] >= lower_bound) & (df_copy[col] <= upper_bound)]\n",
    "  return filtered_df\n"
   ]
  },
  {
   "cell_type": "markdown",
   "id": "7c4a4ed6",
   "metadata": {
    "papermill": {
     "duration": 0.028195,
     "end_time": "2024-06-01T03:08:53.650951",
     "exception": false,
     "start_time": "2024-06-01T03:08:53.622756",
     "status": "completed"
    },
    "tags": []
   },
   "source": [
    "Let's we check-it this function on business_id\n",
    "\n",
    "This ```business_id``` variable contains, queries a table named ```business``` from a SQL database and retrieves the ```business_id``` and ```review_count``` for businesses that have ```\"restaurant\"``` (case-insensitive) in their categories and are currently open (based on the is_open flag). The result is stored in a ```business_id``` variable which can be further analyzed or manipulated using pandas functions."
   ]
  },
  {
   "cell_type": "code",
   "execution_count": 19,
   "id": "d315670a",
   "metadata": {
    "execution": {
     "iopub.execute_input": "2024-06-01T03:08:53.707752Z",
     "iopub.status.busy": "2024-06-01T03:08:53.707284Z",
     "iopub.status.idle": "2024-06-01T03:08:53.724606Z",
     "shell.execute_reply": "2024-06-01T03:08:53.723219Z"
    },
    "papermill": {
     "duration": 0.049011,
     "end_time": "2024-06-01T03:08:53.727877",
     "exception": false,
     "start_time": "2024-06-01T03:08:53.678866",
     "status": "completed"
    },
    "tags": []
   },
   "outputs": [],
   "source": [
    "business_id_filtered_df = remove_outliers(business_id, 'review_count')"
   ]
  },
  {
   "cell_type": "code",
   "execution_count": 20,
   "id": "7c51f34e",
   "metadata": {
    "execution": {
     "iopub.execute_input": "2024-06-01T03:08:53.786143Z",
     "iopub.status.busy": "2024-06-01T03:08:53.785643Z",
     "iopub.status.idle": "2024-06-01T03:08:53.796482Z",
     "shell.execute_reply": "2024-06-01T03:08:53.795007Z"
    },
    "papermill": {
     "duration": 0.043641,
     "end_time": "2024-06-01T03:08:53.799095",
     "exception": false,
     "start_time": "2024-06-01T03:08:53.755454",
     "status": "completed"
    },
    "tags": []
   },
   "outputs": [
    {
     "name": "stdout",
     "output_type": "stream",
     "text": [
      "business_id Original Value:  (35004, 2)\n",
      "Original_business_id_value Original Value:  (35004, 2)\n",
      "business_id Filtered Value:  (31537, 2)\n"
     ]
    }
   ],
   "source": [
    "print(\"business_id Original Value: \", business_id.shape)   #Original Value\n",
    "Original_Business_id_value = business_id.copy()\n",
    "print(\"Original_business_id_value Original Value: \", Original_Business_id_value.shape)\n",
    "\n",
    "business_id = None\n",
    "business_id = business_id_filtered_df.copy()\n",
    "print(\"business_id Filtered Value: \", business_id.shape)"
   ]
  },
  {
   "cell_type": "markdown",
   "id": "70851f06",
   "metadata": {
    "papermill": {
     "duration": 0.027309,
     "end_time": "2024-06-01T03:08:53.855119",
     "exception": false,
     "start_time": "2024-06-01T03:08:53.827810",
     "status": "completed"
    },
    "tags": []
   },
   "source": [
    "### Q. What is the descriptive stats for reviewcount and star rating for business?"
   ]
  },
  {
   "cell_type": "code",
   "execution_count": 21,
   "id": "06cc9f03",
   "metadata": {
    "execution": {
     "iopub.execute_input": "2024-06-01T03:08:53.911529Z",
     "iopub.status.busy": "2024-06-01T03:08:53.911066Z",
     "iopub.status.idle": "2024-06-01T03:08:54.557623Z",
     "shell.execute_reply": "2024-06-01T03:08:54.556282Z"
    },
    "papermill": {
     "duration": 0.678482,
     "end_time": "2024-06-01T03:08:54.560573",
     "exception": false,
     "start_time": "2024-06-01T03:08:53.882091",
     "status": "completed"
    },
    "tags": []
   },
   "outputs": [
    {
     "data": {
      "text/html": [
       "<div>\n",
       "<style scoped>\n",
       "    .dataframe tbody tr th:only-of-type {\n",
       "        vertical-align: middle;\n",
       "    }\n",
       "\n",
       "    .dataframe tbody tr th {\n",
       "        vertical-align: top;\n",
       "    }\n",
       "\n",
       "    .dataframe thead th {\n",
       "        text-align: right;\n",
       "    }\n",
       "</style>\n",
       "<table border=\"1\" class=\"dataframe\">\n",
       "  <thead>\n",
       "    <tr style=\"text-align: right;\">\n",
       "      <th></th>\n",
       "      <th>0</th>\n",
       "    </tr>\n",
       "  </thead>\n",
       "  <tbody>\n",
       "    <tr>\n",
       "      <th>average_review_count</th>\n",
       "      <td>55.975426</td>\n",
       "    </tr>\n",
       "    <tr>\n",
       "      <th>min_review_count</th>\n",
       "      <td>5.000000</td>\n",
       "    </tr>\n",
       "    <tr>\n",
       "      <th>max_review_count</th>\n",
       "      <td>248.000000</td>\n",
       "    </tr>\n",
       "    <tr>\n",
       "      <th>median_review_count</th>\n",
       "      <td>15.000000</td>\n",
       "    </tr>\n",
       "    <tr>\n",
       "      <th>avg_star_count</th>\n",
       "      <td>3.477281</td>\n",
       "    </tr>\n",
       "    <tr>\n",
       "      <th>min_star_count</th>\n",
       "      <td>1.000000</td>\n",
       "    </tr>\n",
       "    <tr>\n",
       "      <th>max_star_count</th>\n",
       "      <td>5.000000</td>\n",
       "    </tr>\n",
       "    <tr>\n",
       "      <th>median_star_rating</th>\n",
       "      <td>3.500000</td>\n",
       "    </tr>\n",
       "  </tbody>\n",
       "</table>\n",
       "</div>"
      ],
      "text/plain": [
       "                               0\n",
       "average_review_count   55.975426\n",
       "min_review_count        5.000000\n",
       "max_review_count      248.000000\n",
       "median_review_count    15.000000\n",
       "avg_star_count          3.477281\n",
       "min_star_count          1.000000\n",
       "max_star_count          5.000000\n",
       "median_star_rating      3.500000"
      ]
     },
     "execution_count": 21,
     "metadata": {},
     "output_type": "execute_result"
    }
   ],
   "source": [
    "# What is the descriptive stats for reviewcount and star rating for business?\n",
    "# avg, min, max, median\n",
    "\n",
    "pd.read_sql_query(f\"\"\"SELECT\n",
    "AVG(review_count) AS average_review_count,\n",
    "MIN(review_count) AS min_review_count,\n",
    "MAX(review_count) AS max_review_count,\n",
    "(SELECT review_count FROM business ORDER BY review_count LIMIT 1 OFFSET (SELECT COUNT(*) FROM business) / 2) AS median_review_count,\n",
    "\n",
    "AVG(stars) AS avg_star_count,\n",
    "MIN(stars) AS min_star_count,\n",
    "MAX(stars) AS max_star_count,\n",
    "(SELECT stars FROM business ORDER BY stars LIMIT 1 OFFSET (SELECT COUNT(*) FROM business) / 2) AS median_star_rating\n",
    "\n",
    "FROM business\n",
    "WHERE business_id IN {tuple(business_id['business_id'])}\n",
    "\"\"\", con).transpose()\n",
    "\n"
   ]
  },
  {
   "cell_type": "markdown",
   "id": "ce1d2661",
   "metadata": {
    "papermill": {
     "duration": 0.028611,
     "end_time": "2024-06-01T03:08:54.617024",
     "exception": false,
     "start_time": "2024-06-01T03:08:54.588413",
     "status": "completed"
    },
    "tags": []
   },
   "source": [
    "Now we look at on that business contains most review counts and ratings and in-between is their any co-relation.\n",
    "\n",
    "\n",
    "Which Restaurants have highest number of reviews?"
   ]
  },
  {
   "cell_type": "markdown",
   "id": "bf479881",
   "metadata": {
    "papermill": {
     "duration": 0.027464,
     "end_time": "2024-06-01T03:08:54.672523",
     "exception": false,
     "start_time": "2024-06-01T03:08:54.645059",
     "status": "completed"
    },
    "tags": []
   },
   "source": [
    "### Q. Which Restaurants have highest number of reviews?"
   ]
  },
  {
   "cell_type": "code",
   "execution_count": 22,
   "id": "4a47b064",
   "metadata": {
    "execution": {
     "iopub.execute_input": "2024-06-01T03:08:54.730508Z",
     "iopub.status.busy": "2024-06-01T03:08:54.729262Z",
     "iopub.status.idle": "2024-06-01T03:08:55.069438Z",
     "shell.execute_reply": "2024-06-01T03:08:55.068184Z"
    },
    "papermill": {
     "duration": 0.372075,
     "end_time": "2024-06-01T03:08:55.072239",
     "exception": false,
     "start_time": "2024-06-01T03:08:54.700164",
     "status": "completed"
    },
    "tags": []
   },
   "outputs": [
    {
     "name": "stdout",
     "output_type": "stream",
     "text": [
      "Top 10 Review Count\n",
      "\n",
      "\n"
     ]
    },
    {
     "data": {
      "text/html": [
       "<div>\n",
       "<style scoped>\n",
       "    .dataframe tbody tr th:only-of-type {\n",
       "        vertical-align: middle;\n",
       "    }\n",
       "\n",
       "    .dataframe tbody tr th {\n",
       "        vertical-align: top;\n",
       "    }\n",
       "\n",
       "    .dataframe thead th {\n",
       "        text-align: right;\n",
       "    }\n",
       "</style>\n",
       "<table border=\"1\" class=\"dataframe\">\n",
       "  <thead>\n",
       "    <tr style=\"text-align: right;\">\n",
       "      <th></th>\n",
       "      <th>name</th>\n",
       "      <th>review_count</th>\n",
       "      <th>avg_rating</th>\n",
       "    </tr>\n",
       "  </thead>\n",
       "  <tbody>\n",
       "    <tr>\n",
       "      <th>0</th>\n",
       "      <td>McDonald's</td>\n",
       "      <td>16490</td>\n",
       "      <td>1.868702</td>\n",
       "    </tr>\n",
       "    <tr>\n",
       "      <th>1</th>\n",
       "      <td>Chipotle Mexican Grill</td>\n",
       "      <td>9071</td>\n",
       "      <td>2.381757</td>\n",
       "    </tr>\n",
       "    <tr>\n",
       "      <th>2</th>\n",
       "      <td>Taco Bell</td>\n",
       "      <td>8017</td>\n",
       "      <td>2.141813</td>\n",
       "    </tr>\n",
       "    <tr>\n",
       "      <th>3</th>\n",
       "      <td>Chick-fil-A</td>\n",
       "      <td>7687</td>\n",
       "      <td>3.377419</td>\n",
       "    </tr>\n",
       "    <tr>\n",
       "      <th>4</th>\n",
       "      <td>First Watch</td>\n",
       "      <td>6761</td>\n",
       "      <td>3.875000</td>\n",
       "    </tr>\n",
       "    <tr>\n",
       "      <th>5</th>\n",
       "      <td>Panera Bread</td>\n",
       "      <td>6613</td>\n",
       "      <td>2.661905</td>\n",
       "    </tr>\n",
       "    <tr>\n",
       "      <th>6</th>\n",
       "      <td>Buffalo Wild Wings</td>\n",
       "      <td>6483</td>\n",
       "      <td>2.344828</td>\n",
       "    </tr>\n",
       "    <tr>\n",
       "      <th>7</th>\n",
       "      <td>Domino's Pizza</td>\n",
       "      <td>6091</td>\n",
       "      <td>2.290210</td>\n",
       "    </tr>\n",
       "    <tr>\n",
       "      <th>8</th>\n",
       "      <td>Wendy's</td>\n",
       "      <td>5930</td>\n",
       "      <td>2.030159</td>\n",
       "    </tr>\n",
       "    <tr>\n",
       "      <th>9</th>\n",
       "      <td>Chili's</td>\n",
       "      <td>5744</td>\n",
       "      <td>2.514706</td>\n",
       "    </tr>\n",
       "  </tbody>\n",
       "</table>\n",
       "</div>"
      ],
      "text/plain": [
       "                     name  review_count  avg_rating\n",
       "0              McDonald's         16490    1.868702\n",
       "1  Chipotle Mexican Grill          9071    2.381757\n",
       "2               Taco Bell          8017    2.141813\n",
       "3             Chick-fil-A          7687    3.377419\n",
       "4             First Watch          6761    3.875000\n",
       "5            Panera Bread          6613    2.661905\n",
       "6      Buffalo Wild Wings          6483    2.344828\n",
       "7          Domino's Pizza          6091    2.290210\n",
       "8                 Wendy's          5930    2.030159\n",
       "9                 Chili's          5744    2.514706"
      ]
     },
     "execution_count": 22,
     "metadata": {},
     "output_type": "execute_result"
    }
   ],
   "source": [
    "# For that we write a query to fetch data\n",
    "# We will work business name instead of buiness id \n",
    "\n",
    "print(\"Top 10 Review Count\\n\\n\")\n",
    "\n",
    "pd.read_sql_query(f\"\"\"SELECT name, sum(review_count) as review_count, avg(stars) as avg_rating\n",
    "from business\n",
    "WHERE business_id in {tuple(business_id['business_id'])}\n",
    "group by name\n",
    "order by review_count desc\n",
    "limit 10\"\"\", con)"
   ]
  },
  {
   "cell_type": "markdown",
   "id": "b94113fc",
   "metadata": {
    "papermill": {
     "duration": 0.028211,
     "end_time": "2024-06-01T03:08:55.129276",
     "exception": false,
     "start_time": "2024-06-01T03:08:55.101065",
     "status": "completed"
    },
    "tags": []
   },
   "source": [
    "### Q. Which Restaurants have highest number of ratings?"
   ]
  },
  {
   "cell_type": "code",
   "execution_count": 23,
   "id": "6743b143",
   "metadata": {
    "execution": {
     "iopub.execute_input": "2024-06-01T03:08:55.189613Z",
     "iopub.status.busy": "2024-06-01T03:08:55.189196Z",
     "iopub.status.idle": "2024-06-01T03:08:55.499031Z",
     "shell.execute_reply": "2024-06-01T03:08:55.497643Z"
    },
    "papermill": {
     "duration": 0.343658,
     "end_time": "2024-06-01T03:08:55.501814",
     "exception": false,
     "start_time": "2024-06-01T03:08:55.158156",
     "status": "completed"
    },
    "tags": []
   },
   "outputs": [
    {
     "name": "stdout",
     "output_type": "stream",
     "text": [
      "Top 10 Highest Count\n",
      "\n",
      " Highest Rating\n",
      "\n"
     ]
    },
    {
     "data": {
      "text/html": [
       "<div>\n",
       "<style scoped>\n",
       "    .dataframe tbody tr th:only-of-type {\n",
       "        vertical-align: middle;\n",
       "    }\n",
       "\n",
       "    .dataframe tbody tr th {\n",
       "        vertical-align: top;\n",
       "    }\n",
       "\n",
       "    .dataframe thead th {\n",
       "        text-align: right;\n",
       "    }\n",
       "</style>\n",
       "<table border=\"1\" class=\"dataframe\">\n",
       "  <thead>\n",
       "    <tr style=\"text-align: right;\">\n",
       "      <th></th>\n",
       "      <th>name</th>\n",
       "      <th>review_count</th>\n",
       "      <th>avg_rating</th>\n",
       "    </tr>\n",
       "  </thead>\n",
       "  <tbody>\n",
       "    <tr>\n",
       "      <th>0</th>\n",
       "      <td>ā café</td>\n",
       "      <td>48</td>\n",
       "      <td>5.0</td>\n",
       "    </tr>\n",
       "    <tr>\n",
       "      <th>1</th>\n",
       "      <td>two birds cafe</td>\n",
       "      <td>77</td>\n",
       "      <td>5.0</td>\n",
       "    </tr>\n",
       "    <tr>\n",
       "      <th>2</th>\n",
       "      <td>the brewers cabinet production</td>\n",
       "      <td>13</td>\n",
       "      <td>5.0</td>\n",
       "    </tr>\n",
       "    <tr>\n",
       "      <th>3</th>\n",
       "      <td>taqueria la cañada</td>\n",
       "      <td>17</td>\n",
       "      <td>5.0</td>\n",
       "    </tr>\n",
       "    <tr>\n",
       "      <th>4</th>\n",
       "      <td>la bamba</td>\n",
       "      <td>44</td>\n",
       "      <td>5.0</td>\n",
       "    </tr>\n",
       "    <tr>\n",
       "      <th>5</th>\n",
       "      <td>la 5th av tacos</td>\n",
       "      <td>24</td>\n",
       "      <td>5.0</td>\n",
       "    </tr>\n",
       "    <tr>\n",
       "      <th>6</th>\n",
       "      <td>el sabor mexican and chinese food</td>\n",
       "      <td>21</td>\n",
       "      <td>5.0</td>\n",
       "    </tr>\n",
       "    <tr>\n",
       "      <th>7</th>\n",
       "      <td>eat.drink.Om...YOGA CAFE</td>\n",
       "      <td>7</td>\n",
       "      <td>5.0</td>\n",
       "    </tr>\n",
       "    <tr>\n",
       "      <th>8</th>\n",
       "      <td>d4 Tabletop Gaming Cafe</td>\n",
       "      <td>8</td>\n",
       "      <td>5.0</td>\n",
       "    </tr>\n",
       "    <tr>\n",
       "      <th>9</th>\n",
       "      <td>cabbage vegetarian cafe</td>\n",
       "      <td>12</td>\n",
       "      <td>5.0</td>\n",
       "    </tr>\n",
       "  </tbody>\n",
       "</table>\n",
       "</div>"
      ],
      "text/plain": [
       "                                name  review_count  avg_rating\n",
       "0                             ā café            48         5.0\n",
       "1                     two birds cafe            77         5.0\n",
       "2     the brewers cabinet production            13         5.0\n",
       "3                 taqueria la cañada            17         5.0\n",
       "4                           la bamba            44         5.0\n",
       "5                    la 5th av tacos            24         5.0\n",
       "6  el sabor mexican and chinese food            21         5.0\n",
       "7           eat.drink.Om...YOGA CAFE             7         5.0\n",
       "8            d4 Tabletop Gaming Cafe             8         5.0\n",
       "9            cabbage vegetarian cafe            12         5.0"
      ]
     },
     "execution_count": 23,
     "metadata": {},
     "output_type": "execute_result"
    }
   ],
   "source": [
    "print(\"Top 10 Highest Count\\n\\n Highest Rating\\n\")\n",
    "\n",
    "pd.read_sql_query(f\"\"\"SELECT name, sum(review_count) as review_count, avg(stars) as avg_rating\n",
    "from business\n",
    "WHERE business_id in {tuple(business_id['business_id'])}\n",
    "group by name\n",
    "order by avg_rating desc\n",
    "limit 10\"\"\", con)"
   ]
  },
  {
   "cell_type": "markdown",
   "id": "66d3c5aa",
   "metadata": {
    "papermill": {
     "duration": 0.027373,
     "end_time": "2024-06-01T03:08:55.559157",
     "exception": false,
     "start_time": "2024-06-01T03:08:55.531784",
     "status": "completed"
    },
    "tags": []
   },
   "source": [
    "Many business have review count is better than ratings and many have vice-versa, So we prefer business on basis that have both better and find best score.\n",
    "\n",
    "### Do restaurants have higher engagement tend to higher ratings?"
   ]
  },
  {
   "cell_type": "code",
   "execution_count": 24,
   "id": "d752fd63",
   "metadata": {
    "execution": {
     "iopub.execute_input": "2024-06-01T03:08:55.617525Z",
     "iopub.status.busy": "2024-06-01T03:08:55.617105Z",
     "iopub.status.idle": "2024-06-01T03:08:59.374964Z",
     "shell.execute_reply": "2024-06-01T03:08:59.373471Z"
    },
    "papermill": {
     "duration": 3.790799,
     "end_time": "2024-06-01T03:08:59.377598",
     "exception": false,
     "start_time": "2024-06-01T03:08:55.586799",
     "status": "completed"
    },
    "tags": []
   },
   "outputs": [
    {
     "data": {
      "text/html": [
       "<div>\n",
       "<style scoped>\n",
       "    .dataframe tbody tr th:only-of-type {\n",
       "        vertical-align: middle;\n",
       "    }\n",
       "\n",
       "    .dataframe tbody tr th {\n",
       "        vertical-align: top;\n",
       "    }\n",
       "\n",
       "    .dataframe thead th {\n",
       "        text-align: right;\n",
       "    }\n",
       "</style>\n",
       "<table border=\"1\" class=\"dataframe\">\n",
       "  <thead>\n",
       "    <tr style=\"text-align: right;\">\n",
       "      <th></th>\n",
       "      <th>business_id</th>\n",
       "      <th>checkin_count</th>\n",
       "    </tr>\n",
       "  </thead>\n",
       "  <tbody>\n",
       "    <tr>\n",
       "      <th>0</th>\n",
       "      <td>---kPU91CF4Lq2-WlRu9Lw</td>\n",
       "      <td>11</td>\n",
       "    </tr>\n",
       "    <tr>\n",
       "      <th>1</th>\n",
       "      <td>--0iUa4sNDFiZFrAdIWhZQ</td>\n",
       "      <td>10</td>\n",
       "    </tr>\n",
       "    <tr>\n",
       "      <th>2</th>\n",
       "      <td>--30_8IhuyMHbSOcNWd6DQ</td>\n",
       "      <td>2</td>\n",
       "    </tr>\n",
       "    <tr>\n",
       "      <th>3</th>\n",
       "      <td>--7PUidqRWpRSpXebiyxTg</td>\n",
       "      <td>10</td>\n",
       "    </tr>\n",
       "    <tr>\n",
       "      <th>4</th>\n",
       "      <td>--7jw19RH9JKXgFohspgQw</td>\n",
       "      <td>26</td>\n",
       "    </tr>\n",
       "    <tr>\n",
       "      <th>...</th>\n",
       "      <td>...</td>\n",
       "      <td>...</td>\n",
       "    </tr>\n",
       "    <tr>\n",
       "      <th>131925</th>\n",
       "      <td>zznJox6-nmXlGYNWgTDwQQ</td>\n",
       "      <td>67</td>\n",
       "    </tr>\n",
       "    <tr>\n",
       "      <th>131926</th>\n",
       "      <td>zznZqH9CiAznbkV6fXyHWA</td>\n",
       "      <td>1</td>\n",
       "    </tr>\n",
       "    <tr>\n",
       "      <th>131927</th>\n",
       "      <td>zzu6_r3DxBJuXcjnOYVdTw</td>\n",
       "      <td>23</td>\n",
       "    </tr>\n",
       "    <tr>\n",
       "      <th>131928</th>\n",
       "      <td>zzw66H6hVjXQEt0Js3Mo4A</td>\n",
       "      <td>2</td>\n",
       "    </tr>\n",
       "    <tr>\n",
       "      <th>131929</th>\n",
       "      <td>zzyx5x0Z7xXWWvWnZFuxlQ</td>\n",
       "      <td>1</td>\n",
       "    </tr>\n",
       "  </tbody>\n",
       "</table>\n",
       "<p>131930 rows × 2 columns</p>\n",
       "</div>"
      ],
      "text/plain": [
       "                   business_id  checkin_count\n",
       "0       ---kPU91CF4Lq2-WlRu9Lw             11\n",
       "1       --0iUa4sNDFiZFrAdIWhZQ             10\n",
       "2       --30_8IhuyMHbSOcNWd6DQ              2\n",
       "3       --7PUidqRWpRSpXebiyxTg             10\n",
       "4       --7jw19RH9JKXgFohspgQw             26\n",
       "...                        ...            ...\n",
       "131925  zznJox6-nmXlGYNWgTDwQQ             67\n",
       "131926  zznZqH9CiAznbkV6fXyHWA              1\n",
       "131927  zzu6_r3DxBJuXcjnOYVdTw             23\n",
       "131928  zzw66H6hVjXQEt0Js3Mo4A              2\n",
       "131929  zzyx5x0Z7xXWWvWnZFuxlQ              1\n",
       "\n",
       "[131930 rows x 2 columns]"
      ]
     },
     "execution_count": 24,
     "metadata": {},
     "output_type": "execute_result"
    }
   ],
   "source": [
    "pd.read_sql_query(\"\"\"SELECT business_id,\n",
    "sum(length(date) - length(replace(date,',',''))+1) as checkin_count\n",
    "from checkin\n",
    "group by business_id\n",
    "\"\"\", con)"
   ]
  },
  {
   "cell_type": "code",
   "execution_count": 25,
   "id": "46d759af",
   "metadata": {
    "execution": {
     "iopub.execute_input": "2024-06-01T03:08:59.438888Z",
     "iopub.status.busy": "2024-06-01T03:08:59.438484Z",
     "iopub.status.idle": "2024-06-01T03:09:00.736791Z",
     "shell.execute_reply": "2024-06-01T03:09:00.735361Z"
    },
    "papermill": {
     "duration": 1.332133,
     "end_time": "2024-06-01T03:09:00.739802",
     "exception": false,
     "start_time": "2024-06-01T03:08:59.407669",
     "status": "completed"
    },
    "tags": []
   },
   "outputs": [
    {
     "data": {
      "text/html": [
       "<div>\n",
       "<style scoped>\n",
       "    .dataframe tbody tr th:only-of-type {\n",
       "        vertical-align: middle;\n",
       "    }\n",
       "\n",
       "    .dataframe tbody tr th {\n",
       "        vertical-align: top;\n",
       "    }\n",
       "\n",
       "    .dataframe thead th {\n",
       "        text-align: right;\n",
       "    }\n",
       "</style>\n",
       "<table border=\"1\" class=\"dataframe\">\n",
       "  <thead>\n",
       "    <tr style=\"text-align: right;\">\n",
       "      <th></th>\n",
       "      <th>business_id</th>\n",
       "      <th>tip_count</th>\n",
       "    </tr>\n",
       "  </thead>\n",
       "  <tbody>\n",
       "    <tr>\n",
       "      <th>0</th>\n",
       "      <td>---kPU91CF4Lq2-WlRu9Lw</td>\n",
       "      <td>4</td>\n",
       "    </tr>\n",
       "    <tr>\n",
       "      <th>1</th>\n",
       "      <td>--0iUa4sNDFiZFrAdIWhZQ</td>\n",
       "      <td>6</td>\n",
       "    </tr>\n",
       "    <tr>\n",
       "      <th>2</th>\n",
       "      <td>--30_8IhuyMHbSOcNWd6DQ</td>\n",
       "      <td>1</td>\n",
       "    </tr>\n",
       "    <tr>\n",
       "      <th>3</th>\n",
       "      <td>--7PUidqRWpRSpXebiyxTg</td>\n",
       "      <td>3</td>\n",
       "    </tr>\n",
       "    <tr>\n",
       "      <th>4</th>\n",
       "      <td>--8IbOsAAxjKRoYsBFL-PA</td>\n",
       "      <td>4</td>\n",
       "    </tr>\n",
       "    <tr>\n",
       "      <th>...</th>\n",
       "      <td>...</td>\n",
       "      <td>...</td>\n",
       "    </tr>\n",
       "    <tr>\n",
       "      <th>106188</th>\n",
       "      <td>zzjCxn89a7RQo8keIOO_Ag</td>\n",
       "      <td>1</td>\n",
       "    </tr>\n",
       "    <tr>\n",
       "      <th>106189</th>\n",
       "      <td>zzjFdJwXuxBOGe9JeY_EMw</td>\n",
       "      <td>2</td>\n",
       "    </tr>\n",
       "    <tr>\n",
       "      <th>106190</th>\n",
       "      <td>zznJox6-nmXlGYNWgTDwQQ</td>\n",
       "      <td>6</td>\n",
       "    </tr>\n",
       "    <tr>\n",
       "      <th>106191</th>\n",
       "      <td>zzu6_r3DxBJuXcjnOYVdTw</td>\n",
       "      <td>2</td>\n",
       "    </tr>\n",
       "    <tr>\n",
       "      <th>106192</th>\n",
       "      <td>zzyx5x0Z7xXWWvWnZFuxlQ</td>\n",
       "      <td>2</td>\n",
       "    </tr>\n",
       "  </tbody>\n",
       "</table>\n",
       "<p>106193 rows × 2 columns</p>\n",
       "</div>"
      ],
      "text/plain": [
       "                   business_id  tip_count\n",
       "0       ---kPU91CF4Lq2-WlRu9Lw          4\n",
       "1       --0iUa4sNDFiZFrAdIWhZQ          6\n",
       "2       --30_8IhuyMHbSOcNWd6DQ          1\n",
       "3       --7PUidqRWpRSpXebiyxTg          3\n",
       "4       --8IbOsAAxjKRoYsBFL-PA          4\n",
       "...                        ...        ...\n",
       "106188  zzjCxn89a7RQo8keIOO_Ag          1\n",
       "106189  zzjFdJwXuxBOGe9JeY_EMw          2\n",
       "106190  zznJox6-nmXlGYNWgTDwQQ          6\n",
       "106191  zzu6_r3DxBJuXcjnOYVdTw          2\n",
       "106192  zzyx5x0Z7xXWWvWnZFuxlQ          2\n",
       "\n",
       "[106193 rows x 2 columns]"
      ]
     },
     "execution_count": 25,
     "metadata": {},
     "output_type": "execute_result"
    }
   ],
   "source": [
    "pd.read_sql_query(\"\"\"SELECT business_id, count(*) as tip_count\n",
    "from tip\n",
    "group by business_id\n",
    "\"\"\", con)"
   ]
  },
  {
   "cell_type": "code",
   "execution_count": 26,
   "id": "61e07016",
   "metadata": {
    "execution": {
     "iopub.execute_input": "2024-06-01T03:09:00.800667Z",
     "iopub.status.busy": "2024-06-01T03:09:00.799715Z",
     "iopub.status.idle": "2024-06-01T03:09:06.139997Z",
     "shell.execute_reply": "2024-06-01T03:09:06.138701Z"
    },
    "papermill": {
     "duration": 5.373986,
     "end_time": "2024-06-01T03:09:06.142591",
     "exception": false,
     "start_time": "2024-06-01T03:09:00.768605",
     "status": "completed"
    },
    "tags": []
   },
   "outputs": [
    {
     "name": "stdout",
     "output_type": "stream",
     "text": [
      "   rating  avg_review_count  avg_checkin_count  avg_tip_count\n",
      "0     1.0         14.365079          17.518072       2.781513\n",
      "1     1.5         24.358459          34.480969       3.884654\n",
      "2     2.0         27.759629          52.386515       4.581058\n",
      "3     2.5         36.631037          79.349429       6.325225\n",
      "4     3.0         48.054998         105.970405       8.301950\n",
      "5     3.5         63.730125         125.781702      10.320786\n",
      "6     4.0         73.136954         127.139075      11.329362\n",
      "7     4.5         65.282554          86.177605       8.995201\n",
      "8     5.0         31.127979          27.545113       4.269082\n"
     ]
    }
   ],
   "source": [
    "review_count_df = pd.read_sql_query(f\"\"\"SELECT total.avg_rating as rating,\n",
    "AVG(total.review_count) as avg_review_count,\n",
    "AVG(total.checkin_count) as avg_checkin_count,\n",
    "AVG(total.tip_count) as avg_tip_count\n",
    "FROM\n",
    "(SELECT\n",
    "    b.business_id,\n",
    "    SUM(b.review_count) as review_count,\n",
    "    AVG(b.stars) as avg_rating,\n",
    "    SUM(length(cc.date) - length(replace(cc.date, ',','')) + 1 ) as checkin_count,\n",
    "    SUM(tip.tip_count) as tip_count\n",
    "FROM\n",
    "    business b\n",
    "LEFT JOIN\n",
    "    checkin cc ON b.business_id = cc.business_id\n",
    "LEFT JOIN\n",
    "    (select business_id, count(business_id) as tip_count from tip GROUP BY business_id ORDER BY tip_count) as tip on b.business_id = tip.business_id\n",
    "WHERE b.business_id IN {tuple(business_id['business_id'])}\n",
    "GROUP BY\n",
    "    b.business_id) as total\n",
    "    \n",
    "GROUP BY total.avg_rating\n",
    "\n",
    "\"\"\", con)\n",
    "\n",
    "print(review_count_df)"
   ]
  },
  {
   "cell_type": "code",
   "execution_count": 27,
   "id": "58d1565c",
   "metadata": {
    "execution": {
     "iopub.execute_input": "2024-06-01T03:09:06.202071Z",
     "iopub.status.busy": "2024-06-01T03:09:06.201600Z",
     "iopub.status.idle": "2024-06-01T03:09:06.859906Z",
     "shell.execute_reply": "2024-06-01T03:09:06.858701Z"
    },
    "papermill": {
     "duration": 0.691404,
     "end_time": "2024-06-01T03:09:06.862493",
     "exception": false,
     "start_time": "2024-06-01T03:09:06.171089",
     "status": "completed"
    },
    "tags": []
   },
   "outputs": [
    {
     "data": {
      "image/png": "[encoded data removed]",
      "text/plain": [
       "<Figure size 1500x500 with 3 Axes>"
      ]
     },
     "metadata": {},
     "output_type": "display_data"
    }
   ],
   "source": [
    "plt.figure(figsize=(15,5))\n",
    "plt.title('AVG Engagement based on Rating\\n\\n')\n",
    "plt.yticks([])\n",
    "plt.xticks([])\n",
    "plt.subplot(1,3,1)\n",
    "plt.title('Review Count')\n",
    "plt.barh(review_count_df['rating'].astype('str'), review_count_df['avg_review_count'], edgecolor = 'k', color = '#ADD8E6')\n",
    "plt.gca().spines['right'].set_visible(False)\n",
    "\n",
    "for i, value in enumerate(review_count_df['avg_review_count']):\n",
    "    plt.text(value + 3, i, str(round(value)), color = 'black', va = 'center')\n",
    "\n",
    "\n",
    "    \n",
    "plt.xticks([])\n",
    "plt.subplot(1,3,2)\n",
    "plt.title('Checkin Count')\n",
    "plt.barh(review_count_df['rating'].astype('str'), review_count_df['avg_checkin_count'], edgecolor = 'k', color = '#00008B')\n",
    "plt.gca().spines['right'].set_visible(False)\n",
    "\n",
    "for i, value in enumerate(review_count_df['avg_checkin_count']):\n",
    "    plt.text(value + 3, i, str(round(value)), color = 'black', va = 'center')\n",
    "    \n",
    "    \n",
    "    \n",
    "    \n",
    "plt.xticks([])\n",
    "plt.subplot(1,3,3)\n",
    "plt.title('Tip Count')\n",
    "plt.barh(review_count_df['rating'].astype('str'), review_count_df['avg_tip_count'], edgecolor = 'k', color = '#4169E1')\n",
    "# plt.gca().spines['right'].set_visible(False)\n",
    "\n",
    "for i, value in enumerate(review_count_df['avg_tip_count']):\n",
    "    plt.text(value + 0.05, i, str(round(value)), color = 'black', va = 'center')\n",
    "plt.xticks([])\n",
    "plt.show()\n"
   ]
  },
  {
   "cell_type": "markdown",
   "id": "5d1ba876",
   "metadata": {
    "papermill": {
     "duration": 0.028639,
     "end_time": "2024-06-01T03:09:06.920922",
     "exception": false,
     "start_time": "2024-06-01T03:09:06.892283",
     "status": "completed"
    },
    "tags": []
   },
   "source": [
    "### Q. Is there any correlation between the number of reviews, tips and check-ins for a business?"
   ]
  },
  {
   "cell_type": "code",
   "execution_count": 28,
   "id": "d3e7add2",
   "metadata": {
    "execution": {
     "iopub.execute_input": "2024-06-01T03:09:06.984742Z",
     "iopub.status.busy": "2024-06-01T03:09:06.983282Z",
     "iopub.status.idle": "2024-06-01T03:09:12.548102Z",
     "shell.execute_reply": "2024-06-01T03:09:12.546450Z"
    },
    "papermill": {
     "duration": 5.5997,
     "end_time": "2024-06-01T03:09:12.550898",
     "exception": false,
     "start_time": "2024-06-01T03:09:06.951198",
     "status": "completed"
    },
    "tags": []
   },
   "outputs": [
    {
     "name": "stdout",
     "output_type": "stream",
     "text": [
      "                  business_id  review_count  avg_rating  checkin_count  \\\n",
      "0      ---kPU91CF4Lq2-WlRu9Lw            24         4.5           11.0   \n",
      "1      --0iUa4sNDFiZFrAdIWhZQ            14         3.0           10.0   \n",
      "2      --epgcb7xHGuJ-4PUeSLAw            34         3.0          118.0   \n",
      "4      --lqIzK-ZVTtgwiQM63XgQ            15         2.0           21.0   \n",
      "5      -09Oc2D14vRnmirPh0vlXw           135         3.0          500.0   \n",
      "...                       ...           ...         ...            ...   \n",
      "31530  zzIF9qp2UoHN48EeZH_IDg            19         3.0            6.0   \n",
      "31532  zzbZtgPYZS8sTIWQH6DwEw            86         3.0          292.0   \n",
      "31533  zziDpuuJw-Km1J4BaGpBKA             6         3.5           20.0   \n",
      "31534  zzjFdJwXuxBOGe9JeY_EMw            47         4.0           27.0   \n",
      "31535  zznJox6-nmXlGYNWgTDwQQ            30         1.5           67.0   \n",
      "\n",
      "       tip_count    category  \n",
      "0            4.0  High-Rated  \n",
      "1            6.0   Low_Rated  \n",
      "2            6.0   Low_Rated  \n",
      "4            2.0   Low_Rated  \n",
      "5           25.0   Low_Rated  \n",
      "...          ...         ...  \n",
      "31530        5.0   Low_Rated  \n",
      "31532       17.0   Low_Rated  \n",
      "31533        2.0  High-Rated  \n",
      "31534        2.0  High-Rated  \n",
      "31535        6.0   Low_Rated  \n",
      "\n",
      "[27662 rows x 6 columns]\n"
     ]
    }
   ],
   "source": [
    "engagement_df = pd.read_sql_query(f\"\"\"SELECT\n",
    "    b.business_id,\n",
    "    SUM(b.review_count) as review_count,\n",
    "    AVG(b.stars) as avg_rating,\n",
    "    SUM(length(cc.date) - length(replace(cc.date, ',','')) + 1 ) as checkin_count,\n",
    "    SUM(tip.tip_count) as tip_count,\n",
    "    (CASE WHEN b.stars >= 3.5 Then 'High-Rated' Else 'Low_Rated' End) as category\n",
    "FROM\n",
    "    business b\n",
    "LEFT JOIN\n",
    "    checkin cc ON b.business_id = cc.business_id\n",
    "LEFT JOIN\n",
    "    (select business_id, count(business_id) as tip_count from tip GROUP BY business_id ORDER BY tip_count) as tip on b.business_id = tip.business_id\n",
    "WHERE b.business_id IN {tuple(business_id['business_id'])}\n",
    "GROUP BY\n",
    "    b.business_id\n",
    "\"\"\", con).dropna()\n",
    "\n",
    "print(engagement_df)"
   ]
  },
  {
   "cell_type": "code",
   "execution_count": 29,
   "id": "a2154d03",
   "metadata": {
    "execution": {
     "iopub.execute_input": "2024-06-01T03:09:12.613521Z",
     "iopub.status.busy": "2024-06-01T03:09:12.613024Z",
     "iopub.status.idle": "2024-06-01T03:09:12.634977Z",
     "shell.execute_reply": "2024-06-01T03:09:12.633576Z"
    },
    "papermill": {
     "duration": 0.057139,
     "end_time": "2024-06-01T03:09:12.637668",
     "exception": false,
     "start_time": "2024-06-01T03:09:12.580529",
     "status": "completed"
    },
    "tags": []
   },
   "outputs": [
    {
     "name": "stdout",
     "output_type": "stream",
     "text": [
      "Correlation find\n"
     ]
    },
    {
     "data": {
      "text/html": [
       "<div>\n",
       "<style scoped>\n",
       "    .dataframe tbody tr th:only-of-type {\n",
       "        vertical-align: middle;\n",
       "    }\n",
       "\n",
       "    .dataframe tbody tr th {\n",
       "        vertical-align: top;\n",
       "    }\n",
       "\n",
       "    .dataframe thead th {\n",
       "        text-align: right;\n",
       "    }\n",
       "</style>\n",
       "<table border=\"1\" class=\"dataframe\">\n",
       "  <thead>\n",
       "    <tr style=\"text-align: right;\">\n",
       "      <th></th>\n",
       "      <th>review_count</th>\n",
       "      <th>checkin_count</th>\n",
       "      <th>tip_count</th>\n",
       "    </tr>\n",
       "  </thead>\n",
       "  <tbody>\n",
       "    <tr>\n",
       "      <th>review_count</th>\n",
       "      <td>1.000000</td>\n",
       "      <td>0.626884</td>\n",
       "      <td>0.766321</td>\n",
       "    </tr>\n",
       "    <tr>\n",
       "      <th>checkin_count</th>\n",
       "      <td>0.626884</td>\n",
       "      <td>1.000000</td>\n",
       "      <td>0.772088</td>\n",
       "    </tr>\n",
       "    <tr>\n",
       "      <th>tip_count</th>\n",
       "      <td>0.766321</td>\n",
       "      <td>0.772088</td>\n",
       "      <td>1.000000</td>\n",
       "    </tr>\n",
       "  </tbody>\n",
       "</table>\n",
       "</div>"
      ],
      "text/plain": [
       "               review_count  checkin_count  tip_count\n",
       "review_count       1.000000       0.626884   0.766321\n",
       "checkin_count      0.626884       1.000000   0.772088\n",
       "tip_count          0.766321       0.772088   1.000000"
      ]
     },
     "execution_count": 29,
     "metadata": {},
     "output_type": "execute_result"
    }
   ],
   "source": [
    "print(\"Correlation find\")\n",
    "engagement_df[['review_count', 'checkin_count', 'tip_count']].corr()"
   ]
  },
  {
   "cell_type": "code",
   "execution_count": 30,
   "id": "83f27121",
   "metadata": {
    "execution": {
     "iopub.execute_input": "2024-06-01T03:09:12.700975Z",
     "iopub.status.busy": "2024-06-01T03:09:12.700543Z",
     "iopub.status.idle": "2024-06-01T03:09:13.088790Z",
     "shell.execute_reply": "2024-06-01T03:09:13.087358Z"
    },
    "papermill": {
     "duration": 0.423336,
     "end_time": "2024-06-01T03:09:13.091454",
     "exception": false,
     "start_time": "2024-06-01T03:09:12.668118",
     "status": "completed"
    },
    "tags": []
   },
   "outputs": [
    {
     "data": {
      "text/plain": [
       "<Axes: >"
      ]
     },
     "execution_count": 30,
     "metadata": {},
     "output_type": "execute_result"
    },
    {
     "data": {
      "image/png": "[encoded data removed]",
      "text/plain": [
       "<Figure size 640x480 with 2 Axes>"
      ]
     },
     "metadata": {},
     "output_type": "display_data"
    }
   ],
   "source": [
    "from matplotlib.colors import LinearSegmentedColormap\n",
    "\n",
    "colors = ['#ADD8E6', '#4169E1', '#00008B']\n",
    "custom_cmap = LinearSegmentedColormap.from_list(\"mycmap\", colors)\n",
    "sns.heatmap(engagement_df[['review_count', 'checkin_count', 'tip_count']].corr(), cmap = custom_cmap, annot = True, linewidths = 0.4, linecolor = 'black')\n"
   ]
  },
  {
   "cell_type": "markdown",
   "id": "23a22473",
   "metadata": {
    "papermill": {
     "duration": 0.031335,
     "end_time": "2024-06-01T03:09:13.154615",
     "exception": false,
     "start_time": "2024-06-01T03:09:13.123280",
     "status": "completed"
    },
    "tags": []
   },
   "source": [
    "### Q. Is there any difference in the user engagement (review, tips, and check-ins) between high-rated and low-rated business?"
   ]
  },
  {
   "cell_type": "code",
   "execution_count": 31,
   "id": "e82757a8",
   "metadata": {
    "execution": {
     "iopub.execute_input": "2024-06-01T03:09:13.220515Z",
     "iopub.status.busy": "2024-06-01T03:09:13.219575Z",
     "iopub.status.idle": "2024-06-01T03:09:13.249492Z",
     "shell.execute_reply": "2024-06-01T03:09:13.248405Z"
    },
    "papermill": {
     "duration": 0.065599,
     "end_time": "2024-06-01T03:09:13.252138",
     "exception": false,
     "start_time": "2024-06-01T03:09:13.186539",
     "status": "completed"
    },
    "tags": []
   },
   "outputs": [
    {
     "data": {
      "text/html": [
       "<div>\n",
       "<style scoped>\n",
       "    .dataframe tbody tr th:only-of-type {\n",
       "        vertical-align: middle;\n",
       "    }\n",
       "\n",
       "    .dataframe tbody tr th {\n",
       "        vertical-align: top;\n",
       "    }\n",
       "\n",
       "    .dataframe thead th {\n",
       "        text-align: right;\n",
       "    }\n",
       "</style>\n",
       "<table border=\"1\" class=\"dataframe\">\n",
       "  <thead>\n",
       "    <tr style=\"text-align: right;\">\n",
       "      <th></th>\n",
       "      <th>review_count</th>\n",
       "      <th>tip_count</th>\n",
       "      <th>checkin_count</th>\n",
       "    </tr>\n",
       "    <tr>\n",
       "      <th>category</th>\n",
       "      <th></th>\n",
       "      <th></th>\n",
       "      <th></th>\n",
       "    </tr>\n",
       "  </thead>\n",
       "  <tbody>\n",
       "    <tr>\n",
       "      <th>High-Rated</th>\n",
       "      <td>72.291062</td>\n",
       "      <td>10.162766</td>\n",
       "      <td>122.066641</td>\n",
       "    </tr>\n",
       "    <tr>\n",
       "      <th>Low_Rated</th>\n",
       "      <td>42.123420</td>\n",
       "      <td>6.541689</td>\n",
       "      <td>88.880828</td>\n",
       "    </tr>\n",
       "  </tbody>\n",
       "</table>\n",
       "</div>"
      ],
      "text/plain": [
       "            review_count  tip_count  checkin_count\n",
       "category                                          \n",
       "High-Rated     72.291062  10.162766     122.066641\n",
       "Low_Rated      42.123420   6.541689      88.880828"
      ]
     },
     "execution_count": 31,
     "metadata": {},
     "output_type": "execute_result"
    }
   ],
   "source": [
    "engagement_df.groupby('category')[['review_count', 'tip_count', 'checkin_count']].mean()"
   ]
  },
  {
   "cell_type": "markdown",
   "id": "16a025f0",
   "metadata": {
    "papermill": {
     "duration": 0.031416,
     "end_time": "2024-06-01T03:09:13.315311",
     "exception": false,
     "start_time": "2024-06-01T03:09:13.283895",
     "status": "completed"
    },
    "tags": []
   },
   "source": [
    "### Next analysis we do on based success score for that we create one function, based on ratings and review count."
   ]
  },
  {
   "cell_type": "code",
   "execution_count": 32,
   "id": "68be48bc",
   "metadata": {
    "execution": {
     "iopub.execute_input": "2024-06-01T03:09:13.382427Z",
     "iopub.status.busy": "2024-06-01T03:09:13.381415Z",
     "iopub.status.idle": "2024-06-01T03:09:13.389010Z",
     "shell.execute_reply": "2024-06-01T03:09:13.387737Z"
    },
    "papermill": {
     "duration": 0.044102,
     "end_time": "2024-06-01T03:09:13.391845",
     "exception": false,
     "start_time": "2024-06-01T03:09:13.347743",
     "status": "completed"
    },
    "tags": []
   },
   "outputs": [
    {
     "name": "stdout",
     "output_type": "stream",
     "text": [
      "Compile Function\n"
     ]
    }
   ],
   "source": [
    "#  Function to calculate the success score based on the avg rating and total review count\n",
    "\n",
    "def calculate_success_metric(df):\n",
    "    success_score = []\n",
    "    for index, row in df.iterrows():\n",
    "        score = row['avg_rating'] * np.log(row['review_count'] + 1)\n",
    "        success_score.append(score)\n",
    "    return success_score\n",
    "\n",
    "print(\"Compile Function\")"
   ]
  },
  {
   "cell_type": "markdown",
   "id": "c866daa8",
   "metadata": {
    "papermill": {
     "duration": 0.031647,
     "end_time": "2024-06-01T03:09:13.455525",
     "exception": false,
     "start_time": "2024-06-01T03:09:13.423878",
     "status": "completed"
    },
    "tags": []
   },
   "source": [
    "### Q. How do the success metrics (review_count or avg_rating) of restaurants vary across different states and cities."
   ]
  },
  {
   "cell_type": "code",
   "execution_count": 33,
   "id": "35f31a44",
   "metadata": {
    "execution": {
     "iopub.execute_input": "2024-06-01T03:09:13.523426Z",
     "iopub.status.busy": "2024-06-01T03:09:13.522500Z",
     "iopub.status.idle": "2024-06-01T03:09:13.866599Z",
     "shell.execute_reply": "2024-06-01T03:09:13.865336Z"
    },
    "papermill": {
     "duration": 0.380604,
     "end_time": "2024-06-01T03:09:13.869502",
     "exception": false,
     "start_time": "2024-06-01T03:09:13.488898",
     "status": "completed"
    },
    "tags": []
   },
   "outputs": [],
   "source": [
    "city_df = pd.read_sql_query(f\"\"\"SELECT city, state, latitude, longitude, AVG(stars) as avg_rating, SUM(review_count) as review_count,\n",
    "count(*) as restaurant_count\n",
    "from business\n",
    "WHERE business_id IN {tuple(business_id['business_id'])}\n",
    "group by state, city\n",
    "order by review_count desc\n",
    "limit 10\n",
    "\"\"\", con)\n",
    "\n",
    "# Now we will find business score then according to it we plot in to it\n",
    "city_df['success_score'] = calculate_success_metric(city_df)"
   ]
  },
  {
   "cell_type": "code",
   "execution_count": 34,
   "id": "87df1d63",
   "metadata": {
    "execution": {
     "iopub.execute_input": "2024-06-01T03:09:13.937031Z",
     "iopub.status.busy": "2024-06-01T03:09:13.936628Z",
     "iopub.status.idle": "2024-06-01T03:09:13.954890Z",
     "shell.execute_reply": "2024-06-01T03:09:13.953677Z"
    },
    "papermill": {
     "duration": 0.055268,
     "end_time": "2024-06-01T03:09:13.957287",
     "exception": false,
     "start_time": "2024-06-01T03:09:13.902019",
     "status": "completed"
    },
    "tags": []
   },
   "outputs": [
    {
     "data": {
      "text/html": [
       "<div>\n",
       "<style scoped>\n",
       "    .dataframe tbody tr th:only-of-type {\n",
       "        vertical-align: middle;\n",
       "    }\n",
       "\n",
       "    .dataframe tbody tr th {\n",
       "        vertical-align: top;\n",
       "    }\n",
       "\n",
       "    .dataframe thead th {\n",
       "        text-align: right;\n",
       "    }\n",
       "</style>\n",
       "<table border=\"1\" class=\"dataframe\">\n",
       "  <thead>\n",
       "    <tr style=\"text-align: right;\">\n",
       "      <th></th>\n",
       "      <th>city</th>\n",
       "      <th>state</th>\n",
       "      <th>latitude</th>\n",
       "      <th>longitude</th>\n",
       "      <th>avg_rating</th>\n",
       "      <th>review_count</th>\n",
       "      <th>restaurant_count</th>\n",
       "      <th>success_score</th>\n",
       "    </tr>\n",
       "  </thead>\n",
       "  <tbody>\n",
       "    <tr>\n",
       "      <th>0</th>\n",
       "      <td>Philadelphia</td>\n",
       "      <td>PA</td>\n",
       "      <td>39.955505</td>\n",
       "      <td>-75.155564</td>\n",
       "      <td>3.532156</td>\n",
       "      <td>175487</td>\n",
       "      <td>3001</td>\n",
       "      <td>42.651934</td>\n",
       "    </tr>\n",
       "    <tr>\n",
       "      <th>1</th>\n",
       "      <td>Tampa</td>\n",
       "      <td>FL</td>\n",
       "      <td>27.890814</td>\n",
       "      <td>-82.502346</td>\n",
       "      <td>3.571429</td>\n",
       "      <td>104376</td>\n",
       "      <td>1715</td>\n",
       "      <td>41.270588</td>\n",
       "    </tr>\n",
       "    <tr>\n",
       "      <th>2</th>\n",
       "      <td>Indianapolis</td>\n",
       "      <td>IN</td>\n",
       "      <td>39.637133</td>\n",
       "      <td>-86.127217</td>\n",
       "      <td>3.412111</td>\n",
       "      <td>92639</td>\n",
       "      <td>1701</td>\n",
       "      <td>39.022521</td>\n",
       "    </tr>\n",
       "    <tr>\n",
       "      <th>3</th>\n",
       "      <td>Tucson</td>\n",
       "      <td>AZ</td>\n",
       "      <td>32.338572</td>\n",
       "      <td>-111.010760</td>\n",
       "      <td>3.386187</td>\n",
       "      <td>91613</td>\n",
       "      <td>1419</td>\n",
       "      <td>38.688341</td>\n",
       "    </tr>\n",
       "    <tr>\n",
       "      <th>4</th>\n",
       "      <td>Nashville</td>\n",
       "      <td>TN</td>\n",
       "      <td>36.208102</td>\n",
       "      <td>-86.768170</td>\n",
       "      <td>3.493590</td>\n",
       "      <td>87070</td>\n",
       "      <td>1404</td>\n",
       "      <td>39.737764</td>\n",
       "    </tr>\n",
       "    <tr>\n",
       "      <th>5</th>\n",
       "      <td>New Orleans</td>\n",
       "      <td>LA</td>\n",
       "      <td>29.963974</td>\n",
       "      <td>-90.042604</td>\n",
       "      <td>3.693676</td>\n",
       "      <td>69239</td>\n",
       "      <td>1012</td>\n",
       "      <td>41.167252</td>\n",
       "    </tr>\n",
       "    <tr>\n",
       "      <th>6</th>\n",
       "      <td>Saint Louis</td>\n",
       "      <td>MO</td>\n",
       "      <td>38.583223</td>\n",
       "      <td>-90.407187</td>\n",
       "      <td>3.414303</td>\n",
       "      <td>51490</td>\n",
       "      <td>811</td>\n",
       "      <td>37.042331</td>\n",
       "    </tr>\n",
       "    <tr>\n",
       "      <th>7</th>\n",
       "      <td>Reno</td>\n",
       "      <td>NV</td>\n",
       "      <td>39.476518</td>\n",
       "      <td>-119.784037</td>\n",
       "      <td>3.479626</td>\n",
       "      <td>48393</td>\n",
       "      <td>589</td>\n",
       "      <td>37.535187</td>\n",
       "    </tr>\n",
       "    <tr>\n",
       "      <th>8</th>\n",
       "      <td>Edmonton</td>\n",
       "      <td>AB</td>\n",
       "      <td>53.436403</td>\n",
       "      <td>-113.604288</td>\n",
       "      <td>3.509379</td>\n",
       "      <td>45916</td>\n",
       "      <td>1546</td>\n",
       "      <td>37.671748</td>\n",
       "    </tr>\n",
       "    <tr>\n",
       "      <th>9</th>\n",
       "      <td>Boise</td>\n",
       "      <td>ID</td>\n",
       "      <td>43.611192</td>\n",
       "      <td>-116.206275</td>\n",
       "      <td>3.558824</td>\n",
       "      <td>36104</td>\n",
       "      <td>561</td>\n",
       "      <td>37.346958</td>\n",
       "    </tr>\n",
       "  </tbody>\n",
       "</table>\n",
       "</div>"
      ],
      "text/plain": [
       "           city state   latitude   longitude  avg_rating  review_count  \\\n",
       "0  Philadelphia    PA  39.955505  -75.155564    3.532156        175487   \n",
       "1         Tampa    FL  27.890814  -82.502346    3.571429        104376   \n",
       "2  Indianapolis    IN  39.637133  -86.127217    3.412111         92639   \n",
       "3        Tucson    AZ  32.338572 -111.010760    3.386187         91613   \n",
       "4     Nashville    TN  36.208102  -86.768170    3.493590         87070   \n",
       "5   New Orleans    LA  29.963974  -90.042604    3.693676         69239   \n",
       "6   Saint Louis    MO  38.583223  -90.407187    3.414303         51490   \n",
       "7          Reno    NV  39.476518 -119.784037    3.479626         48393   \n",
       "8      Edmonton    AB  53.436403 -113.604288    3.509379         45916   \n",
       "9         Boise    ID  43.611192 -116.206275    3.558824         36104   \n",
       "\n",
       "   restaurant_count  success_score  \n",
       "0              3001      42.651934  \n",
       "1              1715      41.270588  \n",
       "2              1701      39.022521  \n",
       "3              1419      38.688341  \n",
       "4              1404      39.737764  \n",
       "5              1012      41.167252  \n",
       "6               811      37.042331  \n",
       "7               589      37.535187  \n",
       "8              1546      37.671748  \n",
       "9               561      37.346958  "
      ]
     },
     "execution_count": 34,
     "metadata": {},
     "output_type": "execute_result"
    }
   ],
   "source": [
    "# Printing Succes Score \n",
    "city_df"
   ]
  },
  {
   "cell_type": "code",
   "execution_count": 35,
   "id": "a3136955",
   "metadata": {
    "execution": {
     "iopub.execute_input": "2024-06-01T03:09:14.026936Z",
     "iopub.status.busy": "2024-06-01T03:09:14.026010Z",
     "iopub.status.idle": "2024-06-01T03:09:14.092508Z",
     "shell.execute_reply": "2024-06-01T03:09:14.091050Z"
    },
    "papermill": {
     "duration": 0.105107,
     "end_time": "2024-06-01T03:09:14.095175",
     "exception": false,
     "start_time": "2024-06-01T03:09:13.990068",
     "status": "completed"
    },
    "tags": []
   },
   "outputs": [
    {
     "data": {
      "text/html": [
       "<div style=\"width:100%;\"><div style=\"position:relative;width:100%;height:0;padding-bottom:60%;\"><span style=\"color:#565656\">Make this Notebook Trusted to load map: File -> Trust Notebook</span><iframe srcdoc=\"&lt;!DOCTYPE html&gt;\n",
       "&lt;html&gt;\n",
       "&lt;head&gt;\n",
       "    \n",
       "    &lt;meta http-equiv=&quot;content-type&quot; content=&quot;text/html; charset=UTF-8&quot; /&gt;\n",
       "    \n",
       "        &lt;script&gt;\n",
       "            L_NO_TOUCH = false;\n",
       "            L_DISABLE_3D = false;\n",
       "        &lt;/script&gt;\n",
       "    \n",
       "    &lt;style&gt;html, body {width: 100%;height: 100%;margin: 0;padding: 0;}&lt;/style&gt;\n",
       "    &lt;style&gt;#map {position:absolute;top:0;bottom:0;right:0;left:0;}&lt;/style&gt;\n",
       "    &lt;script src=&quot;https://cdn.jsdelivr.net/npm/leaflet@1.9.3/dist/leaflet.js&quot;&gt;&lt;/script&gt;\n",
       "    &lt;script src=&quot;https://code.jquery.com/jquery-3.7.1.min.js&quot;&gt;&lt;/script&gt;\n",
       "    &lt;script src=&quot;https://cdn.jsdelivr.net/npm/bootstrap@5.2.2/dist/js/bootstrap.bundle.min.js&quot;&gt;&lt;/script&gt;\n",
       "    &lt;script src=&quot;https://cdnjs.cloudflare.com/ajax/libs/Leaflet.awesome-markers/2.0.2/leaflet.awesome-markers.js&quot;&gt;&lt;/script&gt;\n",
       "    &lt;link rel=&quot;stylesheet&quot; href=&quot;https://cdn.jsdelivr.net/npm/leaflet@1.9.3/dist/leaflet.css&quot;/&gt;\n",
       "    &lt;link rel=&quot;stylesheet&quot; href=&quot;https://cdn.jsdelivr.net/npm/bootstrap@5.2.2/dist/css/bootstrap.min.css&quot;/&gt;\n",
       "    &lt;link rel=&quot;stylesheet&quot; href=&quot;https://netdna.bootstrapcdn.com/bootstrap/3.0.0/css/bootstrap.min.css&quot;/&gt;\n",
       "    &lt;link rel=&quot;stylesheet&quot; href=&quot;https://cdn.jsdelivr.net/npm/@fortawesome/fontawesome-free@6.2.0/css/all.min.css&quot;/&gt;\n",
       "    &lt;link rel=&quot;stylesheet&quot; href=&quot;https://cdnjs.cloudflare.com/ajax/libs/Leaflet.awesome-markers/2.0.2/leaflet.awesome-markers.css&quot;/&gt;\n",
       "    &lt;link rel=&quot;stylesheet&quot; href=&quot;https://cdn.jsdelivr.net/gh/python-visualization/folium/folium/templates/leaflet.awesome.rotate.min.css&quot;/&gt;\n",
       "    \n",
       "            &lt;meta name=&quot;viewport&quot; content=&quot;width=device-width,\n",
       "                initial-scale=1.0, maximum-scale=1.0, user-scalable=no&quot; /&gt;\n",
       "            &lt;style&gt;\n",
       "                #map_c5149628328a37970ad4c1e6f6abe7ed {\n",
       "                    position: relative;\n",
       "                    width: 100.0%;\n",
       "                    height: 100.0%;\n",
       "                    left: 0.0%;\n",
       "                    top: 0.0%;\n",
       "                }\n",
       "                .leaflet-container { font-size: 1rem; }\n",
       "            &lt;/style&gt;\n",
       "        \n",
       "    &lt;script src=&quot;https://cdnjs.cloudflare.com/ajax/libs/d3/3.5.5/d3.min.js&quot;&gt;&lt;/script&gt;\n",
       "&lt;/head&gt;\n",
       "&lt;body&gt;\n",
       "    \n",
       "    \n",
       "            &lt;div class=&quot;folium-map&quot; id=&quot;map_c5149628328a37970ad4c1e6f6abe7ed&quot; &gt;&lt;/div&gt;\n",
       "        \n",
       "&lt;/body&gt;\n",
       "&lt;script&gt;\n",
       "    \n",
       "    \n",
       "            var map_c5149628328a37970ad4c1e6f6abe7ed = L.map(\n",
       "                &quot;map_c5149628328a37970ad4c1e6f6abe7ed&quot;,\n",
       "                {\n",
       "                    center: [38.110143728379995, -97.16084493119999],\n",
       "                    crs: L.CRS.EPSG3857,\n",
       "                    zoom: 4,\n",
       "                    zoomControl: true,\n",
       "                    preferCanvas: false,\n",
       "                }\n",
       "            );\n",
       "\n",
       "            \n",
       "\n",
       "        \n",
       "    \n",
       "            var tile_layer_9d740fddba49d7c291349d3395ada67f = L.tileLayer(\n",
       "                &quot;https://tile.openstreetmap.org/{z}/{x}/{y}.png&quot;,\n",
       "                {&quot;attribution&quot;: &quot;\\u0026copy; \\u003ca href=\\&quot;https://www.openstreetmap.org/copyright\\&quot;\\u003eOpenStreetMap\\u003c/a\\u003e contributors&quot;, &quot;detectRetina&quot;: false, &quot;maxNativeZoom&quot;: 19, &quot;maxZoom&quot;: 19, &quot;minZoom&quot;: 0, &quot;noWrap&quot;: false, &quot;opacity&quot;: 1, &quot;subdomains&quot;: &quot;abc&quot;, &quot;tms&quot;: false}\n",
       "            );\n",
       "        \n",
       "    \n",
       "            tile_layer_9d740fddba49d7c291349d3395ada67f.addTo(map_c5149628328a37970ad4c1e6f6abe7ed);\n",
       "        \n",
       "    \n",
       "            var circle_marker_ba6f38238d7eea16efacc2b7e76a9e1f = L.circleMarker(\n",
       "                [39.9555052, -75.1555641],\n",
       "                {&quot;bubblingMouseEvents&quot;: true, &quot;color&quot;: &quot;#e54f29ff&quot;, &quot;dashArray&quot;: null, &quot;dashOffset&quot;: null, &quot;fill&quot;: true, &quot;fillColor&quot;: &quot;#e54f29ff&quot;, &quot;fillOpacity&quot;: 0.7, &quot;fillRule&quot;: &quot;evenodd&quot;, &quot;lineCap&quot;: &quot;round&quot;, &quot;lineJoin&quot;: &quot;round&quot;, &quot;opacity&quot;: 1.0, &quot;radius&quot;: 5, &quot;stroke&quot;: true, &quot;weight&quot;: 3}\n",
       "            ).addTo(map_c5149628328a37970ad4c1e6f6abe7ed);\n",
       "        \n",
       "    \n",
       "        var popup_a4234b73382d42fdac2f527bb555285e = L.popup({&quot;maxWidth&quot;: &quot;100%&quot;});\n",
       "\n",
       "        \n",
       "            \n",
       "                var html_b03cd43a6dbb27c1482294335a8d2c56 = $(`&lt;div id=&quot;html_b03cd43a6dbb27c1482294335a8d2c56&quot; style=&quot;width: 100.0%; height: 100.0%;&quot;&gt;Success Score: 42.65193435551765&lt;/div&gt;`)[0];\n",
       "                popup_a4234b73382d42fdac2f527bb555285e.setContent(html_b03cd43a6dbb27c1482294335a8d2c56);\n",
       "            \n",
       "        \n",
       "\n",
       "        circle_marker_ba6f38238d7eea16efacc2b7e76a9e1f.bindPopup(popup_a4234b73382d42fdac2f527bb555285e)\n",
       "        ;\n",
       "\n",
       "        \n",
       "    \n",
       "    \n",
       "            var circle_marker_70ce8143992653dad799bfe1930a9377 = L.circleMarker(\n",
       "                [27.890814, -82.5023464],\n",
       "                {&quot;bubblingMouseEvents&quot;: true, &quot;color&quot;: &quot;#f2a614ff&quot;, &quot;dashArray&quot;: null, &quot;dashOffset&quot;: null, &quot;fill&quot;: true, &quot;fillColor&quot;: &quot;#f2a614ff&quot;, &quot;fillOpacity&quot;: 0.7, &quot;fillRule&quot;: &quot;evenodd&quot;, &quot;lineCap&quot;: &quot;round&quot;, &quot;lineJoin&quot;: &quot;round&quot;, &quot;opacity&quot;: 1.0, &quot;radius&quot;: 5, &quot;stroke&quot;: true, &quot;weight&quot;: 3}\n",
       "            ).addTo(map_c5149628328a37970ad4c1e6f6abe7ed);\n",
       "        \n",
       "    \n",
       "        var popup_2a929adad0abdca6f46d280e758f608b = L.popup({&quot;maxWidth&quot;: &quot;100%&quot;});\n",
       "\n",
       "        \n",
       "            \n",
       "                var html_1f781bf00fc13c641df37fd8d2d460e9 = $(`&lt;div id=&quot;html_1f781bf00fc13c641df37fd8d2d460e9&quot; style=&quot;width: 100.0%; height: 100.0%;&quot;&gt;Success Score: 41.27058794159365&lt;/div&gt;`)[0];\n",
       "                popup_2a929adad0abdca6f46d280e758f608b.setContent(html_1f781bf00fc13c641df37fd8d2d460e9);\n",
       "            \n",
       "        \n",
       "\n",
       "        circle_marker_70ce8143992653dad799bfe1930a9377.bindPopup(popup_2a929adad0abdca6f46d280e758f608b)\n",
       "        ;\n",
       "\n",
       "        \n",
       "    \n",
       "    \n",
       "            var circle_marker_3bd6946772a25acaa8dcd3db478a6c4f = L.circleMarker(\n",
       "                [39.6371332838, -86.127217412],\n",
       "                {&quot;bubblingMouseEvents&quot;: true, &quot;color&quot;: &quot;#b4da00ff&quot;, &quot;dashArray&quot;: null, &quot;dashOffset&quot;: null, &quot;fill&quot;: true, &quot;fillColor&quot;: &quot;#b4da00ff&quot;, &quot;fillOpacity&quot;: 0.7, &quot;fillRule&quot;: &quot;evenodd&quot;, &quot;lineCap&quot;: &quot;round&quot;, &quot;lineJoin&quot;: &quot;round&quot;, &quot;opacity&quot;: 1.0, &quot;radius&quot;: 5, &quot;stroke&quot;: true, &quot;weight&quot;: 3}\n",
       "            ).addTo(map_c5149628328a37970ad4c1e6f6abe7ed);\n",
       "        \n",
       "    \n",
       "        var popup_f3aa9573e3dd05bca541888cdf3f44c8 = L.popup({&quot;maxWidth&quot;: &quot;100%&quot;});\n",
       "\n",
       "        \n",
       "            \n",
       "                var html_86a3245d3bc041c3e84d5faf50d4d750 = $(`&lt;div id=&quot;html_86a3245d3bc041c3e84d5faf50d4d750&quot; style=&quot;width: 100.0%; height: 100.0%;&quot;&gt;Success Score: 39.0225211072609&lt;/div&gt;`)[0];\n",
       "                popup_f3aa9573e3dd05bca541888cdf3f44c8.setContent(html_86a3245d3bc041c3e84d5faf50d4d750);\n",
       "            \n",
       "        \n",
       "\n",
       "        circle_marker_3bd6946772a25acaa8dcd3db478a6c4f.bindPopup(popup_f3aa9573e3dd05bca541888cdf3f44c8)\n",
       "        ;\n",
       "\n",
       "        \n",
       "    \n",
       "    \n",
       "            var circle_marker_64bee67d7968cfc13bc8db5f4efdcf9c = L.circleMarker(\n",
       "                [32.3385723, -111.0107602],\n",
       "                {&quot;bubblingMouseEvents&quot;: true, &quot;color&quot;: &quot;#96cb00ff&quot;, &quot;dashArray&quot;: null, &quot;dashOffset&quot;: null, &quot;fill&quot;: true, &quot;fillColor&quot;: &quot;#96cb00ff&quot;, &quot;fillOpacity&quot;: 0.7, &quot;fillRule&quot;: &quot;evenodd&quot;, &quot;lineCap&quot;: &quot;round&quot;, &quot;lineJoin&quot;: &quot;round&quot;, &quot;opacity&quot;: 1.0, &quot;radius&quot;: 5, &quot;stroke&quot;: true, &quot;weight&quot;: 3}\n",
       "            ).addTo(map_c5149628328a37970ad4c1e6f6abe7ed);\n",
       "        \n",
       "    \n",
       "        var popup_df8f08b9a511b901ae3988c73925c375 = L.popup({&quot;maxWidth&quot;: &quot;100%&quot;});\n",
       "\n",
       "        \n",
       "            \n",
       "                var html_334e57fcb8f891a9596f17962a5ae8f8 = $(`&lt;div id=&quot;html_334e57fcb8f891a9596f17962a5ae8f8&quot; style=&quot;width: 100.0%; height: 100.0%;&quot;&gt;Success Score: 38.68834087981859&lt;/div&gt;`)[0];\n",
       "                popup_df8f08b9a511b901ae3988c73925c375.setContent(html_334e57fcb8f891a9596f17962a5ae8f8);\n",
       "            \n",
       "        \n",
       "\n",
       "        circle_marker_64bee67d7968cfc13bc8db5f4efdcf9c.bindPopup(popup_df8f08b9a511b901ae3988c73925c375)\n",
       "        ;\n",
       "\n",
       "        \n",
       "    \n",
       "    \n",
       "            var circle_marker_e7531978f7fb12ed8028de5d46971174 = L.circleMarker(\n",
       "                [36.2081024, -86.7681696],\n",
       "                {&quot;bubblingMouseEvents&quot;: true, &quot;color&quot;: &quot;#f6fb00ff&quot;, &quot;dashArray&quot;: null, &quot;dashOffset&quot;: null, &quot;fill&quot;: true, &quot;fillColor&quot;: &quot;#f6fb00ff&quot;, &quot;fillOpacity&quot;: 0.7, &quot;fillRule&quot;: &quot;evenodd&quot;, &quot;lineCap&quot;: &quot;round&quot;, &quot;lineJoin&quot;: &quot;round&quot;, &quot;opacity&quot;: 1.0, &quot;radius&quot;: 5, &quot;stroke&quot;: true, &quot;weight&quot;: 3}\n",
       "            ).addTo(map_c5149628328a37970ad4c1e6f6abe7ed);\n",
       "        \n",
       "    \n",
       "        var popup_05c9b2886ddc9e4516b95890daa44db9 = L.popup({&quot;maxWidth&quot;: &quot;100%&quot;});\n",
       "\n",
       "        \n",
       "            \n",
       "                var html_295e46b149a1a99c4a9b62fc3bf78b03 = $(`&lt;div id=&quot;html_295e46b149a1a99c4a9b62fc3bf78b03&quot; style=&quot;width: 100.0%; height: 100.0%;&quot;&gt;Success Score: 39.73776372076268&lt;/div&gt;`)[0];\n",
       "                popup_05c9b2886ddc9e4516b95890daa44db9.setContent(html_295e46b149a1a99c4a9b62fc3bf78b03);\n",
       "            \n",
       "        \n",
       "\n",
       "        circle_marker_e7531978f7fb12ed8028de5d46971174.bindPopup(popup_05c9b2886ddc9e4516b95890daa44db9)\n",
       "        ;\n",
       "\n",
       "        \n",
       "    \n",
       "    \n",
       "            var circle_marker_61b40096648f144419e726ec5e9fb0e8 = L.circleMarker(\n",
       "                [29.963974, -90.0426042],\n",
       "                {&quot;bubblingMouseEvents&quot;: true, &quot;color&quot;: &quot;#f3ac13ff&quot;, &quot;dashArray&quot;: null, &quot;dashOffset&quot;: null, &quot;fill&quot;: true, &quot;fillColor&quot;: &quot;#f3ac13ff&quot;, &quot;fillOpacity&quot;: 0.7, &quot;fillRule&quot;: &quot;evenodd&quot;, &quot;lineCap&quot;: &quot;round&quot;, &quot;lineJoin&quot;: &quot;round&quot;, &quot;opacity&quot;: 1.0, &quot;radius&quot;: 5, &quot;stroke&quot;: true, &quot;weight&quot;: 3}\n",
       "            ).addTo(map_c5149628328a37970ad4c1e6f6abe7ed);\n",
       "        \n",
       "    \n",
       "        var popup_99a3ff1c71e5f564848b7203bde43a11 = L.popup({&quot;maxWidth&quot;: &quot;100%&quot;});\n",
       "\n",
       "        \n",
       "            \n",
       "                var html_97115ff04bdce715c923ba1b564e7ed4 = $(`&lt;div id=&quot;html_97115ff04bdce715c923ba1b564e7ed4&quot; style=&quot;width: 100.0%; height: 100.0%;&quot;&gt;Success Score: 41.16725150862309&lt;/div&gt;`)[0];\n",
       "                popup_99a3ff1c71e5f564848b7203bde43a11.setContent(html_97115ff04bdce715c923ba1b564e7ed4);\n",
       "            \n",
       "        \n",
       "\n",
       "        circle_marker_61b40096648f144419e726ec5e9fb0e8.bindPopup(popup_99a3ff1c71e5f564848b7203bde43a11)\n",
       "        ;\n",
       "\n",
       "        \n",
       "    \n",
       "    \n",
       "            var circle_marker_2517145627ee6221c7620fa24fd8cc66 = L.circleMarker(\n",
       "                [38.5832229, -90.4071872],\n",
       "                {&quot;bubblingMouseEvents&quot;: true, &quot;color&quot;: &quot;#008000ff&quot;, &quot;dashArray&quot;: null, &quot;dashOffset&quot;: null, &quot;fill&quot;: true, &quot;fillColor&quot;: &quot;#008000ff&quot;, &quot;fillOpacity&quot;: 0.7, &quot;fillRule&quot;: &quot;evenodd&quot;, &quot;lineCap&quot;: &quot;round&quot;, &quot;lineJoin&quot;: &quot;round&quot;, &quot;opacity&quot;: 1.0, &quot;radius&quot;: 5, &quot;stroke&quot;: true, &quot;weight&quot;: 3}\n",
       "            ).addTo(map_c5149628328a37970ad4c1e6f6abe7ed);\n",
       "        \n",
       "    \n",
       "        var popup_c6a2ef8631158104045d7db7576db024 = L.popup({&quot;maxWidth&quot;: &quot;100%&quot;});\n",
       "\n",
       "        \n",
       "            \n",
       "                var html_73d83111383728da287472c82ef97156 = $(`&lt;div id=&quot;html_73d83111383728da287472c82ef97156&quot; style=&quot;width: 100.0%; height: 100.0%;&quot;&gt;Success Score: 37.042331008308985&lt;/div&gt;`)[0];\n",
       "                popup_c6a2ef8631158104045d7db7576db024.setContent(html_73d83111383728da287472c82ef97156);\n",
       "            \n",
       "        \n",
       "\n",
       "        circle_marker_2517145627ee6221c7620fa24fd8cc66.bindPopup(popup_c6a2ef8631158104045d7db7576db024)\n",
       "        ;\n",
       "\n",
       "        \n",
       "    \n",
       "    \n",
       "            var circle_marker_bd6f98df44d84ea68bad9b61ddb2724e = L.circleMarker(\n",
       "                [39.476518, -119.7840369],\n",
       "                {&quot;bubblingMouseEvents&quot;: true, &quot;color&quot;: &quot;#2c9600ff&quot;, &quot;dashArray&quot;: null, &quot;dashOffset&quot;: null, &quot;fill&quot;: true, &quot;fillColor&quot;: &quot;#2c9600ff&quot;, &quot;fillOpacity&quot;: 0.7, &quot;fillRule&quot;: &quot;evenodd&quot;, &quot;lineCap&quot;: &quot;round&quot;, &quot;lineJoin&quot;: &quot;round&quot;, &quot;opacity&quot;: 1.0, &quot;radius&quot;: 5, &quot;stroke&quot;: true, &quot;weight&quot;: 3}\n",
       "            ).addTo(map_c5149628328a37970ad4c1e6f6abe7ed);\n",
       "        \n",
       "    \n",
       "        var popup_6d3ac2a91f23d5b69a134b2133865add = L.popup({&quot;maxWidth&quot;: &quot;100%&quot;});\n",
       "\n",
       "        \n",
       "            \n",
       "                var html_ba5abd894b24e68f299618d6ea9ed790 = $(`&lt;div id=&quot;html_ba5abd894b24e68f299618d6ea9ed790&quot; style=&quot;width: 100.0%; height: 100.0%;&quot;&gt;Success Score: 37.535187141767295&lt;/div&gt;`)[0];\n",
       "                popup_6d3ac2a91f23d5b69a134b2133865add.setContent(html_ba5abd894b24e68f299618d6ea9ed790);\n",
       "            \n",
       "        \n",
       "\n",
       "        circle_marker_bd6f98df44d84ea68bad9b61ddb2724e.bindPopup(popup_6d3ac2a91f23d5b69a134b2133865add)\n",
       "        ;\n",
       "\n",
       "        \n",
       "    \n",
       "    \n",
       "            var circle_marker_53865bc997d359642aa480fc5348258c = L.circleMarker(\n",
       "                [53.436403, -113.604288],\n",
       "                {&quot;bubblingMouseEvents&quot;: true, &quot;color&quot;: &quot;#399d00ff&quot;, &quot;dashArray&quot;: null, &quot;dashOffset&quot;: null, &quot;fill&quot;: true, &quot;fillColor&quot;: &quot;#399d00ff&quot;, &quot;fillOpacity&quot;: 0.7, &quot;fillRule&quot;: &quot;evenodd&quot;, &quot;lineCap&quot;: &quot;round&quot;, &quot;lineJoin&quot;: &quot;round&quot;, &quot;opacity&quot;: 1.0, &quot;radius&quot;: 5, &quot;stroke&quot;: true, &quot;weight&quot;: 3}\n",
       "            ).addTo(map_c5149628328a37970ad4c1e6f6abe7ed);\n",
       "        \n",
       "    \n",
       "        var popup_5aaa30ae41715d0cd760ebe2ffaf562e = L.popup({&quot;maxWidth&quot;: &quot;100%&quot;});\n",
       "\n",
       "        \n",
       "            \n",
       "                var html_c1c3276373759cfd90e2390824acf261 = $(`&lt;div id=&quot;html_c1c3276373759cfd90e2390824acf261&quot; style=&quot;width: 100.0%; height: 100.0%;&quot;&gt;Success Score: 37.67174762689446&lt;/div&gt;`)[0];\n",
       "                popup_5aaa30ae41715d0cd760ebe2ffaf562e.setContent(html_c1c3276373759cfd90e2390824acf261);\n",
       "            \n",
       "        \n",
       "\n",
       "        circle_marker_53865bc997d359642aa480fc5348258c.bindPopup(popup_5aaa30ae41715d0cd760ebe2ffaf562e)\n",
       "        ;\n",
       "\n",
       "        \n",
       "    \n",
       "    \n",
       "            var circle_marker_6315a9b0a783ee64fac7238aa315f7fd = L.circleMarker(\n",
       "                [43.6111922, -116.2062753],\n",
       "                {&quot;bubblingMouseEvents&quot;: true, &quot;color&quot;: &quot;#1b8e00ff&quot;, &quot;dashArray&quot;: null, &quot;dashOffset&quot;: null, &quot;fill&quot;: true, &quot;fillColor&quot;: &quot;#1b8e00ff&quot;, &quot;fillOpacity&quot;: 0.7, &quot;fillRule&quot;: &quot;evenodd&quot;, &quot;lineCap&quot;: &quot;round&quot;, &quot;lineJoin&quot;: &quot;round&quot;, &quot;opacity&quot;: 1.0, &quot;radius&quot;: 5, &quot;stroke&quot;: true, &quot;weight&quot;: 3}\n",
       "            ).addTo(map_c5149628328a37970ad4c1e6f6abe7ed);\n",
       "        \n",
       "    \n",
       "        var popup_381a6451680e77d8820b77f38b558ff8 = L.popup({&quot;maxWidth&quot;: &quot;100%&quot;});\n",
       "\n",
       "        \n",
       "            \n",
       "                var html_eee657b9a6b939fc544701f464e03260 = $(`&lt;div id=&quot;html_eee657b9a6b939fc544701f464e03260&quot; style=&quot;width: 100.0%; height: 100.0%;&quot;&gt;Success Score: 37.3469583325035&lt;/div&gt;`)[0];\n",
       "                popup_381a6451680e77d8820b77f38b558ff8.setContent(html_eee657b9a6b939fc544701f464e03260);\n",
       "            \n",
       "        \n",
       "\n",
       "        circle_marker_6315a9b0a783ee64fac7238aa315f7fd.bindPopup(popup_381a6451680e77d8820b77f38b558ff8)\n",
       "        ;\n",
       "\n",
       "        \n",
       "    \n",
       "    \n",
       "    var color_map_301e31062fa34d2369be8f7c8b7f8511 = {};\n",
       "\n",
       "    \n",
       "    color_map_301e31062fa34d2369be8f7c8b7f8511.color = d3.scale.threshold()\n",
       "              .domain([37.042331008308985, 37.053572698383554, 37.06481438845812, 37.07605607853269, 37.08729776860725, 37.09853945868182, 37.10978114875638, 37.12102283883095, 37.132264528905516, 37.143506218980086, 37.15474790905465, 37.16598959912922, 37.17723128920378, 37.18847297927835, 37.199714669352915, 37.210956359427485, 37.22219804950205, 37.23343973957662, 37.24468142965118, 37.25592311972575, 37.26716480980031, 37.27840649987488, 37.289648189949446, 37.300889880024016, 37.31213157009858, 37.32337326017315, 37.33461495024771, 37.34585664032228, 37.357098330396845, 37.368340020471415, 37.37958171054598, 37.39082340062055, 37.40206509069511, 37.41330678076968, 37.42454847084424, 37.43579016091881, 37.447031850993376, 37.458273541067946, 37.46951523114251, 37.48075692121708, 37.49199861129164, 37.50324030136621, 37.514481991440775, 37.525723681515345, 37.53696537158991, 37.54820706166448, 37.55944875173904, 37.57069044181361, 37.58193213188817, 37.59317382196274, 37.604415512037306, 37.615657202111876, 37.62689889218644, 37.63814058226101, 37.64938227233557, 37.66062396241014, 37.671865652484705, 37.683107342559275, 37.69434903263384, 37.70559072270841, 37.71683241278297, 37.72807410285754, 37.7393157929321, 37.75055748300667, 37.761799173081236, 37.773040863155806, 37.78428255323037, 37.79552424330494, 37.8067659333795, 37.81800762345407, 37.829249313528635, 37.840491003603205, 37.85173269367777, 37.86297438375234, 37.8742160738269, 37.88545776390147, 37.896699453976034, 37.907941144050604, 37.919182834125166, 37.930424524199736, 37.9416662142743, 37.95290790434887, 37.96414959442343, 37.975391284498, 37.986632974572565, 37.997874664647135, 38.0091163547217, 38.02035804479627, 38.03159973487083, 38.0428414249454, 38.054083115019964, 38.065324805094534, 38.0765664951691, 38.08780818524367, 38.09904987531823, 38.1102915653928, 38.12153325546736, 38.13277494554193, 38.144016635616495, 38.155258325691065, 38.166500015765635, 38.1777417058402, 38.18898339591476, 38.20022508598933, 38.2114667760639, 38.222708466138464, 38.233950156213034, 38.2451918462876, 38.25643353636217, 38.26767522643673, 38.2789169165113, 38.29015860658586, 38.30140029666043, 38.312641986734995, 38.323883676809565, 38.33512536688413, 38.3463670569587, 38.35760874703326, 38.36885043710783, 38.380092127182394, 38.391333817256964, 38.40257550733153, 38.4138171974061, 38.42505888748066, 38.43630057755523, 38.44754226762979, 38.45878395770436, 38.470025647778925, 38.481267337853495, 38.49250902792806, 38.50375071800263, 38.51499240807719, 38.52623409815176, 38.537475788226324, 38.548717478300894, 38.55995916837546, 38.57120085845003, 38.58244254852459, 38.59368423859916, 38.60492592867372, 38.61616761874829, 38.627409308822855, 38.638650998897425, 38.64989268897199, 38.66113437904656, 38.67237606912112, 38.68361775919569, 38.694859449270254, 38.706101139344824, 38.71734282941939, 38.72858451949396, 38.73982620956852, 38.75106789964309, 38.76230958971765, 38.77355127979222, 38.784792969866785, 38.796034659941355, 38.80727635001592, 38.81851804009049, 38.82975973016505, 38.84100142023962, 38.852243110314184, 38.863484800388754, 38.87472649046332, 38.88596818053789, 38.89720987061245, 38.90845156068702, 38.91969325076158, 38.93093494083615, 38.942176630910716, 38.953418320985286, 38.96466001105985, 38.97590170113442, 38.98714339120898, 38.99838508128355, 39.009626771358114, 39.020868461432684, 39.03211015150725, 39.04335184158182, 39.05459353165638, 39.06583522173095, 39.07707691180551, 39.08831860188008, 39.099560291954646, 39.110801982029216, 39.12204367210378, 39.13328536217835, 39.14452705225291, 39.15576874232748, 39.167010432402044, 39.178252122476614, 39.18949381255118, 39.20073550262575, 39.21197719270031, 39.22321888277488, 39.23446057284944, 39.24570226292401, 39.25694395299858, 39.268185643073146, 39.27942733314771, 39.29066902322228, 39.30191071329685, 39.31315240337141, 39.324394093445974, 39.335635783520544, 39.346877473595114, 39.35811916366968, 39.36936085374424, 39.38060254381881, 39.39184423389338, 39.40308592396794, 39.41432761404251, 39.425569304117076, 39.436810994191646, 39.44805268426621, 39.45929437434078, 39.47053606441534, 39.48177775448991, 39.493019444564474, 39.504261134639044, 39.51550282471361, 39.52674451478818, 39.53798620486274, 39.54922789493731, 39.56046958501187, 39.57171127508644, 39.582952965161006, 39.594194655235576, 39.60543634531014, 39.61667803538471, 39.62791972545927, 39.63916141553384, 39.650403105608405, 39.661644795682975, 39.67288648575754, 39.68412817583211, 39.69536986590667, 39.70661155598124, 39.7178532460558, 39.72909493613037, 39.740336626204936, 39.751578316279506, 39.76282000635407, 39.77406169642864, 39.7853033865032, 39.79654507657777, 39.807786766652335, 39.819028456726905, 39.83027014680147, 39.84151183687604, 39.8527535269506, 39.86399521702517, 39.87523690709973, 39.8864785971743, 39.897720287248866, 39.908961977323436, 39.920203667398, 39.93144535747257, 39.94268704754713, 39.9539287376217, 39.965170427696265, 39.976412117770835, 39.9876538078454, 39.99889549791997, 40.01013718799453, 40.0213788780691, 40.03262056814366, 40.04386225821823, 40.055103948292796, 40.066345638367366, 40.07758732844193, 40.0888290185165, 40.10007070859106, 40.11131239866563, 40.122554088740195, 40.133795778814765, 40.14503746888933, 40.1562791589639, 40.16752084903846, 40.17876253911303, 40.19000422918759, 40.20124591926216, 40.212487609336726, 40.223729299411296, 40.23497098948586, 40.24621267956043, 40.25745436963499, 40.26869605970956, 40.279937749784125, 40.291179439858695, 40.30242112993326, 40.31366282000783, 40.32490451008239, 40.33614620015696, 40.34738789023152, 40.35862958030609, 40.369871270380656, 40.381112960455226, 40.392354650529796, 40.40359634060436, 40.41483803067892, 40.42607972075349, 40.43732141082806, 40.448563100902625, 40.459804790977195, 40.47104648105176, 40.48228817112633, 40.49352986120089, 40.50477155127546, 40.516013241350024, 40.527254931424594, 40.538496621499156, 40.549738311573726, 40.56098000164829, 40.57222169172286, 40.58346338179742, 40.59470507187199, 40.605946761946555, 40.617188452021125, 40.62843014209569, 40.63967183217026, 40.65091352224482, 40.66215521231939, 40.673396902393954, 40.684638592468524, 40.69588028254309, 40.70712197261766, 40.71836366269222, 40.72960535276679, 40.74084704284135, 40.75208873291592, 40.763330422990485, 40.774572113065055, 40.78581380313962, 40.79705549321419, 40.80829718328875, 40.81953887336332, 40.830780563437884, 40.842022253512454, 40.85326394358702, 40.86450563366159, 40.87574732373615, 40.88698901381072, 40.89823070388528, 40.90947239395985, 40.920714084034415, 40.931955774108985, 40.94319746418355, 40.95443915425812, 40.96568084433268, 40.97692253440725, 40.988164224481814, 40.999405914556384, 41.01064760463095, 41.02188929470552, 41.03313098478008, 41.04437267485465, 41.05561436492921, 41.06685605500378, 41.078097745078345, 41.089339435152915, 41.10058112522748, 41.11182281530205, 41.12306450537661, 41.13430619545118, 41.145547885525744, 41.156789575600314, 41.16803126567488, 41.17927295574945, 41.19051464582401, 41.20175633589858, 41.21299802597314, 41.22423971604771, 41.235481406122275, 41.246723096196845, 41.25796478627141, 41.26920647634598, 41.28044816642054, 41.29168985649511, 41.302931546569674, 41.314173236644244, 41.32541492671881, 41.33665661679338, 41.34789830686795, 41.35913999694251, 41.37038168701707, 41.38162337709164, 41.39286506716621, 41.404106757240775, 41.41534844731534, 41.42659013738991, 41.43783182746447, 41.44907351753904, 41.460315207613604, 41.471556897688174, 41.482798587762744, 41.49404027783731, 41.50528196791187, 41.51652365798644, 41.52776534806101, 41.53900703813557, 41.550248728210136, 41.561490418284706, 41.572732108359276, 41.58397379843384, 41.5952154885084, 41.60645717858297, 41.61769886865754, 41.628940558732104, 41.64018224880667, 41.65142393888124, 41.66266562895581, 41.67390731903037, 41.68514900910494, 41.6963906991795, 41.70763238925407, 41.718874079328636, 41.730115769403206, 41.74135745947777, 41.75259914955234, 41.7638408396269, 41.77508252970147, 41.786324219776034, 41.797565909850604, 41.80880759992517, 41.82004928999974, 41.8312909800743, 41.84253267014887, 41.85377436022343, 41.865016050298, 41.876257740372566, 41.887499430447136, 41.8987411205217, 41.90998281059627, 41.92122450067083, 41.9324661907454, 41.943707880819964, 41.954949570894534, 41.9661912609691, 41.97743295104367, 41.98867464111823, 41.9999163311928, 42.01115802126736, 42.02239971134193, 42.033641401416496, 42.044883091491066, 42.05612478156563, 42.0673664716402, 42.07860816171476, 42.08984985178933, 42.101091541863894, 42.112333231938464, 42.12357492201303, 42.1348166120876, 42.14605830216216, 42.15729999223673, 42.16854168231129, 42.17978337238586, 42.191025062460426, 42.202266752534996, 42.21350844260956, 42.22475013268413, 42.23599182275869, 42.24723351283326, 42.258475202907825, 42.269716892982395, 42.28095858305696, 42.29220027313153, 42.30344196320609, 42.31468365328066, 42.32592534335522, 42.33716703342979, 42.348408723504356, 42.359650413578926, 42.37089210365349, 42.38213379372806, 42.39337548380262, 42.40461717387719, 42.415858863951755, 42.427100554026325, 42.438342244100895, 42.44958393417546, 42.46082562425002, 42.47206731432459, 42.48330900439915, 42.49455069447372, 42.505792384548286, 42.517034074622856, 42.52827576469742, 42.53951745477199, 42.55075914484655, 42.56200083492112, 42.57324252499569, 42.584484215070255, 42.59572590514482, 42.60696759521939, 42.61820928529396, 42.62945097536852, 42.64069266544308, 42.65193435551765])\n",
       "              .range([&#x27;#008000ff&#x27;, &#x27;#018100ff&#x27;, &#x27;#028100ff&#x27;, &#x27;#038200ff&#x27;, &#x27;#048200ff&#x27;, &#x27;#058300ff&#x27;, &#x27;#068300ff&#x27;, &#x27;#078400ff&#x27;, &#x27;#088400ff&#x27;, &#x27;#098500ff&#x27;, &#x27;#0a8500ff&#x27;, &#x27;#0b8600ff&#x27;, &#x27;#0c8600ff&#x27;, &#x27;#0d8700ff&#x27;, &#x27;#0e8700ff&#x27;, &#x27;#0f8800ff&#x27;, &#x27;#108800ff&#x27;, &#x27;#118900ff&#x27;, &#x27;#128900ff&#x27;, &#x27;#138a00ff&#x27;, &#x27;#148a00ff&#x27;, &#x27;#158b00ff&#x27;, &#x27;#168b00ff&#x27;, &#x27;#178c00ff&#x27;, &#x27;#188c00ff&#x27;, &#x27;#198d00ff&#x27;, &#x27;#1a8d00ff&#x27;, &#x27;#1b8e00ff&#x27;, &#x27;#1c8e00ff&#x27;, &#x27;#1d8f00ff&#x27;, &#x27;#1e8f00ff&#x27;, &#x27;#1f9000ff&#x27;, &#x27;#209000ff&#x27;, &#x27;#219100ff&#x27;, &#x27;#229100ff&#x27;, &#x27;#239200ff&#x27;, &#x27;#249200ff&#x27;, &#x27;#259300ff&#x27;, &#x27;#269300ff&#x27;, &#x27;#289400ff&#x27;, &#x27;#299400ff&#x27;, &#x27;#2a9500ff&#x27;, &#x27;#2b9500ff&#x27;, &#x27;#2c9600ff&#x27;, &#x27;#2d9600ff&#x27;, &#x27;#2e9700ff&#x27;, &#x27;#2f9800ff&#x27;, &#x27;#309800ff&#x27;, &#x27;#319900ff&#x27;, &#x27;#329900ff&#x27;, &#x27;#339a00ff&#x27;, &#x27;#349a00ff&#x27;, &#x27;#359b00ff&#x27;, &#x27;#369b00ff&#x27;, &#x27;#379c00ff&#x27;, &#x27;#389c00ff&#x27;, &#x27;#399d00ff&#x27;, &#x27;#3a9d00ff&#x27;, &#x27;#3b9e00ff&#x27;, &#x27;#3c9e00ff&#x27;, &#x27;#3d9f00ff&#x27;, &#x27;#3e9f00ff&#x27;, &#x27;#3fa000ff&#x27;, &#x27;#40a000ff&#x27;, &#x27;#41a100ff&#x27;, &#x27;#42a100ff&#x27;, &#x27;#43a200ff&#x27;, &#x27;#44a200ff&#x27;, &#x27;#45a300ff&#x27;, &#x27;#46a300ff&#x27;, &#x27;#47a400ff&#x27;, &#x27;#48a400ff&#x27;, &#x27;#49a500ff&#x27;, &#x27;#4aa500ff&#x27;, &#x27;#4ba600ff&#x27;, &#x27;#4ca600ff&#x27;, &#x27;#4da700ff&#x27;, &#x27;#4fa700ff&#x27;, &#x27;#50a800ff&#x27;, &#x27;#51a800ff&#x27;, &#x27;#52a900ff&#x27;, &#x27;#53a900ff&#x27;, &#x27;#54aa00ff&#x27;, &#x27;#55aa00ff&#x27;, &#x27;#56ab00ff&#x27;, &#x27;#57ab00ff&#x27;, &#x27;#58ac00ff&#x27;, &#x27;#59ac00ff&#x27;, &#x27;#5aad00ff&#x27;, &#x27;#5bad00ff&#x27;, &#x27;#5cae00ff&#x27;, &#x27;#5daf00ff&#x27;, &#x27;#5eaf00ff&#x27;, &#x27;#5fb000ff&#x27;, &#x27;#60b000ff&#x27;, &#x27;#61b100ff&#x27;, &#x27;#62b100ff&#x27;, &#x27;#63b200ff&#x27;, &#x27;#64b200ff&#x27;, &#x27;#65b300ff&#x27;, &#x27;#66b300ff&#x27;, &#x27;#67b400ff&#x27;, &#x27;#68b400ff&#x27;, &#x27;#69b500ff&#x27;, &#x27;#6ab500ff&#x27;, &#x27;#6bb600ff&#x27;, &#x27;#6cb600ff&#x27;, &#x27;#6db700ff&#x27;, &#x27;#6eb700ff&#x27;, &#x27;#6fb800ff&#x27;, &#x27;#70b800ff&#x27;, &#x27;#71b900ff&#x27;, &#x27;#72b900ff&#x27;, &#x27;#73ba00ff&#x27;, &#x27;#74ba00ff&#x27;, &#x27;#75bb00ff&#x27;, &#x27;#77bb00ff&#x27;, &#x27;#78bc00ff&#x27;, &#x27;#79bc00ff&#x27;, &#x27;#7abd00ff&#x27;, &#x27;#7bbd00ff&#x27;, &#x27;#7cbe00ff&#x27;, &#x27;#7dbe00ff&#x27;, &#x27;#7ebf00ff&#x27;, &#x27;#7fbf00ff&#x27;, &#x27;#80c000ff&#x27;, &#x27;#81c000ff&#x27;, &#x27;#82c100ff&#x27;, &#x27;#83c100ff&#x27;, &#x27;#84c200ff&#x27;, &#x27;#85c200ff&#x27;, &#x27;#86c300ff&#x27;, &#x27;#87c300ff&#x27;, &#x27;#88c400ff&#x27;, &#x27;#89c400ff&#x27;, &#x27;#8ac500ff&#x27;, &#x27;#8bc500ff&#x27;, &#x27;#8cc600ff&#x27;, &#x27;#8dc700ff&#x27;, &#x27;#8ec700ff&#x27;, &#x27;#8fc800ff&#x27;, &#x27;#90c800ff&#x27;, &#x27;#91c900ff&#x27;, &#x27;#92c900ff&#x27;, &#x27;#93ca00ff&#x27;, &#x27;#94ca00ff&#x27;, &#x27;#95cb00ff&#x27;, &#x27;#96cb00ff&#x27;, &#x27;#97cc00ff&#x27;, &#x27;#98cc00ff&#x27;, &#x27;#99cd00ff&#x27;, &#x27;#9acd00ff&#x27;, &#x27;#9bce00ff&#x27;, &#x27;#9cce00ff&#x27;, &#x27;#9ecf00ff&#x27;, &#x27;#9fcf00ff&#x27;, &#x27;#a0d000ff&#x27;, &#x27;#a1d000ff&#x27;, &#x27;#a2d100ff&#x27;, &#x27;#a3d100ff&#x27;, &#x27;#a4d200ff&#x27;, &#x27;#a5d200ff&#x27;, &#x27;#a6d300ff&#x27;, &#x27;#a7d300ff&#x27;, &#x27;#a8d400ff&#x27;, &#x27;#a9d400ff&#x27;, &#x27;#aad500ff&#x27;, &#x27;#abd500ff&#x27;, &#x27;#acd600ff&#x27;, &#x27;#add600ff&#x27;, &#x27;#aed700ff&#x27;, &#x27;#afd700ff&#x27;, &#x27;#b0d800ff&#x27;, &#x27;#b1d800ff&#x27;, &#x27;#b2d900ff&#x27;, &#x27;#b3d900ff&#x27;, &#x27;#b4da00ff&#x27;, &#x27;#b5da00ff&#x27;, &#x27;#b6db00ff&#x27;, &#x27;#b7db00ff&#x27;, &#x27;#b8dc00ff&#x27;, &#x27;#b9dc00ff&#x27;, &#x27;#badd00ff&#x27;, &#x27;#bbde00ff&#x27;, &#x27;#bcde00ff&#x27;, &#x27;#bddf00ff&#x27;, &#x27;#bedf00ff&#x27;, &#x27;#bfe000ff&#x27;, &#x27;#c0e000ff&#x27;, &#x27;#c1e100ff&#x27;, &#x27;#c2e100ff&#x27;, &#x27;#c3e200ff&#x27;, &#x27;#c5e200ff&#x27;, &#x27;#c6e300ff&#x27;, &#x27;#c7e300ff&#x27;, &#x27;#c8e400ff&#x27;, &#x27;#c9e400ff&#x27;, &#x27;#cae500ff&#x27;, &#x27;#cbe500ff&#x27;, &#x27;#cce600ff&#x27;, &#x27;#cde600ff&#x27;, &#x27;#cee700ff&#x27;, &#x27;#cfe700ff&#x27;, &#x27;#d0e800ff&#x27;, &#x27;#d1e800ff&#x27;, &#x27;#d2e900ff&#x27;, &#x27;#d3e900ff&#x27;, &#x27;#d4ea00ff&#x27;, &#x27;#d5ea00ff&#x27;, &#x27;#d6eb00ff&#x27;, &#x27;#d7eb00ff&#x27;, &#x27;#d8ec00ff&#x27;, &#x27;#d9ec00ff&#x27;, &#x27;#daed00ff&#x27;, &#x27;#dbed00ff&#x27;, &#x27;#dcee00ff&#x27;, &#x27;#ddee00ff&#x27;, &#x27;#deef00ff&#x27;, &#x27;#dfef00ff&#x27;, &#x27;#e0f000ff&#x27;, &#x27;#e1f000ff&#x27;, &#x27;#e2f100ff&#x27;, &#x27;#e3f100ff&#x27;, &#x27;#e4f200ff&#x27;, &#x27;#e5f200ff&#x27;, &#x27;#e6f300ff&#x27;, &#x27;#e7f300ff&#x27;, &#x27;#e8f400ff&#x27;, &#x27;#e9f500ff&#x27;, &#x27;#eaf500ff&#x27;, &#x27;#ebf600ff&#x27;, &#x27;#edf600ff&#x27;, &#x27;#eef700ff&#x27;, &#x27;#eff700ff&#x27;, &#x27;#f0f800ff&#x27;, &#x27;#f1f800ff&#x27;, &#x27;#f2f900ff&#x27;, &#x27;#f3f900ff&#x27;, &#x27;#f4fa00ff&#x27;, &#x27;#f5fa00ff&#x27;, &#x27;#f6fb00ff&#x27;, &#x27;#f7fb00ff&#x27;, &#x27;#f8fc00ff&#x27;, &#x27;#f9fc00ff&#x27;, &#x27;#fafd00ff&#x27;, &#x27;#fbfd00ff&#x27;, &#x27;#fcfe00ff&#x27;, &#x27;#fdfe00ff&#x27;, &#x27;#feff00ff&#x27;, &#x27;#ffff00ff&#x27;, &#x27;#ffff00ff&#x27;, &#x27;#fffe00ff&#x27;, &#x27;#fffe00ff&#x27;, &#x27;#fffd00ff&#x27;, &#x27;#fffc00ff&#x27;, &#x27;#fffc00ff&#x27;, &#x27;#fffb01ff&#x27;, &#x27;#fffa01ff&#x27;, &#x27;#fff901ff&#x27;, &#x27;#fff901ff&#x27;, &#x27;#fef801ff&#x27;, &#x27;#fef701ff&#x27;, &#x27;#fef702ff&#x27;, &#x27;#fef602ff&#x27;, &#x27;#fef502ff&#x27;, &#x27;#fef502ff&#x27;, &#x27;#fef402ff&#x27;, &#x27;#fef302ff&#x27;, &#x27;#fef203ff&#x27;, &#x27;#fdf203ff&#x27;, &#x27;#fdf103ff&#x27;, &#x27;#fdf003ff&#x27;, &#x27;#fdf003ff&#x27;, &#x27;#fdef03ff&#x27;, &#x27;#fdee04ff&#x27;, &#x27;#fded04ff&#x27;, &#x27;#fded04ff&#x27;, &#x27;#fdec04ff&#x27;, &#x27;#fdeb04ff&#x27;, &#x27;#fceb04ff&#x27;, &#x27;#fcea05ff&#x27;, &#x27;#fce905ff&#x27;, &#x27;#fce805ff&#x27;, &#x27;#fce805ff&#x27;, &#x27;#fce705ff&#x27;, &#x27;#fce605ff&#x27;, &#x27;#fce606ff&#x27;, &#x27;#fce506ff&#x27;, &#x27;#fbe406ff&#x27;, &#x27;#fbe406ff&#x27;, &#x27;#fbe306ff&#x27;, &#x27;#fbe206ff&#x27;, &#x27;#fbe107ff&#x27;, &#x27;#fbe107ff&#x27;, &#x27;#fbe007ff&#x27;, &#x27;#fbdf07ff&#x27;, &#x27;#fbdf07ff&#x27;, &#x27;#fbde07ff&#x27;, &#x27;#fadd08ff&#x27;, &#x27;#fadc08ff&#x27;, &#x27;#fadc08ff&#x27;, &#x27;#fadb08ff&#x27;, &#x27;#fada08ff&#x27;, &#x27;#fada08ff&#x27;, &#x27;#fad908ff&#x27;, &#x27;#fad809ff&#x27;, &#x27;#fad709ff&#x27;, &#x27;#f9d709ff&#x27;, &#x27;#f9d609ff&#x27;, &#x27;#f9d509ff&#x27;, &#x27;#f9d509ff&#x27;, &#x27;#f9d40aff&#x27;, &#x27;#f9d30aff&#x27;, &#x27;#f9d30aff&#x27;, &#x27;#f9d20aff&#x27;, &#x27;#f9d10aff&#x27;, &#x27;#f9d00aff&#x27;, &#x27;#f8d00bff&#x27;, &#x27;#f8cf0bff&#x27;, &#x27;#f8ce0bff&#x27;, &#x27;#f8ce0bff&#x27;, &#x27;#f8cd0bff&#x27;, &#x27;#f8cc0bff&#x27;, &#x27;#f8cb0cff&#x27;, &#x27;#f8cb0cff&#x27;, &#x27;#f8ca0cff&#x27;, &#x27;#f7c90cff&#x27;, &#x27;#f7c90cff&#x27;, &#x27;#f7c80cff&#x27;, &#x27;#f7c70dff&#x27;, &#x27;#f7c60dff&#x27;, &#x27;#f7c60dff&#x27;, &#x27;#f7c50dff&#x27;, &#x27;#f7c40dff&#x27;, &#x27;#f7c40dff&#x27;, &#x27;#f7c30eff&#x27;, &#x27;#f6c20eff&#x27;, &#x27;#f6c20eff&#x27;, &#x27;#f6c10eff&#x27;, &#x27;#f6c00eff&#x27;, &#x27;#f6bf0eff&#x27;, &#x27;#f6bf0fff&#x27;, &#x27;#f6be0fff&#x27;, &#x27;#f6bd0fff&#x27;, &#x27;#f6bd0fff&#x27;, &#x27;#f6bc0fff&#x27;, &#x27;#f5bb0fff&#x27;, &#x27;#f5ba10ff&#x27;, &#x27;#f5ba10ff&#x27;, &#x27;#f5b910ff&#x27;, &#x27;#f5b810ff&#x27;, &#x27;#f5b810ff&#x27;, &#x27;#f5b710ff&#x27;, &#x27;#f5b611ff&#x27;, &#x27;#f5b511ff&#x27;, &#x27;#f4b511ff&#x27;, &#x27;#f4b411ff&#x27;, &#x27;#f4b311ff&#x27;, &#x27;#f4b311ff&#x27;, &#x27;#f4b212ff&#x27;, &#x27;#f4b112ff&#x27;, &#x27;#f4b112ff&#x27;, &#x27;#f4b012ff&#x27;, &#x27;#f4af12ff&#x27;, &#x27;#f4ae12ff&#x27;, &#x27;#f3ae13ff&#x27;, &#x27;#f3ad13ff&#x27;, &#x27;#f3ac13ff&#x27;, &#x27;#f3ac13ff&#x27;, &#x27;#f3ab13ff&#x27;, &#x27;#f3aa13ff&#x27;, &#x27;#f3a914ff&#x27;, &#x27;#f3a914ff&#x27;, &#x27;#f3a814ff&#x27;, &#x27;#f2a714ff&#x27;, &#x27;#f2a714ff&#x27;, &#x27;#f2a614ff&#x27;, &#x27;#f2a515ff&#x27;, &#x27;#f2a415ff&#x27;, &#x27;#f2a415ff&#x27;, &#x27;#f2a315ff&#x27;, &#x27;#f2a215ff&#x27;, &#x27;#f2a215ff&#x27;, &#x27;#f2a116ff&#x27;, &#x27;#f1a016ff&#x27;, &#x27;#f1a016ff&#x27;, &#x27;#f19f16ff&#x27;, &#x27;#f19e16ff&#x27;, &#x27;#f19d16ff&#x27;, &#x27;#f19d17ff&#x27;, &#x27;#f19c17ff&#x27;, &#x27;#f19b17ff&#x27;, &#x27;#f19b17ff&#x27;, &#x27;#f09a17ff&#x27;, &#x27;#f09917ff&#x27;, &#x27;#f09818ff&#x27;, &#x27;#f09818ff&#x27;, &#x27;#f09718ff&#x27;, &#x27;#f09618ff&#x27;, &#x27;#f09618ff&#x27;, &#x27;#f09518ff&#x27;, &#x27;#f09418ff&#x27;, &#x27;#f09419ff&#x27;, &#x27;#ef9319ff&#x27;, &#x27;#ef9219ff&#x27;, &#x27;#ef9119ff&#x27;, &#x27;#ef9119ff&#x27;, &#x27;#ef9019ff&#x27;, &#x27;#ef8f1aff&#x27;, &#x27;#ef8f1aff&#x27;, &#x27;#ef8e1aff&#x27;, &#x27;#ef8d1aff&#x27;, &#x27;#ee8c1aff&#x27;, &#x27;#ee8c1aff&#x27;, &#x27;#ee8b1bff&#x27;, &#x27;#ee8a1bff&#x27;, &#x27;#ee8a1bff&#x27;, &#x27;#ee891bff&#x27;, &#x27;#ee881bff&#x27;, &#x27;#ee871bff&#x27;, &#x27;#ee871cff&#x27;, &#x27;#ee861cff&#x27;, &#x27;#ed851cff&#x27;, &#x27;#ed851cff&#x27;, &#x27;#ed841cff&#x27;, &#x27;#ed831cff&#x27;, &#x27;#ed831dff&#x27;, &#x27;#ed821dff&#x27;, &#x27;#ed811dff&#x27;, &#x27;#ed801dff&#x27;, &#x27;#ed801dff&#x27;, &#x27;#ed7f1dff&#x27;, &#x27;#ec7e1eff&#x27;, &#x27;#ec7e1eff&#x27;, &#x27;#ec7d1eff&#x27;, &#x27;#ec7c1eff&#x27;, &#x27;#ec7b1eff&#x27;, &#x27;#ec7b1eff&#x27;, &#x27;#ec7a1fff&#x27;, &#x27;#ec791fff&#x27;, &#x27;#ec791fff&#x27;, &#x27;#eb781fff&#x27;, &#x27;#eb771fff&#x27;, &#x27;#eb761fff&#x27;, &#x27;#eb7620ff&#x27;, &#x27;#eb7520ff&#x27;, &#x27;#eb7420ff&#x27;, &#x27;#eb7420ff&#x27;, &#x27;#eb7320ff&#x27;, &#x27;#eb7220ff&#x27;, &#x27;#eb7221ff&#x27;, &#x27;#ea7121ff&#x27;, &#x27;#ea7021ff&#x27;, &#x27;#ea6f21ff&#x27;, &#x27;#ea6f21ff&#x27;, &#x27;#ea6e21ff&#x27;, &#x27;#ea6d22ff&#x27;, &#x27;#ea6d22ff&#x27;, &#x27;#ea6c22ff&#x27;, &#x27;#ea6b22ff&#x27;, &#x27;#e96a22ff&#x27;, &#x27;#e96a22ff&#x27;, &#x27;#e96923ff&#x27;, &#x27;#e96823ff&#x27;, &#x27;#e96823ff&#x27;, &#x27;#e96723ff&#x27;, &#x27;#e96623ff&#x27;, &#x27;#e96523ff&#x27;, &#x27;#e96524ff&#x27;, &#x27;#e96424ff&#x27;, &#x27;#e86324ff&#x27;, &#x27;#e86324ff&#x27;, &#x27;#e86224ff&#x27;, &#x27;#e86124ff&#x27;, &#x27;#e86125ff&#x27;, &#x27;#e86025ff&#x27;, &#x27;#e85f25ff&#x27;, &#x27;#e85e25ff&#x27;, &#x27;#e85e25ff&#x27;, &#x27;#e75d25ff&#x27;, &#x27;#e75c26ff&#x27;, &#x27;#e75c26ff&#x27;, &#x27;#e75b26ff&#x27;, &#x27;#e75a26ff&#x27;, &#x27;#e75926ff&#x27;, &#x27;#e75926ff&#x27;, &#x27;#e75827ff&#x27;, &#x27;#e75727ff&#x27;, &#x27;#e75727ff&#x27;, &#x27;#e65627ff&#x27;, &#x27;#e65527ff&#x27;, &#x27;#e65427ff&#x27;, &#x27;#e65428ff&#x27;, &#x27;#e65328ff&#x27;, &#x27;#e65228ff&#x27;, &#x27;#e65228ff&#x27;, &#x27;#e65128ff&#x27;, &#x27;#e65028ff&#x27;, &#x27;#e65028ff&#x27;, &#x27;#e54f29ff&#x27;]);\n",
       "    \n",
       "\n",
       "    color_map_301e31062fa34d2369be8f7c8b7f8511.x = d3.scale.linear()\n",
       "              .domain([37.042331008308985, 42.65193435551765])\n",
       "              .range([0, 450 - 50]);\n",
       "\n",
       "    color_map_301e31062fa34d2369be8f7c8b7f8511.legend = L.control({position: &#x27;topright&#x27;});\n",
       "    color_map_301e31062fa34d2369be8f7c8b7f8511.legend.onAdd = function (map) {var div = L.DomUtil.create(&#x27;div&#x27;, &#x27;legend&#x27;); return div};\n",
       "    color_map_301e31062fa34d2369be8f7c8b7f8511.legend.addTo(map_c5149628328a37970ad4c1e6f6abe7ed);\n",
       "\n",
       "    color_map_301e31062fa34d2369be8f7c8b7f8511.xAxis = d3.svg.axis()\n",
       "        .scale(color_map_301e31062fa34d2369be8f7c8b7f8511.x)\n",
       "        .orient(&quot;top&quot;)\n",
       "        .tickSize(1)\n",
       "        .tickValues([37.042331008308985, 39.84713268191332, 42.65193435551765]);\n",
       "\n",
       "    color_map_301e31062fa34d2369be8f7c8b7f8511.svg = d3.select(&quot;.legend.leaflet-control&quot;).append(&quot;svg&quot;)\n",
       "        .attr(&quot;id&quot;, &#x27;legend&#x27;)\n",
       "        .attr(&quot;width&quot;, 450)\n",
       "        .attr(&quot;height&quot;, 40);\n",
       "\n",
       "    color_map_301e31062fa34d2369be8f7c8b7f8511.g = color_map_301e31062fa34d2369be8f7c8b7f8511.svg.append(&quot;g&quot;)\n",
       "        .attr(&quot;class&quot;, &quot;key&quot;)\n",
       "        .attr(&quot;transform&quot;, &quot;translate(25,16)&quot;);\n",
       "\n",
       "    color_map_301e31062fa34d2369be8f7c8b7f8511.g.selectAll(&quot;rect&quot;)\n",
       "        .data(color_map_301e31062fa34d2369be8f7c8b7f8511.color.range().map(function(d, i) {\n",
       "          return {\n",
       "            x0: i ? color_map_301e31062fa34d2369be8f7c8b7f8511.x(color_map_301e31062fa34d2369be8f7c8b7f8511.color.domain()[i - 1]) : color_map_301e31062fa34d2369be8f7c8b7f8511.x.range()[0],\n",
       "            x1: i &lt; color_map_301e31062fa34d2369be8f7c8b7f8511.color.domain().length ? color_map_301e31062fa34d2369be8f7c8b7f8511.x(color_map_301e31062fa34d2369be8f7c8b7f8511.color.domain()[i]) : color_map_301e31062fa34d2369be8f7c8b7f8511.x.range()[1],\n",
       "            z: d\n",
       "          };\n",
       "        }))\n",
       "      .enter().append(&quot;rect&quot;)\n",
       "        .attr(&quot;height&quot;, 40 - 30)\n",
       "        .attr(&quot;x&quot;, function(d) { return d.x0; })\n",
       "        .attr(&quot;width&quot;, function(d) { return d.x1 - d.x0; })\n",
       "        .style(&quot;fill&quot;, function(d) { return d.z; });\n",
       "\n",
       "    color_map_301e31062fa34d2369be8f7c8b7f8511.g.call(color_map_301e31062fa34d2369be8f7c8b7f8511.xAxis).append(&quot;text&quot;)\n",
       "        .attr(&quot;class&quot;, &quot;caption&quot;)\n",
       "        .attr(&quot;y&quot;, 21)\n",
       "        .text(&quot;&quot;);\n",
       "&lt;/script&gt;\n",
       "&lt;/html&gt;\" style=\"position:absolute;width:100%;height:100%;left:0;top:0;border:none !important;\" allowfullscreen webkitallowfullscreen mozallowfullscreen></iframe></div></div>"
      ],
      "text/plain": [
       "<folium.folium.Map at 0x7966f8b2b7c0>"
      ]
     },
     "execution_count": 35,
     "metadata": {},
     "output_type": "execute_result"
    }
   ],
   "source": [
    "# create a base map\n",
    "\n",
    "m = folium.Map(location = [city_df['latitude'].mean(), city_df['longitude'].mean()], zoom_start = 4)\n",
    "\n",
    "# Define a color scale\n",
    "\n",
    "color_scale = folium.LinearColormap(colors = ['green', 'yellow', '#E54F29'],\n",
    "                                    vmin = city_df['success_score'].min(),\n",
    "                                    vmax = city_df['success_score'].max())\n",
    "\n",
    "# Add markets to the map\n",
    "for index, row in city_df.iterrows():\n",
    "    folium.CircleMarker(\n",
    "    location = [row['latitude'], row['longitude']],\n",
    "    radius = 5,\n",
    "    color = color_scale(row['success_score']),\n",
    "    fill = True,\n",
    "    fill_color = color_scale(row['success_score']),\n",
    "    fill_opacity = 0.7,\n",
    "    popup = f\"Success Score: {row['success_score']}\"\n",
    "    ).add_to(m)\n",
    "    \n",
    "    \n",
    "# Add color scale to the map\n",
    "m.add_child(color_scale)"
   ]
  },
  {
   "cell_type": "markdown",
   "id": "5c9cba79",
   "metadata": {
    "papermill": {
     "duration": 0.032146,
     "end_time": "2024-06-01T03:09:14.160084",
     "exception": false,
     "start_time": "2024-06-01T03:09:14.127938",
     "status": "completed"
    },
    "tags": []
   },
   "source": [
    "### Q. Now we find Are there any patterns in user engagements over time for successful businesses compared to less successful ones?\n",
    "\n",
    "### Q. Are there any seasonal trends in the user engagement for restaurants?"
   ]
  },
  {
   "cell_type": "code",
   "execution_count": 36,
   "id": "f3cd7f3a",
   "metadata": {
    "execution": {
     "iopub.execute_input": "2024-06-01T03:09:14.227799Z",
     "iopub.status.busy": "2024-06-01T03:09:14.227291Z",
     "iopub.status.idle": "2024-06-01T03:10:09.995525Z",
     "shell.execute_reply": "2024-06-01T03:10:09.993450Z"
    },
    "papermill": {
     "duration": 55.805874,
     "end_time": "2024-06-01T03:10:09.998987",
     "exception": false,
     "start_time": "2024-06-01T03:09:14.193113",
     "status": "completed"
    },
    "tags": []
   },
   "outputs": [
    {
     "name": "stdout",
     "output_type": "stream",
     "text": [
      "High_rated Done\n",
      "Done\n"
     ]
    }
   ],
   "source": [
    "high_rated_engagement = pd.read_sql_query(f\"\"\"\n",
    "SELECT review.month_year, review.review_count, tip.tip_count FROM\n",
    "(SELECT strftime('%m-%Y', date) AS month_year, COUNT(*) AS review_count\n",
    "FROM review\n",
    "WHERE business_id IN {tuple(business_id['business_id'])} and stars >= 3.5\n",
    "GROUP BY month_year\n",
    "ORDER BY month_year) as review\n",
    "JOIN\n",
    "(SELECT AVG(b.stars), strftime('%m-%Y', tip.date) AS month_year, COUNT(*) AS tip_count\n",
    "FROM tip\n",
    "JOIN business as b\n",
    "on tip.business_id = b.business_id\n",
    "WHERE tip.business_id IN {tuple(business_id['business_id'])} and b.stars >= 3.5\n",
    "GROUP BY month_year\n",
    "ORDER BY month_year) as tip\n",
    "\n",
    "on review.month_year = tip.month_year\n",
    "\"\"\", con)\n",
    "\n",
    "print(\"High_rated Done\")\n",
    "\n",
    "low_rated_engagement = pd.read_sql_query(f\"\"\"\n",
    "SELECT review.month_year, review.review_count, tip.tip_count FROM\n",
    "(SELECT strftime('%m-%Y', date) AS month_year, COUNT(*) AS review_count\n",
    "FROM review\n",
    "WHERE business_id IN {tuple(business_id['business_id'])} and stars < 3.5\n",
    "GROUP BY month_year\n",
    "ORDER BY month_year) as review\n",
    "JOIN\n",
    "(SELECT AVG(b.stars), strftime('%m-%Y', tip.date) AS month_year, COUNT(*) AS tip_count\n",
    "FROM tip\n",
    "JOIN business as b\n",
    "on tip.business_id = b.business_id\n",
    "WHERE tip.business_id IN {tuple(business_id['business_id'])} and b.stars < 3.5\n",
    "GROUP BY month_year\n",
    "ORDER BY month_year) as tip\n",
    "\n",
    "on review.month_year = tip.month_year\n",
    "\"\"\", con)\n",
    "\n",
    "print(\"Done\")"
   ]
  },
  {
   "cell_type": "code",
   "execution_count": 37,
   "id": "162e6210",
   "metadata": {
    "execution": {
     "iopub.execute_input": "2024-06-01T03:10:10.068232Z",
     "iopub.status.busy": "2024-06-01T03:10:10.067738Z",
     "iopub.status.idle": "2024-06-01T03:10:10.085794Z",
     "shell.execute_reply": "2024-06-01T03:10:10.084456Z"
    },
    "papermill": {
     "duration": 0.056788,
     "end_time": "2024-06-01T03:10:10.089144",
     "exception": false,
     "start_time": "2024-06-01T03:10:10.032356",
     "status": "completed"
    },
    "tags": []
   },
   "outputs": [
    {
     "data": {
      "text/html": [
       "<div>\n",
       "<style scoped>\n",
       "    .dataframe tbody tr th:only-of-type {\n",
       "        vertical-align: middle;\n",
       "    }\n",
       "\n",
       "    .dataframe tbody tr th {\n",
       "        vertical-align: top;\n",
       "    }\n",
       "\n",
       "    .dataframe thead th {\n",
       "        text-align: right;\n",
       "    }\n",
       "</style>\n",
       "<table border=\"1\" class=\"dataframe\">\n",
       "  <thead>\n",
       "    <tr style=\"text-align: right;\">\n",
       "      <th></th>\n",
       "      <th>month_year</th>\n",
       "      <th>review_count</th>\n",
       "      <th>tip_count</th>\n",
       "    </tr>\n",
       "  </thead>\n",
       "  <tbody>\n",
       "    <tr>\n",
       "      <th>0</th>\n",
       "      <td>01-2010</td>\n",
       "      <td>1218</td>\n",
       "      <td>79</td>\n",
       "    </tr>\n",
       "    <tr>\n",
       "      <th>1</th>\n",
       "      <td>01-2011</td>\n",
       "      <td>2171</td>\n",
       "      <td>621</td>\n",
       "    </tr>\n",
       "    <tr>\n",
       "      <th>2</th>\n",
       "      <td>01-2012</td>\n",
       "      <td>3086</td>\n",
       "      <td>1321</td>\n",
       "    </tr>\n",
       "    <tr>\n",
       "      <th>3</th>\n",
       "      <td>01-2013</td>\n",
       "      <td>3801</td>\n",
       "      <td>1230</td>\n",
       "    </tr>\n",
       "    <tr>\n",
       "      <th>4</th>\n",
       "      <td>01-2014</td>\n",
       "      <td>4973</td>\n",
       "      <td>1357</td>\n",
       "    </tr>\n",
       "    <tr>\n",
       "      <th>...</th>\n",
       "      <td>...</td>\n",
       "      <td>...</td>\n",
       "      <td>...</td>\n",
       "    </tr>\n",
       "    <tr>\n",
       "      <th>149</th>\n",
       "      <td>12-2017</td>\n",
       "      <td>10161</td>\n",
       "      <td>1477</td>\n",
       "    </tr>\n",
       "    <tr>\n",
       "      <th>150</th>\n",
       "      <td>12-2018</td>\n",
       "      <td>12870</td>\n",
       "      <td>1163</td>\n",
       "    </tr>\n",
       "    <tr>\n",
       "      <th>151</th>\n",
       "      <td>12-2019</td>\n",
       "      <td>13756</td>\n",
       "      <td>1161</td>\n",
       "    </tr>\n",
       "    <tr>\n",
       "      <th>152</th>\n",
       "      <td>12-2020</td>\n",
       "      <td>11294</td>\n",
       "      <td>937</td>\n",
       "    </tr>\n",
       "    <tr>\n",
       "      <th>153</th>\n",
       "      <td>12-2021</td>\n",
       "      <td>12652</td>\n",
       "      <td>652</td>\n",
       "    </tr>\n",
       "  </tbody>\n",
       "</table>\n",
       "<p>154 rows × 3 columns</p>\n",
       "</div>"
      ],
      "text/plain": [
       "    month_year  review_count  tip_count\n",
       "0      01-2010          1218         79\n",
       "1      01-2011          2171        621\n",
       "2      01-2012          3086       1321\n",
       "3      01-2013          3801       1230\n",
       "4      01-2014          4973       1357\n",
       "..         ...           ...        ...\n",
       "149    12-2017         10161       1477\n",
       "150    12-2018         12870       1163\n",
       "151    12-2019         13756       1161\n",
       "152    12-2020         11294        937\n",
       "153    12-2021         12652        652\n",
       "\n",
       "[154 rows x 3 columns]"
      ]
     },
     "execution_count": 37,
     "metadata": {},
     "output_type": "execute_result"
    }
   ],
   "source": [
    "high_rated_engagement"
   ]
  },
  {
   "cell_type": "code",
   "execution_count": 38,
   "id": "13be115e",
   "metadata": {
    "execution": {
     "iopub.execute_input": "2024-06-01T03:10:10.156319Z",
     "iopub.status.busy": "2024-06-01T03:10:10.155886Z",
     "iopub.status.idle": "2024-06-01T03:10:10.169951Z",
     "shell.execute_reply": "2024-06-01T03:10:10.168642Z"
    },
    "papermill": {
     "duration": 0.050868,
     "end_time": "2024-06-01T03:10:10.172894",
     "exception": false,
     "start_time": "2024-06-01T03:10:10.122026",
     "status": "completed"
    },
    "tags": []
   },
   "outputs": [
    {
     "data": {
      "text/html": [
       "<div>\n",
       "<style scoped>\n",
       "    .dataframe tbody tr th:only-of-type {\n",
       "        vertical-align: middle;\n",
       "    }\n",
       "\n",
       "    .dataframe tbody tr th {\n",
       "        vertical-align: top;\n",
       "    }\n",
       "\n",
       "    .dataframe thead th {\n",
       "        text-align: right;\n",
       "    }\n",
       "</style>\n",
       "<table border=\"1\" class=\"dataframe\">\n",
       "  <thead>\n",
       "    <tr style=\"text-align: right;\">\n",
       "      <th></th>\n",
       "      <th>month_year</th>\n",
       "      <th>review_count</th>\n",
       "      <th>tip_count</th>\n",
       "    </tr>\n",
       "  </thead>\n",
       "  <tbody>\n",
       "    <tr>\n",
       "      <th>0</th>\n",
       "      <td>01-2010</td>\n",
       "      <td>613</td>\n",
       "      <td>25</td>\n",
       "    </tr>\n",
       "    <tr>\n",
       "      <th>1</th>\n",
       "      <td>01-2011</td>\n",
       "      <td>1103</td>\n",
       "      <td>297</td>\n",
       "    </tr>\n",
       "    <tr>\n",
       "      <th>2</th>\n",
       "      <td>01-2012</td>\n",
       "      <td>1748</td>\n",
       "      <td>538</td>\n",
       "    </tr>\n",
       "    <tr>\n",
       "      <th>3</th>\n",
       "      <td>01-2013</td>\n",
       "      <td>2196</td>\n",
       "      <td>548</td>\n",
       "    </tr>\n",
       "    <tr>\n",
       "      <th>4</th>\n",
       "      <td>01-2014</td>\n",
       "      <td>2769</td>\n",
       "      <td>607</td>\n",
       "    </tr>\n",
       "    <tr>\n",
       "      <th>...</th>\n",
       "      <td>...</td>\n",
       "      <td>...</td>\n",
       "      <td>...</td>\n",
       "    </tr>\n",
       "    <tr>\n",
       "      <th>149</th>\n",
       "      <td>12-2017</td>\n",
       "      <td>5970</td>\n",
       "      <td>441</td>\n",
       "    </tr>\n",
       "    <tr>\n",
       "      <th>150</th>\n",
       "      <td>12-2018</td>\n",
       "      <td>7574</td>\n",
       "      <td>338</td>\n",
       "    </tr>\n",
       "    <tr>\n",
       "      <th>151</th>\n",
       "      <td>12-2019</td>\n",
       "      <td>7591</td>\n",
       "      <td>275</td>\n",
       "    </tr>\n",
       "    <tr>\n",
       "      <th>152</th>\n",
       "      <td>12-2020</td>\n",
       "      <td>5014</td>\n",
       "      <td>148</td>\n",
       "    </tr>\n",
       "    <tr>\n",
       "      <th>153</th>\n",
       "      <td>12-2021</td>\n",
       "      <td>6937</td>\n",
       "      <td>122</td>\n",
       "    </tr>\n",
       "  </tbody>\n",
       "</table>\n",
       "<p>154 rows × 3 columns</p>\n",
       "</div>"
      ],
      "text/plain": [
       "    month_year  review_count  tip_count\n",
       "0      01-2010           613         25\n",
       "1      01-2011          1103        297\n",
       "2      01-2012          1748        538\n",
       "3      01-2013          2196        548\n",
       "4      01-2014          2769        607\n",
       "..         ...           ...        ...\n",
       "149    12-2017          5970        441\n",
       "150    12-2018          7574        338\n",
       "151    12-2019          7591        275\n",
       "152    12-2020          5014        148\n",
       "153    12-2021          6937        122\n",
       "\n",
       "[154 rows x 3 columns]"
      ]
     },
     "execution_count": 38,
     "metadata": {},
     "output_type": "execute_result"
    }
   ],
   "source": [
    "low_rated_engagement"
   ]
  },
  {
   "cell_type": "code",
   "execution_count": 39,
   "id": "eb4d1366",
   "metadata": {
    "execution": {
     "iopub.execute_input": "2024-06-01T03:10:10.243220Z",
     "iopub.status.busy": "2024-06-01T03:10:10.242765Z",
     "iopub.status.idle": "2024-06-01T03:10:23.509604Z",
     "shell.execute_reply": "2024-06-01T03:10:23.507872Z"
    },
    "papermill": {
     "duration": 13.305394,
     "end_time": "2024-06-01T03:10:23.512529",
     "exception": false,
     "start_time": "2024-06-01T03:10:10.207135",
     "status": "completed"
    },
    "tags": []
   },
   "outputs": [],
   "source": [
    "time_rating = pd.read_sql_query(f\"\"\"SELECT strftime('%m-%Y', date) AS month_year, AVG(stars) as avg_rating\n",
    "FROM review\n",
    "WHERE business_id IN {tuple(business_id['business_id'])}\n",
    "GROUP BY month_year\n",
    "ORDER BY month_year\n",
    ";\"\"\", con)"
   ]
  },
  {
   "cell_type": "code",
   "execution_count": 40,
   "id": "ebe64dad",
   "metadata": {
    "execution": {
     "iopub.execute_input": "2024-06-01T03:10:23.583221Z",
     "iopub.status.busy": "2024-06-01T03:10:23.582735Z",
     "iopub.status.idle": "2024-06-01T03:10:23.597746Z",
     "shell.execute_reply": "2024-06-01T03:10:23.596375Z"
    },
    "papermill": {
     "duration": 0.05321,
     "end_time": "2024-06-01T03:10:23.600323",
     "exception": false,
     "start_time": "2024-06-01T03:10:23.547113",
     "status": "completed"
    },
    "tags": []
   },
   "outputs": [
    {
     "data": {
      "text/html": [
       "<div>\n",
       "<style scoped>\n",
       "    .dataframe tbody tr th:only-of-type {\n",
       "        vertical-align: middle;\n",
       "    }\n",
       "\n",
       "    .dataframe tbody tr th {\n",
       "        vertical-align: top;\n",
       "    }\n",
       "\n",
       "    .dataframe thead th {\n",
       "        text-align: right;\n",
       "    }\n",
       "</style>\n",
       "<table border=\"1\" class=\"dataframe\">\n",
       "  <thead>\n",
       "    <tr style=\"text-align: right;\">\n",
       "      <th></th>\n",
       "      <th>month_year</th>\n",
       "      <th>avg_rating</th>\n",
       "    </tr>\n",
       "  </thead>\n",
       "  <tbody>\n",
       "    <tr>\n",
       "      <th>0</th>\n",
       "      <td>01-2006</td>\n",
       "      <td>4.000000</td>\n",
       "    </tr>\n",
       "    <tr>\n",
       "      <th>1</th>\n",
       "      <td>01-2007</td>\n",
       "      <td>3.897436</td>\n",
       "    </tr>\n",
       "    <tr>\n",
       "      <th>2</th>\n",
       "      <td>01-2008</td>\n",
       "      <td>3.603960</td>\n",
       "    </tr>\n",
       "    <tr>\n",
       "      <th>3</th>\n",
       "      <td>01-2009</td>\n",
       "      <td>3.690661</td>\n",
       "    </tr>\n",
       "    <tr>\n",
       "      <th>4</th>\n",
       "      <td>01-2010</td>\n",
       "      <td>3.724194</td>\n",
       "    </tr>\n",
       "    <tr>\n",
       "      <th>...</th>\n",
       "      <td>...</td>\n",
       "      <td>...</td>\n",
       "    </tr>\n",
       "    <tr>\n",
       "      <th>198</th>\n",
       "      <td>12-2017</td>\n",
       "      <td>3.613415</td>\n",
       "    </tr>\n",
       "    <tr>\n",
       "      <th>199</th>\n",
       "      <td>12-2018</td>\n",
       "      <td>3.608687</td>\n",
       "    </tr>\n",
       "    <tr>\n",
       "      <th>200</th>\n",
       "      <td>12-2019</td>\n",
       "      <td>3.665246</td>\n",
       "    </tr>\n",
       "    <tr>\n",
       "      <th>201</th>\n",
       "      <td>12-2020</td>\n",
       "      <td>3.833701</td>\n",
       "    </tr>\n",
       "    <tr>\n",
       "      <th>202</th>\n",
       "      <td>12-2021</td>\n",
       "      <td>3.672673</td>\n",
       "    </tr>\n",
       "  </tbody>\n",
       "</table>\n",
       "<p>203 rows × 2 columns</p>\n",
       "</div>"
      ],
      "text/plain": [
       "    month_year  avg_rating\n",
       "0      01-2006    4.000000\n",
       "1      01-2007    3.897436\n",
       "2      01-2008    3.603960\n",
       "3      01-2009    3.690661\n",
       "4      01-2010    3.724194\n",
       "..         ...         ...\n",
       "198    12-2017    3.613415\n",
       "199    12-2018    3.608687\n",
       "200    12-2019    3.665246\n",
       "201    12-2020    3.833701\n",
       "202    12-2021    3.672673\n",
       "\n",
       "[203 rows x 2 columns]"
      ]
     },
     "execution_count": 40,
     "metadata": {},
     "output_type": "execute_result"
    }
   ],
   "source": [
    "time_rating"
   ]
  },
  {
   "cell_type": "code",
   "execution_count": 41,
   "id": "ba0b5506",
   "metadata": {
    "execution": {
     "iopub.execute_input": "2024-06-01T03:10:23.669654Z",
     "iopub.status.busy": "2024-06-01T03:10:23.668669Z",
     "iopub.status.idle": "2024-06-01T03:10:23.707805Z",
     "shell.execute_reply": "2024-06-01T03:10:23.706464Z"
    },
    "papermill": {
     "duration": 0.077198,
     "end_time": "2024-06-01T03:10:23.710758",
     "exception": false,
     "start_time": "2024-06-01T03:10:23.633560",
     "status": "completed"
    },
    "tags": []
   },
   "outputs": [],
   "source": [
    "time_rating['month_year'] = pd.to_datetime(time_rating['month_year'])\n",
    "time_rating.sort_values('month_year', inplace = True)\n",
    "time_rating = time_rating[time_rating['month_year'] > '2017']\n",
    "\n",
    "\n",
    "high_rated_engagement['month_year'] = pd.to_datetime(high_rated_engagement['month_year'])\n",
    "high_rated_engagement.sort_values('month_year', inplace = True)\n",
    "high_rated_engagement = high_rated_engagement[high_rated_engagement['month_year'] > '2017']\n",
    "\n",
    "\n",
    "low_rated_engagement['month_year'] = pd.to_datetime(low_rated_engagement['month_year'])\n",
    "low_rated_engagement.sort_values('month_year', inplace = True)\n",
    "low_rated_engagement = low_rated_engagement[low_rated_engagement['month_year'] > '2017']\n",
    "\n"
   ]
  },
  {
   "cell_type": "code",
   "execution_count": 42,
   "id": "49663d91",
   "metadata": {
    "execution": {
     "iopub.execute_input": "2024-06-01T03:10:23.781686Z",
     "iopub.status.busy": "2024-06-01T03:10:23.781183Z",
     "iopub.status.idle": "2024-06-01T03:10:23.788881Z",
     "shell.execute_reply": "2024-06-01T03:10:23.787720Z"
    },
    "papermill": {
     "duration": 0.046321,
     "end_time": "2024-06-01T03:10:23.791412",
     "exception": false,
     "start_time": "2024-06-01T03:10:23.745091",
     "status": "completed"
    },
    "tags": []
   },
   "outputs": [],
   "source": [
    "high_rated_engagement['avg_rating'] = time_rating['avg_rating'].values"
   ]
  },
  {
   "cell_type": "code",
   "execution_count": 43,
   "id": "7a1aa38e",
   "metadata": {
    "execution": {
     "iopub.execute_input": "2024-06-01T03:10:23.859912Z",
     "iopub.status.busy": "2024-06-01T03:10:23.859420Z",
     "iopub.status.idle": "2024-06-01T03:10:25.072435Z",
     "shell.execute_reply": "2024-06-01T03:10:25.071059Z"
    },
    "papermill": {
     "duration": 1.251192,
     "end_time": "2024-06-01T03:10:25.075681",
     "exception": false,
     "start_time": "2024-06-01T03:10:23.824489",
     "status": "completed"
    },
    "tags": []
   },
   "outputs": [
    {
     "data": {
      "image/png": "[encoded data removed]",
      "text/plain": [
       "<Figure size 1500x800 with 3 Axes>"
      ]
     },
     "metadata": {},
     "output_type": "display_data"
    }
   ],
   "source": [
    "plt.figure(figsize = (15, 8))\n",
    "plt.subplot(3, 1, 1)\n",
    "plt.title('Tip Engagement Over Time')\n",
    "plt.plot(high_rated_engagement['month_year'], high_rated_engagement['tip_count'], label = 'High Rated', color = '#E54F29')\n",
    "plt.plot(low_rated_engagement['month_year'], low_rated_engagement['tip_count'], label = 'Low Rated', color = '#F8862C')\n",
    "plt.legend()\n",
    "\n",
    "\n",
    "plt.subplot(3, 1, 2)\n",
    "plt.title('Review Engagement Over Time')\n",
    "plt.plot(high_rated_engagement['month_year'], high_rated_engagement['tip_count'], label = 'High Rated', color = '#E54F29')\n",
    "plt.plot(low_rated_engagement['month_year'], low_rated_engagement['tip_count'], label = 'Low Rated', color = '#F8862C')\n",
    "plt.legend()\n",
    "\n",
    "\n",
    "plt.subplot(3, 1, 3)\n",
    "plt.title('Avg Engagement Over Time')\n",
    "plt.plot(time_rating['month_year'], time_rating['avg_rating'], color = '#E54F29')\n",
    "plt.tight_layout()\n",
    "plt.show()\n"
   ]
  },
  {
   "cell_type": "code",
   "execution_count": 44,
   "id": "67153c71",
   "metadata": {
    "execution": {
     "iopub.execute_input": "2024-06-01T03:10:25.149952Z",
     "iopub.status.busy": "2024-06-01T03:10:25.149453Z",
     "iopub.status.idle": "2024-06-01T03:10:25.163052Z",
     "shell.execute_reply": "2024-06-01T03:10:25.161884Z"
    },
    "papermill": {
     "duration": 0.052986,
     "end_time": "2024-06-01T03:10:25.165556",
     "exception": false,
     "start_time": "2024-06-01T03:10:25.112570",
     "status": "completed"
    },
    "tags": []
   },
   "outputs": [],
   "source": [
    "tip_high_rated = high_rated_engagement[['month_year', 'tip_count']].set_index('month_year')\n",
    "review_high_rated = high_rated_engagement[['month_year', 'review_count']].set_index('month_year')\n",
    "rating_df = high_rated_engagement[['month_year', 'avg_rating']].set_index('month_year')"
   ]
  },
  {
   "cell_type": "code",
   "execution_count": 45,
   "id": "9fec0116",
   "metadata": {
    "execution": {
     "iopub.execute_input": "2024-06-01T03:10:25.238719Z",
     "iopub.status.busy": "2024-06-01T03:10:25.237192Z",
     "iopub.status.idle": "2024-06-01T03:10:28.515649Z",
     "shell.execute_reply": "2024-06-01T03:10:28.514264Z"
    },
    "papermill": {
     "duration": 3.319608,
     "end_time": "2024-06-01T03:10:28.520119",
     "exception": false,
     "start_time": "2024-06-01T03:10:25.200511",
     "status": "completed"
    },
    "tags": []
   },
   "outputs": [
    {
     "data": {
      "text/plain": [
       "<function matplotlib.pyplot.show(close=None, block=None)>"
      ]
     },
     "execution_count": 45,
     "metadata": {},
     "output_type": "execute_result"
    },
    {
     "data": {
      "image/png": "[encoded data removed]",
      "text/plain": [
       "<Figure size 1600x1200 with 4 Axes>"
      ]
     },
     "metadata": {},
     "output_type": "display_data"
    }
   ],
   "source": [
    "from statsmodels.tsa.seasonal import seasonal_decompose\n",
    "# Tip High Rated\n",
    "multiplicative_decomposition = seasonal_decompose(tip_high_rated, model = 'multiplixative', period = 12)\n",
    "plt.rcParams.update({'figure.figsize': (16, 12)})\n",
    "multiplicative_decomposition.plot()\n",
    "plt.show"
   ]
  },
  {
   "cell_type": "code",
   "execution_count": 46,
   "id": "3dd9a0bb",
   "metadata": {
    "execution": {
     "iopub.execute_input": "2024-06-01T03:10:28.604594Z",
     "iopub.status.busy": "2024-06-01T03:10:28.602812Z",
     "iopub.status.idle": "2024-06-01T03:10:31.696570Z",
     "shell.execute_reply": "2024-06-01T03:10:31.695183Z"
    },
    "papermill": {
     "duration": 3.139245,
     "end_time": "2024-06-01T03:10:31.701259",
     "exception": false,
     "start_time": "2024-06-01T03:10:28.562014",
     "status": "completed"
    },
    "tags": []
   },
   "outputs": [
    {
     "data": {
      "text/plain": [
       "<function matplotlib.pyplot.show(close=None, block=None)>"
      ]
     },
     "execution_count": 46,
     "metadata": {},
     "output_type": "execute_result"
    },
    {
     "data": {
      "image/png": "[encoded data removed]",
      "text/plain": [
       "<Figure size 1600x1200 with 4 Axes>"
      ]
     },
     "metadata": {},
     "output_type": "display_data"
    }
   ],
   "source": [
    "# Review Count\n",
    "\n",
    "multiplicative_decomposition = seasonal_decompose(review_high_rated, model = 'multiplixative', period = 12)\n",
    "plt.rcParams.update({'figure.figsize': (16, 12)})\n",
    "multiplicative_decomposition.plot()\n",
    "plt.show"
   ]
  },
  {
   "cell_type": "markdown",
   "id": "80665461",
   "metadata": {
    "papermill": {
     "duration": 0.041291,
     "end_time": "2024-06-01T03:10:31.785801",
     "exception": false,
     "start_time": "2024-06-01T03:10:31.744510",
     "status": "completed"
    },
    "tags": []
   },
   "source": [
    "### Q. How does the sentiment of reviews and tips (useful, funny, cool) correlate with the success metrics of restaurants?"
   ]
  },
  {
   "cell_type": "code",
   "execution_count": 47,
   "id": "6b6ed106",
   "metadata": {
    "execution": {
     "iopub.execute_input": "2024-06-01T03:10:31.871930Z",
     "iopub.status.busy": "2024-06-01T03:10:31.871001Z",
     "iopub.status.idle": "2024-06-01T03:10:45.276743Z",
     "shell.execute_reply": "2024-06-01T03:10:45.275409Z"
    },
    "papermill": {
     "duration": 13.452404,
     "end_time": "2024-06-01T03:10:45.279780",
     "exception": false,
     "start_time": "2024-06-01T03:10:31.827376",
     "status": "completed"
    },
    "tags": []
   },
   "outputs": [],
   "source": [
    "sentiment_df = pd.read_sql_query(f\"\"\"SELECT b.business_id, AVG(b.stars) as avg_rating, SUM(b.review_count) as review_count,\n",
    "SUM(s.useful_count) as useful_count,\n",
    "SUM(s.funny_count) as funny_count,\n",
    "SUM(s.cool_count) as cool_count\n",
    "FROM\n",
    "(SELECT business_id,\n",
    "    SUM(useful) as useful_count,\n",
    "    SUM(funny) as funny_count,\n",
    "    SUM(cool) as cool_count\n",
    "FROM\n",
    "    review\n",
    "GROUP BY business_id) as s\n",
    "JOIN business as b on b.business_id = s.business_id\n",
    "\n",
    "WHERE b.business_id IN {tuple(business_id['business_id'])}\n",
    "GROUP BY b.business_id\n",
    "ORDER BY review_count\"\"\", con)\n",
    "\n",
    "sentiment_df = remove_outliers(sentiment_df, 'review_count')\n",
    "sentiment_df = remove_outliers(sentiment_df, 'useful_count')\n",
    "sentiment_df = remove_outliers(sentiment_df, 'funny_count')\n",
    "sentiment_df = remove_outliers(sentiment_df, 'cool_count')"
   ]
  },
  {
   "cell_type": "code",
   "execution_count": 48,
   "id": "fee590d1",
   "metadata": {
    "execution": {
     "iopub.execute_input": "2024-06-01T03:10:45.364690Z",
     "iopub.status.busy": "2024-06-01T03:10:45.364173Z",
     "iopub.status.idle": "2024-06-01T03:10:47.246700Z",
     "shell.execute_reply": "2024-06-01T03:10:47.245453Z"
    },
    "papermill": {
     "duration": 1.928506,
     "end_time": "2024-06-01T03:10:47.249659",
     "exception": false,
     "start_time": "2024-06-01T03:10:45.321153",
     "status": "completed"
    },
    "tags": []
   },
   "outputs": [],
   "source": [
    "sentiment_df['success_score'] = calculate_success_metric(sentiment_df)"
   ]
  },
  {
   "cell_type": "code",
   "execution_count": 49,
   "id": "d9e29995",
   "metadata": {
    "execution": {
     "iopub.execute_input": "2024-06-01T03:10:47.333062Z",
     "iopub.status.busy": "2024-06-01T03:10:47.332642Z",
     "iopub.status.idle": "2024-06-01T03:10:47.788814Z",
     "shell.execute_reply": "2024-06-01T03:10:47.787430Z"
    },
    "papermill": {
     "duration": 0.502242,
     "end_time": "2024-06-01T03:10:47.791890",
     "exception": false,
     "start_time": "2024-06-01T03:10:47.289648",
     "status": "completed"
    },
    "tags": []
   },
   "outputs": [
    {
     "data": {
      "image/png": "[encoded data removed]",
      "text/plain": [
       "<Figure size 1600x1200 with 2 Axes>"
      ]
     },
     "metadata": {},
     "output_type": "display_data"
    }
   ],
   "source": [
    "sns.heatmap(sentiment_df.iloc[:,2:].corr(), cmap = custom_cmap, annot = True, linewidths = 0.5, linecolor = 'black')\n",
    "plt.show()"
   ]
  },
  {
   "cell_type": "markdown",
   "id": "c36ae490",
   "metadata": {
    "papermill": {
     "duration": 0.043511,
     "end_time": "2024-06-01T03:10:47.878537",
     "exception": false,
     "start_time": "2024-06-01T03:10:47.835026",
     "status": "completed"
    },
    "tags": []
   },
   "source": [
    "### Q. Is there any differences in engagement of elite users and non-elite users?"
   ]
  },
  {
   "cell_type": "code",
   "execution_count": 50,
   "id": "39f6d75b",
   "metadata": {
    "execution": {
     "iopub.execute_input": "2024-06-01T03:10:47.968408Z",
     "iopub.status.busy": "2024-06-01T03:10:47.967968Z",
     "iopub.status.idle": "2024-06-01T03:11:08.273229Z",
     "shell.execute_reply": "2024-06-01T03:11:08.271987Z"
    },
    "papermill": {
     "duration": 20.354241,
     "end_time": "2024-06-01T03:11:08.276307",
     "exception": false,
     "start_time": "2024-06-01T03:10:47.922066",
     "status": "completed"
    },
    "tags": []
   },
   "outputs": [],
   "source": [
    "elite_df = pd.read_sql_query(\"\"\"SELECT\n",
    "elite,\n",
    "COUNT(*) as row_count,\n",
    "SUM(review_count) as total_review_count\n",
    "FROM\n",
    "    (SELECT\n",
    "        CASE\n",
    "            WHEN elite = '' THEN 'Not Elite'\n",
    "            ELSE 'Elite'\n",
    "        END as elite,\n",
    "        u.review_count\n",
    "    FROM\n",
    "        user u) as user_elite\n",
    "GROUP BY\n",
    "    elite;\n",
    "\"\"\", con)"
   ]
  },
  {
   "cell_type": "code",
   "execution_count": 51,
   "id": "6600ff89",
   "metadata": {
    "execution": {
     "iopub.execute_input": "2024-06-01T03:11:08.361615Z",
     "iopub.status.busy": "2024-06-01T03:11:08.361161Z",
     "iopub.status.idle": "2024-06-01T03:11:08.373677Z",
     "shell.execute_reply": "2024-06-01T03:11:08.372335Z"
    },
    "papermill": {
     "duration": 0.058417,
     "end_time": "2024-06-01T03:11:08.376279",
     "exception": false,
     "start_time": "2024-06-01T03:11:08.317862",
     "status": "completed"
    },
    "tags": []
   },
   "outputs": [
    {
     "data": {
      "text/html": [
       "<div>\n",
       "<style scoped>\n",
       "    .dataframe tbody tr th:only-of-type {\n",
       "        vertical-align: middle;\n",
       "    }\n",
       "\n",
       "    .dataframe tbody tr th {\n",
       "        vertical-align: top;\n",
       "    }\n",
       "\n",
       "    .dataframe thead th {\n",
       "        text-align: right;\n",
       "    }\n",
       "</style>\n",
       "<table border=\"1\" class=\"dataframe\">\n",
       "  <thead>\n",
       "    <tr style=\"text-align: right;\">\n",
       "      <th></th>\n",
       "      <th>elite</th>\n",
       "      <th>row_count</th>\n",
       "      <th>total_review_count</th>\n",
       "    </tr>\n",
       "  </thead>\n",
       "  <tbody>\n",
       "    <tr>\n",
       "      <th>0</th>\n",
       "      <td>Elite</td>\n",
       "      <td>91198</td>\n",
       "      <td>20484441</td>\n",
       "    </tr>\n",
       "    <tr>\n",
       "      <th>1</th>\n",
       "      <td>Not Elite</td>\n",
       "      <td>1896699</td>\n",
       "      <td>26021235</td>\n",
       "    </tr>\n",
       "  </tbody>\n",
       "</table>\n",
       "</div>"
      ],
      "text/plain": [
       "       elite  row_count  total_review_count\n",
       "0      Elite      91198            20484441\n",
       "1  Not Elite    1896699            26021235"
      ]
     },
     "execution_count": 51,
     "metadata": {},
     "output_type": "execute_result"
    }
   ],
   "source": [
    "elite_df"
   ]
  },
  {
   "cell_type": "code",
   "execution_count": 52,
   "id": "3b644c13",
   "metadata": {
    "execution": {
     "iopub.execute_input": "2024-06-01T03:11:08.462475Z",
     "iopub.status.busy": "2024-06-01T03:11:08.461972Z",
     "iopub.status.idle": "2024-06-01T03:11:08.733878Z",
     "shell.execute_reply": "2024-06-01T03:11:08.732236Z"
    },
    "papermill": {
     "duration": 0.320542,
     "end_time": "2024-06-01T03:11:08.739509",
     "exception": false,
     "start_time": "2024-06-01T03:11:08.418967",
     "status": "completed"
    },
    "tags": []
   },
   "outputs": [
    {
     "data": {
      "image/png": "[encoded data removed]",
      "text/plain": [
       "<Figure size 1000x600 with 2 Axes>"
      ]
     },
     "metadata": {},
     "output_type": "display_data"
    }
   ],
   "source": [
    "# colors = ['#ADD8E6', '#4169E1', '#00008B']\n",
    "\n",
    "plt.figure(figsize = (10, 6))\n",
    "plt.subplot(1, 2, 1)\n",
    "plt.title('User Distribution')\n",
    "plt.pie(elite_df['row_count'], labels = elite_df['elite'], autopct = '%.2f', startangle = 180, colors = ['#ADD8E6', '#4169E1'])\n",
    "\n",
    "plt.subplot(1, 2, 2)\n",
    "plt.title('Review Distribution')\n",
    "plt.pie(elite_df['total_review_count'], labels = elite_df['elite'], autopct = '%.2f', startangle = 90, colors = ['#ADD8E6', '#4169E1'])\n",
    "\n",
    "plt.show()"
   ]
  },
  {
   "cell_type": "markdown",
   "id": "bf7bce81",
   "metadata": {
    "papermill": {
     "duration": 0.043345,
     "end_time": "2024-06-01T03:11:08.832906",
     "exception": false,
     "start_time": "2024-06-01T03:11:08.789561",
     "status": "completed"
    },
    "tags": []
   },
   "source": [
    "### Q. What are the busiest hours for restaurant?"
   ]
  },
  {
   "cell_type": "code",
   "execution_count": 53,
   "id": "be5d99b9",
   "metadata": {
    "execution": {
     "iopub.execute_input": "2024-06-01T03:11:08.924910Z",
     "iopub.status.busy": "2024-06-01T03:11:08.924450Z",
     "iopub.status.idle": "2024-06-01T03:16:42.800314Z",
     "shell.execute_reply": "2024-06-01T03:16:42.798646Z"
    },
    "papermill": {
     "duration": 333.973185,
     "end_time": "2024-06-01T03:16:42.850702",
     "exception": false,
     "start_time": "2024-06-01T03:11:08.877517",
     "status": "completed"
    },
    "tags": []
   },
   "outputs": [
    {
     "name": "stdout",
     "output_type": "stream",
     "text": [
      "Done\n"
     ]
    }
   ],
   "source": [
    "review_engagement = pd.read_sql_query(\"\"\"SELECT\n",
    "cast (strftime('%H', date) as integer)\n",
    "as hour,\n",
    "COUNT(*) as review_count\n",
    "FROM\n",
    "    review\n",
    "GROUP BY\n",
    "    hour;\n",
    "\"\"\", con)\n",
    "\n",
    "tip_engagement = pd.read_sql_query(\"\"\"SELECT\n",
    "cast (strftime('%H', date) as integer)\n",
    "as hour,\n",
    "COUNT(*) as tip_count\n",
    "FROM\n",
    "    tip\n",
    "GROUP BY\n",
    "    hour;\n",
    "\"\"\", con)\n",
    "\n",
    "checkin = pd.read_sql_query(\"\"\"SELECT date FROM checkin\"\"\", con)\n",
    "checkin_engagement = []\n",
    "for i in checkin['date']:\n",
    "    checkin_engagement.extend([datetime.strptime(j.strip(), \"%Y-%m-%d %H:%M:%S\").strftime('%H') for j in i.split(',')])\n",
    "checkin_engagement = pd.DataFrame(checkin_engagement).astype('int').groupby(0)[[0]].count()\n",
    "\n",
    "print('Done')"
   ]
  },
  {
   "cell_type": "code",
   "execution_count": 54,
   "id": "8e0dbbb0",
   "metadata": {
    "execution": {
     "iopub.execute_input": "2024-06-01T03:16:42.941349Z",
     "iopub.status.busy": "2024-06-01T03:16:42.940843Z",
     "iopub.status.idle": "2024-06-01T03:16:43.681493Z",
     "shell.execute_reply": "2024-06-01T03:16:43.680062Z"
    },
    "papermill": {
     "duration": 0.790878,
     "end_time": "2024-06-01T03:16:43.684802",
     "exception": false,
     "start_time": "2024-06-01T03:16:42.893924",
     "status": "completed"
    },
    "tags": []
   },
   "outputs": [
    {
     "data": {
      "image/png": "[encoded data removed]",
      "text/plain": [
       "<Figure size 1000x600 with 3 Axes>"
      ]
     },
     "metadata": {},
     "output_type": "display_data"
    }
   ],
   "source": [
    "plt.figure(figsize = (10, 6))\n",
    "plt.subplot(3, 1, 1)\n",
    "plt.title('Tip Engagement')\n",
    "plt.bar(tip_engagement['hour'], tip_engagement['tip_count'], color = '#00008B')\n",
    "\n",
    "\n",
    "plt.subplot(3, 1, 2)\n",
    "plt.title('Review Engagement')\n",
    "plt.bar(review_engagement['hour'], review_engagement['review_count'], color = '#4169E1')\n",
    "\n",
    "\n",
    "plt.subplot(3, 1, 3)\n",
    "plt.title('Checkin Engagement')\n",
    "plt.bar(checkin_engagement.index, checkin_engagement[0], color = '#ADD8E6')\n",
    "\n",
    "plt.tight_layout()\n",
    "plt.show()"
   ]
  }
 ],
 "metadata": {
  "kaggle": {
   "accelerator": "none",
   "dataSources": [
    {
     "datasetId": 10100,
     "sourceId": 3316532,
     "sourceType": "datasetVersion"
    }
   ],
   "dockerImageVersionId": 30698,
   "isGpuEnabled": false,
   "isInternetEnabled": false,
   "language": "python",
   "sourceType": "notebook"
  },
  "kernelspec": {
   "display_name": "Python 3",
   "language": "python",
   "name": "python3"
  },
  "language_info": {
   "codemirror_mode": {
    "name": "ipython",
    "version": 3
   },
   "file_extension": ".py",
   "mimetype": "text/x-python",
   "name": "python",
   "nbconvert_exporter": "python",
   "pygments_lexer": "ipython3",
   "version": "3.10.13"
  },
  "papermill": {
   "default_parameters": {},
   "duration": 1282.50695,
   "end_time": "2024-06-01T03:16:47.568438",
   "environment_variables": {},
   "exception": null,
   "input_path": "__notebook__.ipynb",
   "output_path": "__notebook__.ipynb",
   "parameters": {},
   "start_time": "2024-06-01T02:55:25.061488",
   "version": "2.5.0"
  }
 },
 "nbformat": 4,
 "nbformat_minor": 5
}
